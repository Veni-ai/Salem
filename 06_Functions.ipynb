{
 "cells": [
  {
   "cell_type": "markdown",
   "id": "08878d35",
   "metadata": {},
   "source": [
    "<h1>Welcome to the Python functions practical assessment! 🐍👨‍💻</h1>\n",
    "<p>In this assessment, you will be using your knowledge of Python functions to create a variety of <strong>fun and engaging programs</strong>. These programs will challenge you to think creatively and apply your programming skills to solve different types of problems.</p>\n",
    "<p><strong>Functions are a key concept in Python programming.</strong> They allow you to organize your code into reusable blocks and make your programs more modular and flexible. By creating functions for specific tasks, you can make your code easier to read, understand, and maintain. In this assessment, you will be using functions to create a variety of programs that range from text-based games to weather forecasting tools.</p>\n",
    "<p>We <em>encourage you to be creative and personalize your programs</em>. You can modify the assignments to fit your interests and skill level, and experiment with different ideas and approaches. Remember, the goal of this assessment is not only to test your knowledge of Python functions, but also to help you develop your programming skills and <strong>have fun along the way</strong>. 🎉</p>\n",
    "<p><strong>Good luck and have fun! 💪😄</strong></p>"
   ]
  },
  {
   "cell_type": "markdown",
   "id": "c8f960ec",
   "metadata": {
    "solution2": "hidden",
    "solution2_first": true
   },
   "source": [
    "<h2 style=\"color: #0066ff;\">Basketball Shooting Percentage</h2>\n",
    "<p>You want to keep track of your basketball shooting percentage during a game. Write a Python function that takes in the number of shots attempted and the number of shots made, and returns the shooting percentage as a decimal. 😎</p>"
   ]
  },
  {
   "cell_type": "markdown",
   "id": "f85595d9",
   "metadata": {
    "solution2": "hidden"
   },
   "source": [
    "\n"
   ]
  },
  {
   "cell_type": "code",
   "execution_count": 1,
   "id": "c79dcad9",
   "metadata": {
    "solution": "hidden",
    "solution2": "hidden",
    "solution2_first": true,
    "solution_first": true
   },
   "outputs": [],
   "source": [
    "def shooting_percentage(shots_attempted, shots_made):\n",
    "    \"\"\"\n",
    "    This function takes the number of shots attempted and the number of shots made and returns the shooting percentage as a decimal.\n",
    "    \"\"\"\n",
    "    if shots_attempted == 0:\n",
    "        return 0\n",
    "    else:\n",
    "        return shots_made / shots_attempted"
   ]
  },
  {
   "cell_type": "code",
   "execution_count": 2,
   "id": "0f99c820",
   "metadata": {},
   "outputs": [
    {
     "data": {
      "text/plain": [
       "0.6"
      ]
     },
     "execution_count": 2,
     "metadata": {},
     "output_type": "execute_result"
    }
   ],
   "source": [
    "shooting_percentage(10,6)"
   ]
  },
  {
   "cell_type": "markdown",
   "id": "fa161fe1",
   "metadata": {},
   "source": [
    "<h2 style=\"color: #0066ff;\">Coin Flip Simulator</h2>\n",
    "<p>You and your friend are arguing about the probability of flipping heads or tails on a coin. Write a Python function that simulates flipping a coin a certain number of times and returns the percentage of heads and tails. 🤔</p>"
   ]
  },
  {
   "cell_type": "code",
   "execution_count": 4,
   "id": "39778541",
   "metadata": {},
   "outputs": [],
   "source": [
    "import random\n",
    "\n",
    "def coin_flip(num_flips):\n",
    "    \"\"\"\n",
    "    This function simulates flipping a coin a certain number of times and returns the percentage of heads and tails.\n",
    "    \"\"\"\n",
    "    if num_flips <= 0:\n",
    "        return \"Number of flips should be greater than zero.\"\n",
    "    else:\n",
    "        heads = 0\n",
    "        tails = 0\n",
    "        for i in range(num_flips):\n",
    "            if random.random() < 0.5:\n",
    "                heads += 1\n",
    "            else:\n",
    "                tails += 1\n",
    "        head_percentage = (heads / num_flips) * 100\n",
    "        tail_percentage = (tails / num_flips) * 100\n",
    "        return f\"Heads: {head_percentage:.2f}%, Tails: {tail_percentage:.2f}%\""
   ]
  },
  {
   "cell_type": "code",
   "execution_count": 5,
   "id": "8ffc32a9",
   "metadata": {},
   "outputs": [
    {
     "data": {
      "text/plain": [
       "'Heads: 40.00%, Tails: 60.00%'"
      ]
     },
     "execution_count": 5,
     "metadata": {},
     "output_type": "execute_result"
    }
   ],
   "source": [
    "coin_flip(5)"
   ]
  },
  {
   "cell_type": "markdown",
   "id": "55b9467f",
   "metadata": {},
   "source": [
    "<h2 style=\"color: #0066ff;\">Temperature Converter</h2>\n",
    "<p>You are traveling to a country that uses Celsius instead of Fahrenheit. Write a Python function that takes in a temperature in Fahrenheit and converts it to Celsius. 🌡️</p>"
   ]
  },
  {
   "cell_type": "code",
   "execution_count": 13,
   "id": "0e32f6a4",
   "metadata": {},
   "outputs": [],
   "source": [
    "def fahren_celsius(fahrenheit):\n",
    "    celsius = (fahrenheit - 32)/1.8\n",
    "    print(str(fahrenheit )+ \" degree Fahrenheit is equal to \" + str(celsius ) + \" degree Celsius.\" )"
   ]
  },
  {
   "cell_type": "code",
   "execution_count": 17,
   "id": "960fab24",
   "metadata": {},
   "outputs": [
    {
     "name": "stdout",
     "output_type": "stream",
     "text": [
      "Enter the temperature in Fahrenheit:86\n",
      "86 degree Fahrenheit is equal to 30.0 degree Celsius.\n"
     ]
    }
   ],
   "source": [
    "fahrenheit = int(input('Enter the temperature in Fahrenheit:'))\n",
    "fahren_celsius(fahrenheit)"
   ]
  },
  {
   "cell_type": "markdown",
   "id": "805016f6",
   "metadata": {},
   "source": [
    "<h2 style=\"color: #0066ff;\">Movie Ratings</h2>\n",
    "<p>You and your friends are deciding on a movie to watch, but you have different opinions on what makes a good movie. Write a Python function that takes in a list of movie ratings and returns the average rating. 🎬🍿</p>\n"
   ]
  },
  {
   "cell_type": "code",
   "execution_count": 20,
   "id": "9186130a",
   "metadata": {},
   "outputs": [],
   "source": [
    "def average_rating(*args):\n",
    "    \"\"\"\n",
    "    This function takes in a list of movie ratings and returns the average rating.\n",
    "    \"\"\"\n",
    "    ratings = args\n",
    "    if not ratings:\n",
    "        return \"No ratings provided.\"\n",
    "    else:\n",
    "        total = 0\n",
    "        for rating in ratings:\n",
    "            total += rating\n",
    "        return total / len(ratings)"
   ]
  },
  {
   "cell_type": "code",
   "execution_count": 21,
   "id": "b61d93dd",
   "metadata": {},
   "outputs": [
    {
     "data": {
      "text/plain": [
       "4.4"
      ]
     },
     "execution_count": 21,
     "metadata": {},
     "output_type": "execute_result"
    }
   ],
   "source": [
    "average_rating(1,3,5,6,7)"
   ]
  },
  {
   "cell_type": "markdown",
   "id": "76ea3740",
   "metadata": {},
   "source": [
    "<h2 style=\"color: #0066ff;\">Calculator</h2>\n",
    "<p>You need to perform basic arithmetic calculations but don't have a calculator. Write a Python function that takes in two numbers and an operator (+, -, *, /) and returns the result of the calculation. 🔢</p>\n"
   ]
  },
  {
   "cell_type": "code",
   "execution_count": 23,
   "id": "93b0bbe4",
   "metadata": {},
   "outputs": [],
   "source": [
    "def calc(n1,n2,operator):\n",
    "    return eval(str(n1)+operator+str(n2))"
   ]
  },
  {
   "cell_type": "code",
   "execution_count": 25,
   "id": "beeaac57",
   "metadata": {},
   "outputs": [
    {
     "data": {
      "text/plain": [
       "7"
      ]
     },
     "execution_count": 25,
     "metadata": {},
     "output_type": "execute_result"
    }
   ],
   "source": [
    " calc(2,5,\"+\")"
   ]
  },
  {
   "cell_type": "markdown",
   "id": "ac7a0936",
   "metadata": {},
   "source": [
    "<h2 style=\"color: #0066ff;\">Hangman Game</h2>\n",
    "<p>You want to play a game of Hangman, but don't have anyone to play with. Write a Python function that generates a random word and allows the player to guess letters until they either guess the word or run out of guesses. 🤠</p>"
   ]
  },
  {
   "cell_type": "code",
   "execution_count": 28,
   "id": "354c5c61",
   "metadata": {},
   "outputs": [],
   "source": [
    "import random\n",
    "\n",
    "def hangman():\n",
    "    \"\"\"\n",
    "    This function generates a random word and allows the player to guess letters until they either guess the word or run out of guesses.\n",
    "    \"\"\"\n",
    "    # List of words to choose from\n",
    "    word_list = [\"apple\", \"banana\", \"cherry\", \"dragonfruit\", \"elderberry\", \"fig\", \"grape\", \"honeydew\", \"kiwi\", \"lemon\"]\n",
    "\n",
    "    # Select a random word\n",
    "    word = random.choice(word_list)\n",
    "\n",
    "    # Set up the game\n",
    "    guesses = []\n",
    "    turns = 6\n",
    "\n",
    "    # Start the game loop\n",
    "    while turns > 0:\n",
    "        # Print the current state of the game\n",
    "        print(\" \".join(letter if letter in guesses else \"_\" for letter in word))\n",
    "\n",
    "        # Ask the player for a guess\n",
    "        guess = input(\"Guess a letter: \")\n",
    "\n",
    "        # Check if the guess is in the word\n",
    "        if guess in word:\n",
    "            print(\"Correct!\")\n",
    "            guesses.append(guess)\n",
    "        else:\n",
    "            print(\"Incorrect.\")\n",
    "            turns -= 1\n",
    "\n",
    "        # Check if the player has guessed the entire word\n",
    "        if set(word) == set(guesses):\n",
    "            print(\"Congratulations, you guessed the word!\")\n",
    "            return\n",
    "\n",
    "    # If the loop completes without guessing the word, the game is over\n",
    "    print(\"Sorry, you ran out of guesses. The word was\", word)"
   ]
  },
  {
   "cell_type": "code",
   "execution_count": null,
   "id": "0a6aec75",
   "metadata": {},
   "outputs": [
    {
     "name": "stdout",
     "output_type": "stream",
     "text": [
      "_ _ _ _ _ _ _ _ _ _\n",
      "Guess a letter: s\n",
      "Incorrect.\n",
      "_ _ _ _ _ _ _ _ _ _\n",
      "Guess a letter: secret\n",
      "Incorrect.\n",
      "_ _ _ _ _ _ _ _ _ _\n",
      "Guess a letter: apple\n",
      "Incorrect.\n",
      "_ _ _ _ _ _ _ _ _ _\n",
      "Guess a letter: banana\n",
      "Incorrect.\n",
      "_ _ _ _ _ _ _ _ _ _\n",
      "Guess a letter: a e i g e r o t\n",
      "Incorrect.\n",
      "_ _ _ _ _ _ _ _ _ _\n",
      "Guess a letter: elderberry\n",
      "Correct!\n",
      "_ _ _ _ _ _ _ _ _ _\n"
     ]
    }
   ],
   "source": [
    "hangman()"
   ]
  },
  {
   "cell_type": "markdown",
   "id": "020efc2b",
   "metadata": {},
   "source": [
    "<h2 style=\"color: #0066ff;\">Password Generator</h2>\n",
    "<p>You need a strong password for a new account, but can't come up with one. Write a Python function that generates a random password of a certain length and complexity. 🔒</p>\n"
   ]
  },
  {
   "cell_type": "code",
   "execution_count": 10,
   "id": "b44f7b0a",
   "metadata": {},
   "outputs": [],
   "source": [
    "import random\n",
    "import string\n",
    "\n",
    "def generate_password(length, complexity):\n",
    "    # Define the character sets for each complexity level\n",
    "    if complexity == 'low':\n",
    "        chars = string.ascii_lowercase\n",
    "    elif complexity == 'medium':\n",
    "        chars = string.ascii_letters + string.digits\n",
    "    elif complexity == 'high':\n",
    "        chars = string.ascii_letters + string.digits + string.punctuation\n",
    "    else:\n",
    "        raise ValueError(\"Invalid complexity level\")\n",
    "\n",
    "    # Generate the password by selecting random characters from the character set\n",
    "    password = ''.join(random.choice(chars) for _ in range(length))\n",
    "    return password"
   ]
  },
  {
   "cell_type": "code",
   "execution_count": 11,
   "id": "ad16ff92",
   "metadata": {},
   "outputs": [
    {
     "ename": "ValueError",
     "evalue": "Invalid complexity level",
     "output_type": "error",
     "traceback": [
      "\u001b[1;31m---------------------------------------------------------------------------\u001b[0m",
      "\u001b[1;31mValueError\u001b[0m                                Traceback (most recent call last)",
      "Cell \u001b[1;32mIn[11], line 1\u001b[0m\n\u001b[1;32m----> 1\u001b[0m \u001b[43mgenerate_password\u001b[49m\u001b[43m(\u001b[49m\u001b[38;5;241;43m5\u001b[39;49m\u001b[43m,\u001b[49m\u001b[38;5;241;43m5\u001b[39;49m\u001b[43m)\u001b[49m\n",
      "Cell \u001b[1;32mIn[10], line 13\u001b[0m, in \u001b[0;36mgenerate_password\u001b[1;34m(length, complexity)\u001b[0m\n\u001b[0;32m     11\u001b[0m     chars \u001b[38;5;241m=\u001b[39m string\u001b[38;5;241m.\u001b[39mascii_letters \u001b[38;5;241m+\u001b[39m string\u001b[38;5;241m.\u001b[39mdigits \u001b[38;5;241m+\u001b[39m string\u001b[38;5;241m.\u001b[39mpunctuation\n\u001b[0;32m     12\u001b[0m \u001b[38;5;28;01melse\u001b[39;00m:\n\u001b[1;32m---> 13\u001b[0m     \u001b[38;5;28;01mraise\u001b[39;00m \u001b[38;5;167;01mValueError\u001b[39;00m(\u001b[38;5;124m\"\u001b[39m\u001b[38;5;124mInvalid complexity level\u001b[39m\u001b[38;5;124m\"\u001b[39m)\n\u001b[0;32m     15\u001b[0m \u001b[38;5;66;03m# Generate the password by selecting random characters from the character set\u001b[39;00m\n\u001b[0;32m     16\u001b[0m password \u001b[38;5;241m=\u001b[39m \u001b[38;5;124m'\u001b[39m\u001b[38;5;124m'\u001b[39m\u001b[38;5;241m.\u001b[39mjoin(random\u001b[38;5;241m.\u001b[39mchoice(chars) \u001b[38;5;28;01mfor\u001b[39;00m _ \u001b[38;5;129;01min\u001b[39;00m \u001b[38;5;28mrange\u001b[39m(length))\n",
      "\u001b[1;31mValueError\u001b[0m: Invalid complexity level"
     ]
    }
   ],
   "source": [
    "generate_password(5,5)"
   ]
  },
  {
   "cell_type": "markdown",
   "id": "51c03a47",
   "metadata": {},
   "source": [
    "<h2 style=\"color: #0066ff;\">Fibonacci Sequence</h2>\n",
    "<p>You're fascinated by the Fibonacci sequence and want to write a Python function that generates the sequence up to a certain number of terms. 🤩</p>\n"
   ]
  },
  {
   "cell_type": "code",
   "execution_count": 8,
   "id": "1d3a5876",
   "metadata": {},
   "outputs": [],
   "source": [
    "def generate_sequence(num_terms):\n",
    "    sequence = []\n",
    "    for i in range(num_terms):\n",
    "        if i == 0:\n",
    "            sequence.append(0)\n",
    "        elif i == 1:\n",
    "            sequence.append(1)\n",
    "        else:\n",
    "            sequence.append(sequence[i-1] + sequence[i-2])\n",
    "    return sequence"
   ]
  },
  {
   "cell_type": "code",
   "execution_count": 9,
   "id": "734ae17f",
   "metadata": {},
   "outputs": [
    {
     "data": {
      "text/plain": [
       "[0, 1, 1, 2, 3]"
      ]
     },
     "execution_count": 9,
     "metadata": {},
     "output_type": "execute_result"
    }
   ],
   "source": [
    "generate_sequence(5)"
   ]
  },
  {
   "cell_type": "markdown",
   "id": "4417d03f",
   "metadata": {},
   "source": [
    "<h2 style=\"color: #0066ff;\">BMI Calculator</h2>\n",
    "<p>You want to keep track of your body mass index (BMI) to maintain a healthy weight. Write a Python function that takes in your weight and height and calculates your BMI. 🏋️‍♀️</p>"
   ]
  },
  {
   "cell_type": "code",
   "execution_count": 12,
   "id": "cb87c05b",
   "metadata": {},
   "outputs": [
    {
     "name": "stdout",
     "output_type": "stream",
     "text": [
      "Enter your height in meters: 163\n",
      "Enter your weight in kg: 54\n",
      "Welcome to the BMI calculator.\n",
      "Your BMI is:  0.0\n",
      "You are underweight.\n"
     ]
    }
   ],
   "source": [
    "#Simple BMI calculator \n",
    "\n",
    "def bodymassindex(height, weight):\n",
    "    return round((weight / height**2),2)\n",
    "\n",
    "\n",
    "h = float(input(\"Enter your height in meters: \"))\n",
    "w = float(input(\"Enter your weight in kg: \"))\n",
    "\n",
    "\n",
    "print(\"Welcome to the BMI calculator.\")\n",
    "\n",
    "bmi = bodymassindex(h, w)\n",
    "print(\"Your BMI is: \", bmi)\n",
    "\n",
    "\n",
    "if bmi <= 18.5:\n",
    "    print(\"You are underweight.\")\n",
    "elif 18.5 < bmi <= 24.9:\n",
    "    print(\"Your weight is normal.\")\n",
    "elif 25 < bmi <= 29.29:\n",
    "    print(\"You are overweight.\")\n",
    "else:\n",
    "    print(\"You are obese.\")"
   ]
  },
  {
   "cell_type": "markdown",
   "id": "cfd732d3",
   "metadata": {},
   "source": [
    "<h2 style=\"color: #0066ff;\">Tic-Tac-Toe Game</h2>\n",
    "<p>You want to play a game of Tic-Tac-Toe, but don't have anyone to play with. Write a Python function that allows the player to play against the computer. 😎</p>\n"
   ]
  },
  {
   "cell_type": "code",
   "execution_count": 15,
   "id": "b6732405",
   "metadata": {},
   "outputs": [],
   "source": [
    "import random\n",
    "\n",
    "def rock_paper_scissors(user_action):\n",
    "    possible_actions = [\"rock\", \"paper\", \"scissors\"]\n",
    "    computer_action = random.choice(possible_actions)\n",
    "    print(f\"\\nYou chose {user_action}, computer chose {computer_action}.\\n\")\n",
    "\n",
    "    if user_action == computer_action:\n",
    "        print(f\"Both players selected {user_action}. It's a tie!\")\n",
    "    elif user_action == \"rock\":\n",
    "        if computer_action == \"scissors\":\n",
    "            print(\"Rock smashes scissors! You win!\")\n",
    "        else:\n",
    "            print(\"Paper covers rock! You lose.\")\n",
    "    elif user_action == \"paper\":\n",
    "        if computer_action == \"rock\":\n",
    "            print(\"Paper covers rock! You win!\")\n",
    "        else:\n",
    "            print(\"Scissors cuts paper! You lose.\")\n",
    "    elif user_action == \"scissors\":\n",
    "        if computer_action == \"paper\":\n",
    "            print(\"Scissors cuts paper! You win!\")\n",
    "        else:\n",
    "            print(\"Rock smashes scissors! You lose.\")"
   ]
  },
  {
   "cell_type": "code",
   "execution_count": 16,
   "id": "97266d47",
   "metadata": {},
   "outputs": [
    {
     "name": "stdout",
     "output_type": "stream",
     "text": [
      "Enter a choice (rock, paper, scissors): rock\n",
      "\n",
      "You chose rock, computer chose paper.\n",
      "\n",
      "Paper covers rock! You lose.\n"
     ]
    }
   ],
   "source": [
    "user_action = input(\"Enter a choice (rock, paper, scissors): \")\n",
    "rock_paper_scissors(user_action)"
   ]
  },
  {
   "cell_type": "markdown",
   "id": "81fa8a55",
   "metadata": {},
   "source": [
    "<h2 style=\"color: #0066ff;\">Number Guesser</h2>\n",
    "<p>You and your friends are playing a guessing game, where one person thinks of a number and the others try to guess it. Write a Python function that generates a random number and allows the player to guess until they guess the correct number. 🔢🤔</p>"
   ]
  },
  {
   "cell_type": "code",
   "execution_count": 24,
   "id": "129a52fa",
   "metadata": {},
   "outputs": [],
   "source": [
    "import random\n",
    "def guess_number(guess):\n",
    "    n = random.randrange(1,10)\n",
    "    while n!= guess:\n",
    "        if guess < n:\n",
    "            print(\"Too low\")\n",
    "            guess = int(input(\"Enter number again: \"))\n",
    "        elif guess > n:\n",
    "            print(\"Too high!\")\n",
    "            guess = int(input(\"Enter number again: \"))\n",
    "        else:\n",
    "            break\n",
    "    print(\"you guessed it right!!\")"
   ]
  },
  {
   "cell_type": "code",
   "execution_count": 25,
   "id": "9b492d26",
   "metadata": {},
   "outputs": [
    {
     "name": "stdout",
     "output_type": "stream",
     "text": [
      "Enter any number: 5\n",
      "Too low\n",
      "Enter number again: 9\n",
      "Too high!\n",
      "Enter number again: 7\n",
      "Too low\n",
      "Enter number again: 8\n",
      "you guessed it right!!\n"
     ]
    }
   ],
   "source": [
    "guess = int(input(\"Enter any number: \"))\n",
    "guess_number(guess)"
   ]
  },
  {
   "cell_type": "markdown",
   "id": "38793d9c",
   "metadata": {},
   "source": [
    "<h2 style=\"color: #0066ff;\">Hangover Helper</h2>\n",
    "<p>You had a rough night and need some help calculating the number of drinks you had and your blood alcohol content (BAC). Write a Python function that takes in your weight, the number and type of drinks, and the time period over which you drank, and returns your estimated BAC. 🍸🤢</p>"
   ]
  },
  {
   "cell_type": "code",
   "execution_count": 26,
   "id": "42361867",
   "metadata": {},
   "outputs": [],
   "source": [
    "def calculate_bac(weight, drinks, time_period):\n",
    "    # Define the alcohol metabolism rate (in grams of alcohol per hour) per kg of body weight\n",
    "    metabolism_rate = 0.015\n",
    "\n",
    "    # Calculate the total grams of alcohol consumed\n",
    "    total_grams = sum([drink['amount'] * drink['alcohol_content'] for drink in drinks])\n",
    "\n",
    "    # Calculate the grams of alcohol remaining after metabolism\n",
    "    time_elapsed = time_period.total_seconds() / 3600  # Convert time_period to hours\n",
    "    metabolism_factor = metabolism_rate * weight\n",
    "    remaining_grams = total_grams - (metabolism_factor * time_elapsed)\n",
    "\n",
    "    # Calculate the estimated BAC based on the remaining grams of alcohol and body weight\n",
    "    blood_volume = weight * 0.08  # Assume 8% of body weight is blood volume\n",
    "    bac = remaining_grams / (blood_volume * 1000)\n",
    "\n",
    "    return bac\n"
   ]
  },
  {
   "cell_type": "code",
   "execution_count": 28,
   "id": "46f3a470",
   "metadata": {},
   "outputs": [
    {
     "data": {
      "text/plain": [
       "0.00984375"
      ]
     },
     "execution_count": 28,
     "metadata": {},
     "output_type": "execute_result"
    }
   ],
   "source": [
    "from datetime import timedelta\n",
    "\n",
    "drinks = [{'amount': 355, 'alcohol_content': 0.05}, {'amount': 473, 'alcohol_content': 0.08}]  \n",
    "time_period = timedelta(hours=2)\n",
    "calculate_bac(68, drinks, time_period)\n"
   ]
  },
  {
   "cell_type": "markdown",
   "id": "4671f8c1",
   "metadata": {},
   "source": [
    "<h2 style=\"color: #0066ff;\">Calculating Even Numbers</h2>\n",
    "<p>Write a Python lambda function that takes a list of integers as input and returns a new list containing only the even numbers. 🧮</p>"
   ]
  },
  {
   "cell_type": "code",
   "execution_count": 30,
   "id": "d3dc2a1c",
   "metadata": {},
   "outputs": [
    {
     "name": "stdout",
     "output_type": "stream",
     "text": [
      "Original list of integers:\n",
      "[1, 2, 3, 4, 5, 6, 7, 8, 9, 10]\n",
      "\n",
      "Even numbers from the said list:\n",
      "[2, 4, 6, 8, 10]\n"
     ]
    }
   ],
   "source": [
    "nums = [1, 2, 3, 4, 5, 6, 7, 8, 9, 10]\n",
    "print(\"Original list of integers:\")\n",
    "print(nums)\n",
    "print(\"\\nEven numbers from the said list:\")\n",
    "even_nums = list(filter(lambda x: x%2 == 0, nums))\n",
    "print(even_nums)"
   ]
  },
  {
   "cell_type": "markdown",
   "id": "dfb5792d",
   "metadata": {},
   "source": [
    "<h2 style=\"color: #0066ff;\">Character Check</h2>\n",
    "<p>Create a Python lambda function that takes two arguments, a string and a character, and returns True if the character is in the string and False otherwise. 🔤</p>"
   ]
  },
  {
   "cell_type": "code",
   "execution_count": 31,
   "id": "6b614aa9",
   "metadata": {},
   "outputs": [
    {
     "data": {
      "text/plain": [
       "True"
      ]
     },
     "execution_count": 31,
     "metadata": {},
     "output_type": "execute_result"
    }
   ],
   "source": [
    "contains_char = lambda string, char: char in string\n",
    "contains_char('hello', 'e')"
   ]
  },
  {
   "cell_type": "markdown",
   "id": "aaea3a17",
   "metadata": {},
   "source": [
    "<h2 style=\"color: #0066ff;\">Vowel Collector</h2>\n",
    "<p>Write a Python lambda function that takes a list of strings as input and returns a new list containing only the strings that start with a vowel. 🌴</p>"
   ]
  },
  {
   "cell_type": "code",
   "execution_count": 32,
   "id": "e6643adb",
   "metadata": {},
   "outputs": [],
   "source": [
    "starts_with_vowel = lambda lst: list(filter(lambda s: s[0].lower() in ['a', 'e', 'i', 'o', 'u'], lst))"
   ]
  },
  {
   "cell_type": "code",
   "execution_count": 33,
   "id": "eafd68f8",
   "metadata": {},
   "outputs": [
    {
     "data": {
      "text/plain": [
       "['apple', 'orange']"
      ]
     },
     "execution_count": 33,
     "metadata": {},
     "output_type": "execute_result"
    }
   ],
   "source": [
    "lst = ['apple', 'banana', 'orange', 'pear', 'grape']\n",
    "starts_with_vowel(lst)"
   ]
  },
  {
   "cell_type": "markdown",
   "id": "72e8d016",
   "metadata": {},
   "source": [
    "<h2 style=\"color: #0066ff;\">Common Elements</h2>\n",
    "<p>Create a Python lambda function that takes two lists of integers as input and returns a new list containing the elements that are present in both input lists. 🧩</p>"
   ]
  },
  {
   "cell_type": "code",
   "execution_count": 41,
   "id": "8a5400fa",
   "metadata": {},
   "outputs": [
    {
     "name": "stdout",
     "output_type": "stream",
     "text": [
      "Original list:\n",
      "[1, 2, 3]\n",
      "[2, 3, 6]\n"
     ]
    },
    {
     "data": {
      "text/plain": [
       "[2, 3]"
      ]
     },
     "execution_count": 41,
     "metadata": {},
     "output_type": "execute_result"
    }
   ],
   "source": [
    "lst1 = [1, 2, 3]\n",
    "lst2 = [2, 3, 6]\n",
    "print(\"Original list:\")\n",
    "print(lst1)\n",
    "print(lst2)\n",
    "result = lambda lst1, lst2: list(filter(lambda x: x in lst2, lst1))\n",
    "result(lst1, lst2)"
   ]
  },
  {
   "cell_type": "code",
   "execution_count": null,
   "id": "dff06c6f",
   "metadata": {},
   "outputs": [],
   "source": []
  }
 ],
 "metadata": {
  "kernelspec": {
   "display_name": "Python 3 (ipykernel)",
   "language": "python",
   "name": "python3"
  },
  "language_info": {
   "codemirror_mode": {
    "name": "ipython",
    "version": 3
   },
   "file_extension": ".py",
   "mimetype": "text/x-python",
   "name": "python",
   "nbconvert_exporter": "python",
   "pygments_lexer": "ipython3",
   "version": "3.8.16"
  }
 },
 "nbformat": 4,
 "nbformat_minor": 5
}
