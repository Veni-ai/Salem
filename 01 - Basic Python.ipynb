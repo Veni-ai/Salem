{
 "cells": [
  {
   "cell_type": "markdown",
   "id": "8612048c",
   "metadata": {
    "heading_collapsed": true
   },
   "source": [
    "# <p>👋 Welcome to the Python Basics Exercise Notebook for Beginners! </p><hr>\n",
    "\n",
    "🚀 This notebook is designed to help you practice and improve your Python skills in the areas of literals and variables. 📝 It contains programs that cover a range of topics related to literals and variables, including data types, operators, input/output. 🤓 As you work through the programs, you'll gain a better understanding of key concepts discussed so far.\n",
    "\n",
    "💪 So, let's get started and strengthen your Python skills! 💪"
   ]
  },
  {
   "cell_type": "markdown",
   "id": "2fdeac98",
   "metadata": {
    "heading_collapsed": true,
    "hidden": true
   },
   "source": [
    "### *****All the answers are expected in the following format:*****\n"
   ]
  },
  {
   "cell_type": "markdown",
   "id": "6086514e",
   "metadata": {
    "hidden": true
   },
   "source": [
    "\n",
    "**Exercise 1:** Write a program to print the types of single literal in python. It should be printed using a relavant message.\n",
    "\n",
    "**Solution:**\n",
    "\n",
    "```python\n",
    "# Python program to take an input from the user and print the data type with relevant message.\n",
    "\n",
    "# Integer Literal\n",
    "Integer_literal = 2403\n",
    "# Using type() function to get the type of Integer_literal and printing it\n",
    "print(\"The literal type of Integer_literal is:\", type(Integer_literal).__name__)\n",
    "\n",
    "# String Literal\n",
    "String_literal = 'Hello World'\n",
    "# Using type() function to get the type of String_literal and printing it\n",
    "print(\"The literal type of String_literal is:\", type(String_literal).__name__)\n",
    "\n",
    "# Float Literal\n",
    "Float_literal = 1.00\n",
    "# Using type() function to get the type of Float_literal and printing it\n",
    "print(\"The literal type of Float_literal is:\", type(Float_literal).__name__)\n",
    "\n",
    "# Boolean Literal\n",
    "Boolean_literal = True\n",
    "# Using type() function to get the type of Boolean_literal and printing it\n",
    "print(\"The literal type of Boolean_literal is:\", type(Boolean_literal).__name__)\n",
    "\n",
    "```\n",
    "\n",
    "<p>In each print statement, the <code>type()</code> function is used to get the type of the respective literal, and the <code>__name__</code> attribute is used to retrieve the name of the type as a string, which is then printed along with a descriptive message in a comment above the statement.</p>"
   ]
  },
  {
   "cell_type": "markdown",
   "id": "9b0000e4",
   "metadata": {
    "heading_collapsed": true
   },
   "source": [
    "# <span style= color:red>Ex1.</span>"
   ]
  },
  {
   "cell_type": "markdown",
   "id": "e64764e1",
   "metadata": {
    "hidden": true
   },
   "source": [
    "<ol>\n",
    "    <li>Create four variables called <code>str_var</code>, <code>int_var</code>, <code>float_var</code>, and <code>bool_var</code> and assign them values of your choice (e.g. <code>str_var = \"Hello\"</code>, <code>int_var = 10</code>, <code>float_var = 1.5</code>, and <code>bool_var = True</code>)</li>\n",
    "    <li>Print the values of all the variables using <code>print()</code> statements with appropriate messages (e.g. <code>\"The value of str_var is: Hello\"</code>)</li>\n",
    "    <li>Swap the values of <code>int_var</code> and <code>float_var</code> using a temporary variable (i.e. create a temporary variable, assign <code>int_var</code> to it, assign <code>float_var</code> to <code>int_var</code>, and assign the value of the temporary variable to <code>float_var</code>)</li>\n",
    "    <li>Print the values of <code>int_var</code> and <code>float_var</code> after swapping them</li>\n",
    "    <li>Check the type of all the variables using the <code>type()</code> function and print the results with appropriate messages (e.g. <code>The type of str_var is: 'str'</code>)</li>\n",
    "</ol>"
   ]
  },
  {
   "cell_type": "code",
   "execution_count": 11,
   "id": "240179e8",
   "metadata": {},
   "outputs": [],
   "source": [
    "#Create four variables called str_var, int_var, float_var, and bool_var and assign them values of your choice (e.g. str_var = \"Hello\", int_var = 10, float_var = 1.5, and bool_var = True)\n",
    "str_var = 'Hello'\n",
    "int_var = 10\n",
    "float_var = 1.5\n",
    "bool_var = True"
   ]
  },
  {
   "cell_type": "code",
   "execution_count": 14,
   "id": "247dbf50",
   "metadata": {},
   "outputs": [
    {
     "name": "stdout",
     "output_type": "stream",
     "text": [
      "The value of str-var is: Hello\n",
      "The value of int-var is: 10\n",
      "The value of float-var is: 1.5\n"
     ]
    }
   ],
   "source": [
    "#Print the values of all the variables using print() statements with appropriate messages \n",
    "print(\"The value of str-var is:\", str_var)\n",
    "print(\"The value of int-var is:\", int_var)\n",
    "print(\"The value of float-var is:\", float_var)"
   ]
  },
  {
   "cell_type": "code",
   "execution_count": 15,
   "id": "42d9eafe",
   "metadata": {},
   "outputs": [
    {
     "name": "stdout",
     "output_type": "stream",
     "text": [
      "The value of int-var is: 1.5\n",
      "The value of float-var is: 10\n"
     ]
    }
   ],
   "source": [
    "#Print the values of int_var and float_var after swapping them\n",
    "#Use temp variable to swap the variables\n",
    "\n",
    "temp_var = int_var\n",
    "int_var  = float_var\n",
    "float_var = temp_var\n",
    "\n",
    "print(\"The value of int-var is:\", int_var)\n",
    "print(\"The value of float-var is:\", float_var)\n"
   ]
  },
  {
   "cell_type": "code",
   "execution_count": 17,
   "id": "05fe84d8",
   "metadata": {},
   "outputs": [
    {
     "name": "stdout",
     "output_type": "stream",
     "text": [
      "The literal type of str_var is: str\n"
     ]
    }
   ],
   "source": [
    "#Check the type of all the variables using the type() function and print the results with appropriate messages (e.g. The type of str_var is: 'str')\n",
    "\n",
    "# use type() function and __name__ attribute\n",
    "\n",
    "print(\"The literal type of str_var is:\", type(str_var).__name__)"
   ]
  },
  {
   "cell_type": "code",
   "execution_count": 19,
   "id": "9fd23a5f",
   "metadata": {},
   "outputs": [
    {
     "name": "stdout",
     "output_type": "stream",
     "text": [
      "The value of int-var is: 10\n",
      "The value of float-var is: 1.5\n"
     ]
    }
   ],
   "source": [
    "#Swap the variables \n",
    "#Use temp variable to swap the variables\n",
    "\n",
    "temp_var = float_var\n",
    "float_var  = int_var\n",
    "int_var = temp_var\n",
    "\n",
    "print(\"The value of int-var is:\", int_var)\n",
    "print(\"The value of float-var is:\", float_var)\n"
   ]
  },
  {
   "cell_type": "code",
   "execution_count": 22,
   "id": "f5710ae8",
   "metadata": {},
   "outputs": [
    {
     "name": "stdout",
     "output_type": "stream",
     "text": [
      "The literal type of str_var is: str\n",
      "The literal type of int_var is: int\n",
      "The literal type of float_var is: float\n"
     ]
    }
   ],
   "source": [
    "#Check the type of all the variables using the type() function and print the results with appropriate messages (e.g. The type of str_var is: 'str')\n",
    "\n",
    "# use type() function and __name__ attribute\n",
    "\n",
    "print(\"The literal type of str_var is:\", type(str_var).__name__)\n",
    "print(\"The literal type of int_var is:\", type(int_var).__name__)\n",
    "print(\"The literal type of float_var is:\", type(float_var).__name__)"
   ]
  },
  {
   "cell_type": "markdown",
   "id": "46df78ab",
   "metadata": {
    "heading_collapsed": true
   },
   "source": [
    "# <span style=color:red>Ex2.</span>"
   ]
  },
  {
   "cell_type": "code",
   "execution_count": null,
   "id": "28385c36",
   "metadata": {},
   "outputs": [],
   "source": []
  },
  {
   "cell_type": "markdown",
   "id": "04f4cb86",
   "metadata": {
    "hidden": true
   },
   "source": [
    "<ol><li>Create two variables <code>num1</code> and <code>num2</code> and assign them values of your choice (e.g. <code>num1 = 10</code> and <code>num2 = 5</code>)</li><li>Use the addition operator (<code>+</code>) to add <code>num1</code> and <code>num2</code> and store the result in a new variable called <code>sum</code></li><li>Use the subtraction operator (<code>-</code>) to subtract <code>num2</code> from <code>num1</code> and store the result in a new variable called <code>diff</code></li><li>Use the multiplication operator (<code>*</code>) to multiply <code>num1</code> and <code>num2</code> and store the result in a new variable called <code>prod</code></li><li>Use the division operator (<code>/</code>) to divide <code>num1</code> by <code>num2</code> and store the result in a new variable called <code>quot</code></li><li>Use the modulus operator (<code>%</code>) to find the remainder of <code>num1</code> divided by <code>num2</code> and store the result in a new variable called <code>rem</code></li><li>Use the exponentiation operator (<code>**</code>) to raise <code>num1</code> to the power of <code>num2</code> and store the result in a new variable called <code>power</code></li><li>Print the values of all the variables (<code>sum</code>, <code>diff</code>, <code>prod</code>, <code>quot</code>, <code>rem</code>, and <code>power</code>) using <code>print()</code> statements with appropriate messages.</li></ol>"
   ]
  },
  {
   "cell_type": "code",
   "execution_count": null,
   "id": "499cf5b8",
   "metadata": {
    "hidden": true
   },
   "outputs": [],
   "source": []
  },
  {
   "cell_type": "markdown",
   "id": "ce47b845",
   "metadata": {
    "heading_collapsed": true
   },
   "source": [
    "# <span style=color:red>Ex3.</span>"
   ]
  },
  {
   "cell_type": "markdown",
   "id": "de824712",
   "metadata": {
    "hidden": true
   },
   "source": [
    "\n",
    "<ol>\n",
    "    <li>Create two variables called <code>num1</code> and <code>num2</code> and assign them values of your choice (e.g. <code>num1 = 10</code> and <code>num2 = 5</code>)</li>\n",
    "    <li>Use the greater than operator (<code>&gt;</code>) to check if <code>num1</code> is greater than <code>num2</code> and store the result in a new variable called <code>greater</code></li>\n",
    "    <li>Use the less than operator (<code>&lt;</code>) to check if <code>num1</code> is less than <code>num2</code> and store the result in a new variable called <code>less</code></li>\n",
    "    <li>Use the greater than or equal to operator (<code>&gt;=</code>) to check if <code>num1</code> is greater than or equal to <code>num2</code> and store the result in a new variable called <code>greater_equal</code></li>\n",
    "    <li>Use the less than or equal to operator (<code>&lt;=</code>) to check if <code>num1</code> is less than or equal to <code>num2</code> and store the result in a new variable called <code>less_equal</code></li>\n",
    "    <li>Use the equal to operator (<code>==</code>) to check if <code>num1</code> is equal to <code>num2</code> and store the result in a new variable called <code>equal</code></li>\n",
    "    <li>Use the not equal to operator (<code>!=</code>) to check if <code>num1</code> is not equal to <code>num2</code> and store the result in a new variable called <code>not_equal</code></li>\n",
    "    <li>Print the values of all the variables (<code>greater</code>, <code>less</code>, <code>greater_equal</code>, <code>less_equal</code>, <code>equal</code>, and <code>not_equal</code>) using <code>print()</code> statements with appropriate messages</li>\n",
    "</ol>"
   ]
  },
  {
   "cell_type": "markdown",
   "id": "aeed22fb",
   "metadata": {
    "heading_collapsed": true
   },
   "source": [
    "# <span style= color:red>Ex4</span>"
   ]
  },
  {
   "cell_type": "markdown",
   "id": "444e85c3",
   "metadata": {
    "hidden": true
   },
   "source": [
    "<ol><li>Create a variable called <code>word</code> and assign it a string value of your choice (e.g. <code>word = \"apple\"</code>).</li><li>Use the membership operator <code>in</code> to check if the letter \"a\" is in <code>word</code>. Assign the result to a variable called <code>has_a</code>.</li><li>Use the membership operator <code>in</code> to check if the letter \"b\" is not in <code>word</code>. Assign the result to a variable called <code>no_b</code>.</li><li>Use the logical operator <code>and</code> to combine the <code>has_a</code> and <code>no_b</code> variables. Assign the result to a variable called <code>result</code>.</li><li>Print the values of <code>has_a</code>, <code>no_b</code>, and <code>result</code> using <code>print()</code> statements with appropriate messages.</li></ol>"
   ]
  },
  {
   "cell_type": "markdown",
   "id": "b05d6f30",
   "metadata": {
    "heading_collapsed": true
   },
   "source": [
    "# <span style=color:red>Ex"
   ]
  },
  {
   "cell_type": "markdown",
   "id": "32446dea",
   "metadata": {
    "hidden": true
   },
   "source": [
    "\n",
    "<p style=background-color:#f2f3f4;padding:25px;border-radius:1opx;color:#87a96b;font-size:20px>Write a program that prompts the user to enter two numbers and stores them in variables. Swap the values of the variables and print the new values.</p>"
   ]
  },
  {
   "cell_type": "markdown",
   "id": "24c0576f",
   "metadata": {
    "heading_collapsed": true
   },
   "source": [
    "# <span style=color:red>Ex"
   ]
  },
  {
   "cell_type": "markdown",
   "id": "bb9701f9",
   "metadata": {
    "hidden": true
   },
   "source": [
    "\n",
    "<p style=background-color:#f2f3f4;padding:25px;border-radius:1opx;color:#87a96b;font-size:20px>Write a program that prompts the user to enter their name and age. Store the name and age in variables and print a message that says \"Hello, [name]! You are [age] years old.\"</p>"
   ]
  },
  {
   "cell_type": "markdown",
   "id": "c90ecdde",
   "metadata": {
    "heading_collapsed": true
   },
   "source": [
    "# <span style=color:red>Ex"
   ]
  },
  {
   "cell_type": "markdown",
   "id": "d0106bab",
   "metadata": {
    "hidden": true
   },
   "source": [
    "\n",
    "<p style=background-color:#f2f3f4;padding:25px;border-radius:1opx;color:#87a96b;font-size:20px>    Write a program that prompts the user to enter a string and a number. Store the string and number in variables and print a message that says \"The string you entered is [string] and the number is [number].\""
   ]
  },
  {
   "cell_type": "markdown",
   "id": "adbdb349",
   "metadata": {
    "heading_collapsed": true
   },
   "source": [
    "# <span style=color:red>Ex"
   ]
  },
  {
   "cell_type": "markdown",
   "id": "f7e76a02",
   "metadata": {
    "hidden": true
   },
   "source": [
    "\n",
    "<p style=background-color:#f2f3f4;padding:25px;border-radius:1opx;color:#87a96b;font-size:20px>\n",
    "Write a program that calculates the area and perimeter of a rectangle. Prompt the user to enter the width and height of the rectangle and store them in variables. Calculate the area and perimeter using the variables and print the results.    "
   ]
  },
  {
   "cell_type": "markdown",
   "id": "98b82b01",
   "metadata": {
    "heading_collapsed": true
   },
   "source": [
    "# <span style=color:red>Ex"
   ]
  },
  {
   "cell_type": "markdown",
   "id": "6849177b",
   "metadata": {
    "hidden": true
   },
   "source": [
    "\n",
    "<p style=background-color:#f2f3f4;padding:25px;border-radius:1opx;color:#87a96b;font-size:20px>\n",
    "    Write a program that prompts the user to enter a string and reverses it using string slicing. Store the reversed string in a variable and print it."
   ]
  },
  {
   "cell_type": "markdown",
   "id": "c69206e9",
   "metadata": {
    "heading_collapsed": true
   },
   "source": [
    "# <span style=color:red>Ex"
   ]
  },
  {
   "cell_type": "markdown",
   "id": "e9a6ff9b",
   "metadata": {
    "hidden": true
   },
   "source": [
    "\n",
    "<p style=background-color:#f2f3f4;padding:25px;border-radius:1opx;color:#87a96b;font-size:20px>\n",
    "    Write a program that prompts the user to enter a number and checks if it is even or odd using the modulus operator."
   ]
  },
  {
   "cell_type": "markdown",
   "id": "bd902fed",
   "metadata": {
    "heading_collapsed": true
   },
   "source": [
    "# <span style=color:red>Ex"
   ]
  },
  {
   "cell_type": "markdown",
   "id": "c7d75598",
   "metadata": {
    "hidden": true
   },
   "source": [
    "\n",
    "<p style=background-color:#f2f3f4;padding:25px;border-radius:1opx;color:#87a96b;font-size:20px>\n",
    "    Write a program that prompts the user to enter a temperature in Fahrenheit and converts it to Celsius using the formula (F - 32) * 5/9. Store the result in a variable and print it."
   ]
  },
  {
   "cell_type": "markdown",
   "id": "ced731dc",
   "metadata": {},
   "source": [
    "# <p style=color:blue>End"
   ]
  }
 ],
 "metadata": {
  "kernelspec": {
   "display_name": "Python 3 (ipykernel)",
   "language": "python",
   "name": "python3"
  },
  "language_info": {
   "codemirror_mode": {
    "name": "ipython",
    "version": 3
   },
   "file_extension": ".py",
   "mimetype": "text/x-python",
   "name": "python",
   "nbconvert_exporter": "python",
   "pygments_lexer": "ipython3",
   "version": "3.8.16"
  }
 },
 "nbformat": 4,
 "nbformat_minor": 5
}
