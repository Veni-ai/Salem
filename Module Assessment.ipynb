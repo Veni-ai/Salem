{
 "cells": [
  {
   "cell_type": "markdown",
   "id": "462702e5",
   "metadata": {
    "heading_collapsed": true
   },
   "source": [
    "# Jupyter Notebook"
   ]
  },
  {
   "cell_type": "markdown",
   "id": "5bfbc6b2",
   "metadata": {
    "hidden": true
   },
   "source": [
    "## What is Jupyter Notebook?\n"
   ]
  },
  {
   "cell_type": "markdown",
   "id": "cda1cf9a",
   "metadata": {},
   "source": [
    "<h1><font color=pink>\n",
    "The Jupyter Notebook is the original web application for creating and sharing computational documents. It offers a simple, streamlined, document-centric experience. Try it in your browser Install the Notebook.\n",
    "pink</font></h1>"
   ]
  },
  {
   "cell_type": "markdown",
   "id": "bd065724",
   "metadata": {
    "hidden": true
   },
   "source": [
    "## List few features of Jupyter Notebook: - "
   ]
  },
  {
   "cell_type": "markdown",
   "id": "dfef1c06",
   "metadata": {},
   "source": [
    "<h1><font color=pink>\n",
    "1.The Jupyter Notebook is an open-source web application; that enables data scientists to create and share documents that include live code, equations, computational output, visualizations, multimedia resources, and explanatory text\n",
    "</font></h1>"
   ]
  },
  {
   "cell_type": "markdown",
   "id": "7421b3a0",
   "metadata": {
    "hidden": true
   },
   "source": [
    "## What are cells in Jupyter Notebook? "
   ]
  },
  {
   "cell_type": "markdown",
   "id": "c95e9c92",
   "metadata": {},
   "source": [
    "<h1><font color=pink>\n",
    "1.Code Cells<br>\n",
    "2.Markdown Cells <br>\n",
    "3.Raw Cells\n",
    "</font></h1>"
   ]
  },
  {
   "cell_type": "markdown",
   "id": "0cb96b4a",
   "metadata": {
    "hidden": true
   },
   "source": [
    "## How can you create a new notebook in Jupyter?"
   ]
  },
  {
   "cell_type": "markdown",
   "id": "7f4fad37",
   "metadata": {},
   "source": [
    "<h1><font color=pink>\n",
    "You can create a Jupyter Notebook by running the Create: New Jupyter Notebook command from the Command Palette (Ctrl+Shift+P) or by creating a new .ipynb file in your workspace.\n",
    "</font></h1>"
   ]
  },
  {
   "cell_type": "markdown",
   "id": "534f397d",
   "metadata": {
    "hidden": true
   },
   "source": [
    "## What are some common use cases for Jupyter Notebook?"
   ]
  },
  {
   "cell_type": "markdown",
   "id": "d59f4219",
   "metadata": {},
   "source": [
    "<h1><font color=pink>\n",
    "Jupyter Notebook is an open-source web application that allows users to create and share documents containing live code, equations, visualizations and narrative text. Uses include: data cleaning and transformation, numerical simulation, statistical modeling, data visualization, and machine learning.\n",
    "</font></h1>"
   ]
  },
  {
   "cell_type": "markdown",
   "id": "a35c0705",
   "metadata": {
    "hidden": true
   },
   "source": [
    "## What makes Jupyter Notebook more powerful than other IDEs?"
   ]
  },
  {
   "cell_type": "markdown",
   "id": "5836070b",
   "metadata": {},
   "source": [
    "<h1><font color=pink>\n",
    "In the notebook, every cell of the code can be potentially checked at any time to draw an output. Because of this, unlike other standard IDEs like PyCHarm, VSCode, Jupyter helps in in-line printing of the output, which becomes extremely useful for exploratory data analysis (EDA) process.\n",
    "</font></h1>"
   ]
  },
  {
   "cell_type": "markdown",
   "id": "58a14921",
   "metadata": {
    "hidden": true
   },
   "source": [
    "## What is the difference between Jupyter and Spyder?"
   ]
  },
  {
   "cell_type": "markdown",
   "id": "0fe75018",
   "metadata": {},
   "source": [
    "<h1><font color=pink>\n",
    "Jupyter is an interactive Python notebook where you can run code, visualize data and include text all in one document, while Spyder is an IDE specifically for scientific programming in Python. Consider Jupyter if you work on data-driven projects where you need to easily present data to a non-technical audience.\n",
    "</font></h1>"
   ]
  },
  {
   "cell_type": "markdown",
   "id": "01d9fc80",
   "metadata": {
    "hidden": true
   },
   "source": [
    "## What are the various types of views available in Jupyter Notebook?"
   ]
  },
  {
   "cell_type": "markdown",
   "id": "94c48ab8",
   "metadata": {
    "hidden": true
   },
   "source": [
    "## What is the difference between Markdown cells and Code cells in Jupyter? Which one would you recommend using and why?"
   ]
  },
  {
   "cell_type": "markdown",
   "id": "8e44d88f",
   "metadata": {
    "hidden": true
   },
   "source": [
    "<h1><font color=pink>\n",
    "You can run Markdown cells in the same way that you can run code cells. However, when you run a Markdown cell, the text formatted using Markdown syntax will be rendered as stylized text. This means that headings are larger and bold, bulleted lists have bullets next to them instead of * , and regular text looks normal.\n",
    "</font></h1>"
   ]
  },
  {
   "cell_type": "markdown",
   "id": "96f1766e",
   "metadata": {
    "heading_collapsed": true
   },
   "source": [
    "# Python"
   ]
  },
  {
   "cell_type": "markdown",
   "id": "27128562",
   "metadata": {
    "hidden": true
   },
   "source": [
    "## What is Python. Explain why it is the language for Data Science?"
   ]
  },
  {
   "cell_type": "markdown",
   "id": "000d4319",
   "metadata": {},
   "source": [
    "<h1><font color=purple>\n",
    "Python is a general-purpose programming language, meaning it can be used in the development of both web and desktop applications. It's also useful in the development of complex numeric and scientific applications.\n",
    "</font></h1>"
   ]
  },
  {
   "cell_type": "markdown",
   "id": "5c1ac6fa",
   "metadata": {
    "hidden": true
   },
   "source": [
    "## What are the two main components of Python Programming languages?"
   ]
  },
  {
   "cell_type": "markdown",
   "id": "9e3e2b40",
   "metadata": {},
   "source": [
    "<h1><font color=purple>\n",
    "Expression: An Expression is a phrase of code that Python assesses to produce a value. ...\n",
    "Statements: It is a logical unit of code that can be executed by the Python interpreter. ...\n",
    "Comments: As programs get bigger and more complicated, they get harder to read.\n",
    "</font></h1>"
   ]
  },
  {
   "cell_type": "markdown",
   "id": "07708f5a",
   "metadata": {
    "hidden": true
   },
   "source": [
    "## What are literals in Python? State commonly used Literals."
   ]
  },
  {
   "cell_type": "markdown",
   "id": "df340759",
   "metadata": {},
   "source": [
    "<h1><font color=purple>\n",
    "Literals in Python is defined as the raw data assigned to variables or constants while programming. We mainly have five types of literals which includes string literals, numeric literals, boolean literals, literal collections and a special literal None.\n",
    "</font></h1>"
   ]
  },
  {
   "cell_type": "markdown",
   "id": "ae7d9e2e",
   "metadata": {
    "hidden": true
   },
   "source": [
    "## Explain the concept of Variables!!"
   ]
  },
  {
   "cell_type": "markdown",
   "id": "4cca0099",
   "metadata": {},
   "source": [
    "<h1><font color=purple>\n",
    "A Python variable is a symbolic name that is a reference or pointer to an object. Once an object is assigned to a variable, you can refer to the object by that name.\n",
    "</font></h1>"
   ]
  },
  {
   "cell_type": "markdown",
   "id": "e678f6d4",
   "metadata": {
    "hidden": true
   },
   "source": [
    "## What is meant by Identifiers in Programming languages?"
   ]
  },
  {
   "cell_type": "markdown",
   "id": "40e886b0",
   "metadata": {},
   "source": [
    "<h1><font color=purple>\n",
    "What are Python Identifiers? Python Identifier is the name we give to identify a variable, function, class, module or other object. That means whenever we want to give an entity a name, that's called identifier.\n",
    "</font></h1>"
   ]
  },
  {
   "cell_type": "markdown",
   "id": "8b6c57c4",
   "metadata": {
    "hidden": true
   },
   "source": [
    "## State different types of operators and their usage(e.g.) in python. "
   ]
  },
  {
   "cell_type": "markdown",
   "id": "99519f66",
   "metadata": {},
   "source": []
  },
  {
   "cell_type": "markdown",
   "id": "f341730a",
   "metadata": {
    "hidden": true
   },
   "source": [
    "## What is the difference between '==' and 'is' operators in Python?\n"
   ]
  },
  {
   "cell_type": "markdown",
   "id": "5a756805",
   "metadata": {},
   "source": [
    "<h1><font color=purple>\n",
    " “is” would return to be True when both the variables point towards the very same object and “==” would return to be True when the objects that are referred to by the available variables\n",
    "are equal.\n",
    "</font></h1>"
   ]
  },
  {
   "cell_type": "markdown",
   "id": "8b53b55b",
   "metadata": {
    "hidden": true
   },
   "source": [
    "## What are Data Structures in Python? "
   ]
  },
  {
   "cell_type": "markdown",
   "id": "68ec49c0",
   "metadata": {},
   "source": [
    "<h1><font color=purple>\n",
    "The basic Python data structures in Python include list, set, tuples, and dictionary. Each of the data structures is unique in its own way. Data structures are “containers” that organize and group data according to type. The data structures differ based on mutability and order.\n",
    "</font></h1>"
   ]
  },
  {
   "cell_type": "markdown",
   "id": "ccad4640",
   "metadata": {
    "heading_collapsed": true,
    "hidden": true
   },
   "source": [
    "## What are Lists? Why are they useful and to create a list?"
   ]
  },
  {
   "cell_type": "markdown",
   "id": "4ba80f15",
   "metadata": {},
   "source": [
    "<h1><font color=purple>\n",
    "Lists are used to store multiple items in a single variable. Lists are one of 4 built-in data types in Python used to store collections of data, the other 3 are Tuple, Set, and Dictionary, all with different qualities and usage.\n",
    "</font></h1>"
   ]
  },
  {
   "cell_type": "markdown",
   "id": "05578b7f",
   "metadata": {
    "hidden": true
   },
   "source": [
    "### Create a list of your favorite colors and print the list to the console."
   ]
  },
  {
   "cell_type": "code",
   "execution_count": 2,
   "id": "d682e2c7",
   "metadata": {},
   "outputs": [
    {
     "name": "stdout",
     "output_type": "stream",
     "text": [
      "Original set elements:\n",
      "\n",
      "{'White', 'Red', 'Black'}\n",
      "{'Green', 'Red'}\n",
      "\n",
      "Differenct of color_list_1 and color_list_2:\n",
      "{'White', 'Black'}\n",
      "\n",
      "Differenct of color_list_2 and color_list_1:\n",
      "{'Green'}\n"
     ]
    }
   ],
   "source": [
    "\n",
    "color_list_1 = set([\"White\", \"Black\", \"Red\"])\n",
    "color_list_2 = set([\"Red\", \"Green\"])\n",
    "print(\"Original set elements:\\n\")\n",
    "print(color_list_1)\n",
    "print(color_list_2)\n",
    "print(\"\\nDifferenct of color_list_1 and color_list_2:\")\n",
    "print(color_list_1.difference(color_list_2))\n",
    "print(\"\\nDifferenct of color_list_2 and color_list_1:\")\n",
    "print(color_list_2.difference(color_list_1))\n"
   ]
  },
  {
   "cell_type": "markdown",
   "id": "7ae8aa80",
   "metadata": {
    "hidden": true
   },
   "source": [
    "### How do you create an empty list in Python?"
   ]
  },
  {
   "cell_type": "code",
   "execution_count": 5,
   "id": "03f519c7",
   "metadata": {},
   "outputs": [
    {
     "data": {
      "text/plain": [
       "0"
      ]
     },
     "execution_count": 5,
     "metadata": {},
     "output_type": "execute_result"
    }
   ],
   "source": [
    "num = []\n",
    "len(num)"
   ]
  },
  {
   "cell_type": "markdown",
   "id": "2ef8ec9c",
   "metadata": {
    "hidden": true
   },
   "source": [
    "### Create an empty list and append an element to it."
   ]
  },
  {
   "cell_type": "code",
   "execution_count": 7,
   "id": "939efec9",
   "metadata": {},
   "outputs": [
    {
     "data": {
      "text/plain": [
       "['abc']"
      ]
     },
     "execution_count": 7,
     "metadata": {},
     "output_type": "execute_result"
    }
   ],
   "source": [
    "list1 = []\n",
    "list1.append('abc')\n",
    "list1"
   ]
  },
  {
   "cell_type": "markdown",
   "id": "2034eaf1",
   "metadata": {
    "hidden": true
   },
   "source": [
    "### How do you add an element to a list in Python?"
   ]
  },
  {
   "cell_type": "code",
   "execution_count": 19,
   "id": "5772351c",
   "metadata": {},
   "outputs": [
    {
     "name": "stdout",
     "output_type": "stream",
     "text": [
      "Enter number of lists: 2\n",
      "\n",
      "Enter elements: 1\n",
      "\n",
      "Enter elements: 2\n",
      "List: \n",
      " [['1'], ['2']]\n"
     ]
    }
   ],
   "source": [
    "# Code to take input of a list\n",
    "# from the user.\n",
    "\n",
    "# Take the input of the size of the list\n",
    "n = int (input (\"Enter number of lists: \")) \n",
    "\n",
    "# Declare an empty list.\n",
    "list = []\n",
    "\n",
    "# Iterate for 'n' times\n",
    "for i in range(n):\n",
    "    # Delare another empty list \n",
    "    tempList = [] \n",
    "\n",
    "    # Take input and store in tempList\n",
    "    tempList = input(\"\\nEnter elements: \").split()\n",
    "\n",
    "    # Append 'tempList' to 'list'.\n",
    "    list.append (tempList)\n",
    "\n",
    "# Printing the list\n",
    "print(\"List: \\n\", list)"
   ]
  },
  {
   "cell_type": "markdown",
   "id": "bf492d1d",
   "metadata": {
    "hidden": true
   },
   "source": [
    "###  Create a list of your favorite movies and add a new movie to the end of the list using the append() method."
   ]
  },
  {
   "cell_type": "code",
   "execution_count": 20,
   "id": "53eb4c28",
   "metadata": {},
   "outputs": [
    {
     "name": "stdout",
     "output_type": "stream",
     "text": [
      "Enter number of movies: 2\n",
      "\n",
      "Enter movies: 3 idiots\n",
      "\n",
      "Enter movies: pathan\n",
      "Movie List: \n",
      " [['3', 'idiots'], ['pathan']]\n"
     ]
    }
   ],
   "source": [
    "# Code to take input of a list\n",
    "# from the user.\n",
    "\n",
    "# Take the input of the size of the movie\n",
    "n = int (input (\"Enter number of movies: \")) \n",
    "\n",
    "# Declare an empty list.\n",
    "list = []\n",
    "\n",
    "# Iterate for 'n' times\n",
    "for i in range(n):\n",
    "    # Delare another empty list \n",
    "    tempList = [] \n",
    "\n",
    "    # Take input and store in temp movie List\n",
    "    tempList = input(\"\\nEnter movies: \").split()\n",
    "\n",
    "    # Append 'temp movie List' to 'movie list'.\n",
    "    list.append (tempList)\n",
    "\n",
    "# Printing the movie list\n",
    "print(\"Movie List: \\n\", list)"
   ]
  },
  {
   "cell_type": "markdown",
   "id": "ac903771",
   "metadata": {
    "hidden": true
   },
   "source": [
    "### How do you remove an element from a list in Python?"
   ]
  },
  {
   "cell_type": "code",
   "execution_count": 22,
   "id": "fc0d3327",
   "metadata": {},
   "outputs": [
    {
     "name": "stdout",
     "output_type": "stream",
     "text": [
      "Original List:  [2, 3, 5, 7, 9, 11]\n",
      "Updated List:  [2, 3, 5, 7, 11]\n"
     ]
    }
   ],
   "source": [
    "# create a list\n",
    "prime_numbers = [2, 3, 5, 7, 9, 11]\n",
    "\n",
    "# Original prime_numbers List\n",
    "print('Original List: ', prime_numbers)\n",
    "\n",
    "# remove 9 from the list\n",
    "prime_numbers.remove(9)\n",
    "\n",
    "\n",
    "# Updated prime_numbers List\n",
    "print('Updated List: ', prime_numbers)\n"
   ]
  },
  {
   "cell_type": "markdown",
   "id": "0dff89a8",
   "metadata": {
    "hidden": true
   },
   "source": [
    "### Create a list of your favorite books and remove a book from the list using the remove() method."
   ]
  },
  {
   "cell_type": "code",
   "execution_count": 24,
   "id": "9524d571",
   "metadata": {},
   "outputs": [
    {
     "name": "stdout",
     "output_type": "stream",
     "text": [
      "Original Book List:  ['3 idiots', '2 States', 'Ponniyin Selvan']\n",
      "Updated book List:  ['3 idiots', 'Ponniyin Selvan']\n"
     ]
    }
   ],
   "source": [
    "# create a book list\n",
    "books = ['3 idiots','2 States','Ponniyin Selvan']\n",
    "\n",
    "# Original book List\n",
    "print('Original Book List: ', books)\n",
    "\n",
    "# remove 2 States from the list\n",
    "books.remove('2 States')\n",
    "\n",
    "\n",
    "# Updated book List\n",
    "print('Updated book List: ', books)\n"
   ]
  },
  {
   "cell_type": "markdown",
   "id": "e3ebdd3b",
   "metadata": {
    "hidden": true
   },
   "source": [
    "### How do you access a specific element in a list in Python?"
   ]
  },
  {
   "cell_type": "markdown",
   "id": "57c8d041",
   "metadata": {
    "hidden": true
   },
   "source": [
    "### Create a list of your favorite animals and print the second and fourth elements in the list."
   ]
  },
  {
   "cell_type": "markdown",
   "id": "a265f6c8",
   "metadata": {
    "hidden": true
   },
   "source": [
    "### How do you check if an element is in a list in Python?"
   ]
  },
  {
   "cell_type": "markdown",
   "id": "ebb66612",
   "metadata": {
    "hidden": true
   },
   "source": [
    "###  Create a list of your favorite fruits and check if \"banana\" is in the list."
   ]
  },
  {
   "cell_type": "markdown",
   "id": "4ff4f20a",
   "metadata": {
    "hidden": true
   },
   "source": [
    "### How do you find the length of a list in Python?\n"
   ]
  },
  {
   "cell_type": "markdown",
   "id": "1c894e80",
   "metadata": {
    "hidden": true
   },
   "source": [
    "### Create a list of your favorite cities and print the length of the list."
   ]
  },
  {
   "cell_type": "markdown",
   "id": "745a5e3a",
   "metadata": {
    "hidden": true
   },
   "source": [
    "### How do you sort a list in Python?\n"
   ]
  },
  {
   "cell_type": "markdown",
   "id": "8e96fdb9",
   "metadata": {
    "hidden": true
   },
   "source": [
    "### Create a list of numbers and sort the list in descending order."
   ]
  },
  {
   "cell_type": "markdown",
   "id": "77da7195",
   "metadata": {
    "hidden": true
   },
   "source": [
    "### How do you reverse a list in Python?\n"
   ]
  },
  {
   "cell_type": "markdown",
   "id": "d16b836a",
   "metadata": {
    "hidden": true
   },
   "source": [
    "### Create a list of letters and reverse the order of the list."
   ]
  },
  {
   "cell_type": "markdown",
   "id": "55547827",
   "metadata": {
    "hidden": true
   },
   "source": [
    "### How do you slice a list in Python?\n"
   ]
  },
  {
   "cell_type": "markdown",
   "id": "0fd30c15",
   "metadata": {
    "hidden": true
   },
   "source": [
    "### Create a list of your favorite foods and print a slice of the list containing the second, third, and fourth elements."
   ]
  },
  {
   "cell_type": "markdown",
   "id": "96f6effb",
   "metadata": {
    "heading_collapsed": true,
    "hidden": true
   },
   "source": [
    "## What is meant by indexing and slicing in python? State the slicing operator."
   ]
  },
  {
   "cell_type": "markdown",
   "id": "2081d566",
   "metadata": {
    "hidden": true
   },
   "source": [
    "### Write a python code to slice ‘h’ ‘e’ ‘l’ ‘l’ ‘ o’ from the given elements [4,1,5,’e’,’h’,’l’,’l’,’q’,’p’,’😊’,’o’].\n",
    "(Use Proper Documentation)\n"
   ]
  },
  {
   "cell_type": "code",
   "execution_count": 1,
   "id": "3dc5fcbd",
   "metadata": {
    "hidden": true
   },
   "outputs": [
    {
     "data": {
      "text/plain": [
       "['h', 'e', 'l', 'l', 'o']"
      ]
     },
     "execution_count": 1,
     "metadata": {},
     "output_type": "execute_result"
    }
   ],
   "source": []
  },
  {
   "cell_type": "code",
   "execution_count": null,
   "id": "f51b3c2b",
   "metadata": {
    "hidden": true
   },
   "outputs": [],
   "source": []
  },
  {
   "cell_type": "markdown",
   "id": "bd24d178",
   "metadata": {
    "heading_collapsed": true,
    "hidden": true
   },
   "source": [
    "## Tuples"
   ]
  },
  {
   "cell_type": "markdown",
   "id": "c1fe6934",
   "metadata": {
    "hidden": true
   },
   "source": [
    "### What is a tuple in Python?"
   ]
  },
  {
   "cell_type": "markdown",
   "id": "d88a3dc8",
   "metadata": {
    "hidden": true
   },
   "source": [
    "### Practical Exercise: Create a tuple of three integers and print the tuple."
   ]
  },
  {
   "cell_type": "markdown",
   "id": "3496146f",
   "metadata": {
    "hidden": true
   },
   "source": [
    "### How do you create an empty tuple in Python?\n",
    "### Create an empty tuple and print it.\n"
   ]
  },
  {
   "cell_type": "markdown",
   "id": "f5a3ac0a",
   "metadata": {
    "hidden": true
   },
   "source": [
    "### How do you access a specific element in a tuple in Python?\n",
    "\n",
    "### Create a tuple of 5 elements and access the third element.\n"
   ]
  },
  {
   "cell_type": "markdown",
   "id": "e91c2dd4",
   "metadata": {
    "hidden": true
   },
   "source": [
    "### How do you check if an element is in a tuple in Python?\n",
    "\n",
    "### Create a tuple of strings and check if the string 'apple' is present in the tuple.\n"
   ]
  },
  {
   "cell_type": "markdown",
   "id": "e2856f2b",
   "metadata": {
    "hidden": true
   },
   "source": [
    "### How do you find the length of a tuple in Python?\n",
    "\n",
    "### Create a tuple of 7 elements and find its length.\n"
   ]
  },
  {
   "cell_type": "markdown",
   "id": "8d154106",
   "metadata": {
    "hidden": true
   },
   "source": [
    "### How do you concatenate two tuples in Python?\n",
    "\n",
    "### Create two tuples, concatenate them and print the resulting tuple.\n"
   ]
  },
  {
   "cell_type": "markdown",
   "id": "703e2d13",
   "metadata": {
    "hidden": true
   },
   "source": [
    "### How do you convert a list into a tuple in Python?\n",
    "\n",
    "### Create a list of 4 elements, convert it into a tuple and print the tuple.\n"
   ]
  },
  {
   "cell_type": "markdown",
   "id": "9547070a",
   "metadata": {
    "hidden": true
   },
   "source": [
    "### How do you convert a tuple into a list in Python?\n",
    "\n",
    "### Create a tuple of 6 elements, convert it into a list and print the list.\n"
   ]
  },
  {
   "cell_type": "markdown",
   "id": "c8be4e84",
   "metadata": {
    "hidden": true
   },
   "source": [
    "### How do you sort a tuple in Python?\n",
    "\n",
    "### Create a tuple of 5 integers, sort the tuple in ascending order and print the sorted tuple."
   ]
  },
  {
   "cell_type": "markdown",
   "id": "77615478",
   "metadata": {
    "hidden": true
   },
   "source": [
    "### How do you reverse a tuple in Python?\n",
    "### Create a tuple of 6 elements, reverse the order of elements and print the resulting tuple."
   ]
  },
  {
   "cell_type": "code",
   "execution_count": null,
   "id": "b66c9620",
   "metadata": {
    "hidden": true
   },
   "outputs": [],
   "source": []
  },
  {
   "cell_type": "markdown",
   "id": "b60c3ef3",
   "metadata": {
    "hidden": true
   },
   "source": [
    "#### What is the difference between a list and a tuple in Python?"
   ]
  },
  {
   "cell_type": "markdown",
   "id": "bdc5727d",
   "metadata": {
    "heading_collapsed": true,
    "hidden": true
   },
   "source": [
    "## Strings"
   ]
  },
  {
   "cell_type": "markdown",
   "id": "eefaf0f1",
   "metadata": {
    "hidden": true
   },
   "source": [
    "### How do you check if a string contains a specific substring in Python?\n",
    "### Practical exercise: Write a Python function to check if a given substring is present in a given string.\n"
   ]
  },
  {
   "cell_type": "markdown",
   "id": "f1846cdb",
   "metadata": {
    "hidden": true
   },
   "source": [
    "\n",
    "### How do you split a string into a list of substrings in Python?\n",
    "### Practical exercise: Write a Python function that takes a string as input and returns a list of all the words in the string.\n",
    "\n"
   ]
  },
  {
   "cell_type": "markdown",
   "id": "12798559",
   "metadata": {
    "hidden": true
   },
   "source": [
    "### How do you join a list of strings into a single string in Python?\n",
    "### Practical exercise: Write a Python function that takes a list of strings as input and returns a single string that is the concatenation of all the strings in the list.\n"
   ]
  },
  {
   "cell_type": "markdown",
   "id": "dfeef2eb",
   "metadata": {
    "hidden": true
   },
   "source": [
    "### How do you find the length of a string in Python?\n",
    "\n",
    "### Practical exercise: Write a Python function that takes a string as input and returns the length of the string.\n"
   ]
  },
  {
   "cell_type": "markdown",
   "id": "14367573",
   "metadata": {
    "hidden": true
   },
   "source": [
    "### How do you replace a substring in a string with another substring in Python?\n",
    "\n",
    "### Practical exercise: Write a Python function that takes a string, a substring to be replaced, and a replacement substring as inputs and returns the string with the specified replacements.\n"
   ]
  },
  {
   "cell_type": "markdown",
   "id": "f7a9d6c2",
   "metadata": {
    "hidden": true
   },
   "source": [
    "### How do you convert a string to uppercase or lowercase in Python?\n",
    "\n",
    "### Write a Python function that takes a string as input and returns a new string that is all uppercase."
   ]
  },
  {
   "cell_type": "markdown",
   "id": "76f94b4c",
   "metadata": {
    "hidden": true
   },
   "source": [
    "\n",
    "### How do you remove whitespace from the beginning or end of a string in Python?\n",
    "### Write a Python function that takes a string as input and returns a new string with any leading or trailing whitespace removed.\n"
   ]
  },
  {
   "cell_type": "markdown",
   "id": "3e41b6e8",
   "metadata": {
    "hidden": true
   },
   "source": [
    "### How do you reverse a string in Python?\n",
    "\n",
    "### Write a Python function that takes a string as input and returns a new string that is the reverse of the input string.\n"
   ]
  },
  {
   "cell_type": "markdown",
   "id": "79d803bd",
   "metadata": {
    "hidden": true
   },
   "source": [
    "### How do you count the occurrences of a substring in a string in Python?\n",
    "\n",
    "### Write a Python function that takes a string and a substring as inputs and returns the number of times the substring occurs in the string.\n"
   ]
  },
  {
   "cell_type": "markdown",
   "id": "60052b69",
   "metadata": {
    "hidden": true
   },
   "source": [
    "###  How do you compare two strings in Python?\n",
    "\n",
    "### Write a Python function that takes two strings as inputs and returns True if they are equal and False if they are not equal."
   ]
  },
  {
   "cell_type": "markdown",
   "id": "2e3743c0",
   "metadata": {
    "heading_collapsed": true,
    "hidden": true
   },
   "source": [
    "## Dictionary"
   ]
  },
  {
   "cell_type": "markdown",
   "id": "99e3e584",
   "metadata": {
    "hidden": true
   },
   "source": [
    "### What is a dictionary in Python, and what are some use cases for dictionaries in data science?\n",
    "### Practical Exercise: Create a dictionary to store the names and ages of five people, and then print out the names and ages in a formatted manner.\n"
   ]
  },
  {
   "cell_type": "code",
   "execution_count": null,
   "id": "8780a93e",
   "metadata": {
    "hidden": true
   },
   "outputs": [],
   "source": []
  },
  {
   "cell_type": "markdown",
   "id": "d47286da",
   "metadata": {
    "hidden": true
   },
   "source": [
    "### How do you create an empty dictionary in Python, and what is the syntax for adding key-value pairs to a dictionary?\n",
    "\n",
    "### Practical Exercise: Create an empty dictionary and add at least three key-value pairs to it, then print out the dictionary to verify that the values have been added correctly."
   ]
  },
  {
   "cell_type": "code",
   "execution_count": null,
   "id": "95a09a25",
   "metadata": {
    "hidden": true
   },
   "outputs": [],
   "source": []
  },
  {
   "cell_type": "markdown",
   "id": "dc2a6212",
   "metadata": {
    "hidden": true
   },
   "source": [
    "\n",
    "### How do you remove a key-value pair from a dictionary in Python?\n",
    "### Practical Exercise: Create a dictionary with at least five key-value pairs, and then remove one of the key-value pairs. Print out the updated dictionary to verify that the key-value pair has been removed.\n"
   ]
  },
  {
   "cell_type": "code",
   "execution_count": null,
   "id": "a5ef5f97",
   "metadata": {
    "hidden": true
   },
   "outputs": [],
   "source": []
  },
  {
   "cell_type": "markdown",
   "id": "6fcc4ae7",
   "metadata": {
    "hidden": true
   },
   "source": [
    "### How do you access a specific value in a dictionary in Python, given its corresponding key?\n",
    "\n",
    "### Practical Exercise: Create a dictionary with at least five key-value pairs, and then access the value associated with a specific key. Print out the value to verify that you have accessed it correctly.\n"
   ]
  },
  {
   "cell_type": "code",
   "execution_count": null,
   "id": "fa6282b4",
   "metadata": {
    "hidden": true
   },
   "outputs": [],
   "source": []
  },
  {
   "cell_type": "markdown",
   "id": "466d433e",
   "metadata": {
    "hidden": true
   },
   "source": [
    "### How do you check if a key exists in a dictionary in Python?\n",
    "\n",
    "### Practical Exercise: Create a dictionary with at least five key-value pairs, and then check if a specific key exists in the dictionary. Print out a message indicating whether or not the key exists.\n"
   ]
  },
  {
   "cell_type": "code",
   "execution_count": null,
   "id": "44fba76f",
   "metadata": {
    "hidden": true
   },
   "outputs": [],
   "source": []
  },
  {
   "cell_type": "markdown",
   "id": "5003f5e2",
   "metadata": {
    "hidden": true
   },
   "source": [
    "### How do you find the number of key-value pairs in a dictionary in Python?\n",
    "\n",
    "### Practical Exercise: Create a dictionary with at least five key-value pairs, and then find the number of key-value pairs using a built-in Python function. Print out the number of key-value pairs.\n"
   ]
  },
  {
   "cell_type": "code",
   "execution_count": null,
   "id": "fe274a0c",
   "metadata": {
    "hidden": true
   },
   "outputs": [],
   "source": []
  },
  {
   "cell_type": "markdown",
   "id": "9eb3d24c",
   "metadata": {
    "hidden": true
   },
   "source": [
    "### How do you iterate over the keys and values of a dictionary in Python?\n",
    "\n",
    "### Practical Exercise: Create a dictionary with at least five key-value pairs, and then use a for loop to iterate over the keys and values. Print out each key-value pair in a formatted manner.\n"
   ]
  },
  {
   "cell_type": "code",
   "execution_count": null,
   "id": "93596224",
   "metadata": {
    "hidden": true
   },
   "outputs": [],
   "source": []
  },
  {
   "cell_type": "markdown",
   "id": "93dcac1d",
   "metadata": {
    "hidden": true
   },
   "source": [
    "### How do you sort a dictionary by its keys or values in Python?\n",
    "\n",
    "### Practical Exercise: Create a dictionary with at least five key-value pairs, and then sort the dictionary by either the keys or the values using a built-in Python function. Print out the sorted dictionary.\n"
   ]
  },
  {
   "cell_type": "code",
   "execution_count": null,
   "id": "0f7fe027",
   "metadata": {
    "hidden": true
   },
   "outputs": [],
   "source": []
  },
  {
   "cell_type": "markdown",
   "id": "51c5d5df",
   "metadata": {
    "hidden": true
   },
   "source": [
    "### How do you merge two dictionaries in Python?\n",
    "### Practical Exercise: Create two dictionaries with at least three key-value pairs each, and then merge them into a single dictionary using a built-in Python function. Print out the merged dictionary.\n"
   ]
  },
  {
   "cell_type": "code",
   "execution_count": null,
   "id": "d9cddce4",
   "metadata": {
    "hidden": true
   },
   "outputs": [],
   "source": []
  },
  {
   "cell_type": "markdown",
   "id": "beb269a0",
   "metadata": {
    "hidden": true
   },
   "source": [
    "###  How do you convert a dictionary to a list in Python?\n",
    "### Practical Exercise: Create a dictionary with at least five key-value pairs, and then convert it to a list using a built-in Python function. Print out the list to verify that the conversion was successful."
   ]
  },
  {
   "cell_type": "code",
   "execution_count": null,
   "id": "f118e191",
   "metadata": {
    "hidden": true
   },
   "outputs": [],
   "source": []
  },
  {
   "cell_type": "markdown",
   "id": "271d4007",
   "metadata": {
    "hidden": true
   },
   "source": [
    "## Statistics"
   ]
  },
  {
   "cell_type": "markdown",
   "id": "7312e503",
   "metadata": {},
   "source": [
    "# Statistics And Analysis\n",
    "Checked on your resume it shows you have worked on analysis. Kindly showcase your Experience.\n"
   ]
  },
  {
   "cell_type": "markdown",
   "id": "294f5f8c",
   "metadata": {},
   "source": [
    "### In order to satisfy this assessment, you produce a plan that answers the questions listed -\n"
   ]
  },
  {
   "cell_type": "markdown",
   "id": "25c9a7ce",
   "metadata": {},
   "source": [
    "#### Part One: \n",
    "1. Identify a decision that requires, or would be enhanced by, data analysis.\n",
    "2. What is the situation?\n",
    "3. What are the parameters or options in the decision?\n",
    "4. Who are the key stakeholders?\n",
    "5. How do you hope or expect data to help illuminate your decision?"
   ]
  },
  {
   "cell_type": "markdown",
   "id": "a5f830cb",
   "metadata": {},
   "source": [
    "Data analysis is essential to ensure an accurate decision-making process. That includesdesigning and implementing institutional policies and measures that can affect different groups of individuals. In this case, I will be analyzing data on the demographic information of individuals who are degree holders in Tamilnadu State. With this information, it will be possible to access whether there exists (a) unemployed in the number of degree holders and (b) make inferences regarding job oppertunities in the State. With that, the indicated policy making institutions can decide on whether to implement new job oppertunities to eliminate unemployment in Tamilnadu.Recent news points out that 97% of people arrested in Tamilnadu are educated. Taking into consideration that the unemployement population in the India is 13.4%, and 14.1% in Tamilnadu only, the need to understand why this unemployment exists becomes fundamental. Additionally, according to the NAACP, One out of every three degree holder today can expect to be unemployed in tamilnadu, compared 1 out 6 Andhra degree holders; one out of 17 Maharastra degree holders. Upon analyzing this question, a decision on whether the criminal justice policies regulations and procedures should be changed needs to be made based on findings from this and additional studies in order to eliminate all kinds of unemployment in the state. The stakeholders involved in this decision are Tamilnadu educated degree holders, unemployed in Tamilnadu, and Tamilnadu employment Exchange.The analysis of this situation in context and its respective data will allow readers to visualize whether there exists a unemployment in Tamilnadu and from therebe able to have a better understanding of how unemployment have been affecting the economy in Tamilnadu. I am hoping that this analysis leads to the arrangement of Job oppertunities."
   ]
  },
  {
   "cell_type": "markdown",
   "id": "c64d4707",
   "metadata": {},
   "source": [
    "#### Part Two: Descriptive Stats\n",
    "- Perform Descriptive Stats on the Data\n",
    "- Explain the Data\n",
    "- Visualise the data.\n",
    "\n",
    "1. What is the sample size of the data set and why is it important?\n",
    "2. What is the shape of the data?\n",
    "3. What are the measures of central tendency and variability and how do they help us understand the data?\n",
    "4. Are there any outliers in the data and how should they be treated?\n",
    "5. What are the relationships between the variables in the data set and how can they be visualized?\n",
    "6. Are there any patterns or trends in the data and how can they be interpreted?\n",
    "7. How do the descriptive statistics help us make informed decisions based on the data?\n",
    "\n"
   ]
  },
  {
   "cell_type": "markdown",
   "id": "3726a82d",
   "metadata": {},
   "source": [
    "### Example Problem Statement"
   ]
  },
  {
   "cell_type": "markdown",
   "id": "6b271e3e",
   "metadata": {},
   "source": [
    "<b>Introduction:</b>\n",
    "\n",
    "The online retail industry has grown rapidly over the past few years, leading to increased competition among businesses. In order to stay competitive, online retail stores need to understand their sales trends and customer behavior. In this case study, we will analyze the sales data of an online retail store for the past year. The sales data is recorded in a spreadsheet, which includes important information such as the date of sale, the item sold, the price of the item, and the customer’s location. The goal of this analysis is to gain insights into the sales trends and customer behavior, which will help the online retail store make informed business decisions.\n",
    "\n",
    "\n",
    "<em>It is expected that you use a problem statement related to field you have already worked or the field you would like to work in. </em>"
   ]
  }
 ],
 "metadata": {
  "kernelspec": {
   "display_name": "Python 3 (ipykernel)",
   "language": "python",
   "name": "python3"
  },
  "language_info": {
   "codemirror_mode": {
    "name": "ipython",
    "version": 3
   },
   "file_extension": ".py",
   "mimetype": "text/x-python",
   "name": "python",
   "nbconvert_exporter": "python",
   "pygments_lexer": "ipython3",
   "version": "3.8.16"
  }
 },
 "nbformat": 4,
 "nbformat_minor": 5
}
