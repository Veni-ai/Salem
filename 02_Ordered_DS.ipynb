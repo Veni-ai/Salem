{
 "cells": [
  {
   "cell_type": "markdown",
   "id": "2616118b",
   "metadata": {
    "heading_collapsed": true
   },
   "source": [
    "##### Submission Details"
   ]
  },
  {
   "cell_type": "markdown",
   "id": "71e774ba",
   "metadata": {
    "hidden": true
   },
   "source": [
    "To submit your work, you must complete each section of the project in a separate Jupyter Notebook. Each notebook must be visually appealing and properly documented. This means that you should include explanatory comments, use clear and readable code formatting, and incorporate any necessary visualizations or markdown to help convey your ideas. By following these guidelines, you can create a polished and professional project that will effectively showcase your skills and knowledge."
   ]
  },
  {
   "cell_type": "markdown",
   "id": "d60a5d5e",
   "metadata": {
    "heading_collapsed": true
   },
   "source": [
    "# <p style= font-size:30px;padding:15px><span style=color:blue;font-size:35px>Str</span><span style=color:green> Exercises.</p>"
   ]
  },
  {
   "cell_type": "markdown",
   "id": "4785e387",
   "metadata": {
    "hidden": true
   },
   "source": [
    "1. Create a string that says \"python is powerful\".\n",
    "\n",
    "2. What is the length of the string?\n",
    "\n",
    "3. Capitalize the string!!\n",
    "\n",
    "4. Title case the string!!\n",
    "\n",
    "5. Swap the case of the string!!\n",
    "\n",
    "6. Count how many times the letter \"o\" appears in the string!!\n",
    "\n",
    "7. Check if the string starts with \"Python\".\n",
    "\n",
    "8. Check if the string ends with \"powerful\".\n",
    "\n",
    "9. Split the string by spaces.\n",
    "\n",
    "10. Replace all occurrences of \"Python\" in the string.\n",
    "\n",
    "11. Concatenate the string with \"and fun\".\n",
    "\n",
    "12. Join the list [\"Python\", \"is\", \"fun\"] into a string.\n",
    "\n",
    "13. Remove any leading or trailing whitespace from the string \" Python is awesome \".\n",
    "\n",
    "14. Find the index of the letter \"o\" in the string \"Python is awesome\".\n",
    "\n",
    "15. Check if the string \"Python\" is in the string \"Python is awesome\".\n",
    "\n",
    "16. Extract the substring \"is\" from the string \"Python is awesome\".\n",
    "\n",
    "17. Reverse the string \"Python is awesome\".\n",
    "\n",
    "18. Insert the string \"awesome\" in the middle of the string \"Python is \".\n",
    "\n",
    "19. Extract the last 3 characters of the string \"Python is awesome\".\n",
    "\n",
    "20. Remove the first character from the string \"Python is awesome\".\n",
    "\n",
    "21. Remove the last character from the string \"Python is awesome\".\n",
    "\n",
    "22. Replace the last occurrence of \"o\" in the string \"Hello, world!\" with \"i\".\n",
    "\n",
    "23. Replace the first occurrence of \"o\" in the string \"Hello, world!\" with \"i\".\n",
    "\n",
    "24. Convert the string \"Python is awesome\" to a list of characters.\n",
    "\n",
    "25. Convert the list [\"P\", \"y\", \"t\", \"h\", \"o\", \"n\"] to a string.\n",
    "\n",
    "26. Convert the string \"Python is awesome\" to a tuple of characters.\n",
    "\n",
    "27. Swap the first and last characters of the string \"Python is awesome\".\n",
    "\n",
    "28. Remove all punctuation from the string \"Hello, world!\".\n",
    "\n",
    "29. Reverse the words in the string \"Python is awesome\".\n",
    "\n",
    "30. Remove all whitespace from the string \"Python is awesome\".\n",
    "\n",
    "31. Split the string \"Python,Java,Ruby\" by commas."
   ]
  },
  {
   "cell_type": "code",
   "execution_count": 6,
   "id": "88fcc3b1",
   "metadata": {
    "hidden": true
   },
   "outputs": [
    {
     "name": "stdout",
     "output_type": "stream",
     "text": [
      "length of str2 is: 18\n",
      "Capitalize is: Python is powerful\n",
      "Title is: Python Is Powerful\n",
      "Swapcase is: PYTHON IS POWERFUL\n",
      "count of o is: 2\n",
      "True\n",
      "True\n",
      "Split string is: ['python', 'is', 'powerful']\n",
      "Replaced string is: python is good\n",
      "concatenated string is: python is powerful and fun\n"
     ]
    }
   ],
   "source": [
    "#String initialize\n",
    "str1 = 'python is powerful'\n",
    "#Find length of the string\n",
    "str2 = len(str1)\n",
    "print('length of str2 is:',str2)\n",
    "#Capitalize the string\n",
    "str3 = str1.capitalize()\n",
    "print('Capitalize is:',str3)\n",
    "#Title case the string\n",
    "str4 = str1.title()\n",
    "print('Title is:',str4)\n",
    "#Swap the case of the string\n",
    "str5 = str1.swapcase()\n",
    "print('Swapcase is:',str5)\n",
    "#Count how many times the letter \"o\" appears in the string\n",
    "str6 = str1.count('o')\n",
    "print('count of o is:',str6)\n",
    "#Check if the string starts with \"Python\".\n",
    "print(str1.startswith('python'))\n",
    "#Check if the string ends with \"powerful\".\n",
    "print(str1.endswith('powerful'))\n",
    "#Split the string by spaces.\n",
    "str7 = str1.split()\n",
    "print('Split string is:',str7)\n",
    "#Replace all occurrences of \"Python\" in the string.\n",
    "str8 = str1.replace('powerful', 'good')\n",
    "print('Replaced string is:',str8)\n",
    "#Concatenate the string with \"and fun\".\n",
    "str10 = 'and fun' \n",
    "str11 = ' '.join([str1, str10])\n",
    "print('concatenated string is:',str11)\n",
    "Join the list [\"Python\", \"is\", \"fun\"] into a string.\n",
    "\n"
   ]
  },
  {
   "cell_type": "markdown",
   "id": "6bc0e213",
   "metadata": {},
   "source": [
    "# <p style= font-size:30px;padding:15px><span style=color:blue;font-size:35px>List</span><span style=color:green> Exercises.</p>"
   ]
  },
  {
   "cell_type": "markdown",
   "id": "20cfc013",
   "metadata": {},
   "source": [
    "<ol>\n",
    "<li>Create a list of integers and find the sum of all elements.</li>\n",
    "<li>Create a list of strings and find the length of each string.</li>\n",
    "<li>Sort a list of integers in ascending order.</li>\n",
    "<li>Sort a list of integers in descending order.</li>\n",
    "<li>Sort a list of strings in alphabetical order.</li>\n",
    "<li>Sort a list of strings in reverse alphabetical order.</li>\n",
    "<li>Find the maximum element in a list.</li>\n",
    "<li>Find the minimum element in a list.</li>\n",
    "<li>Find the second largest element in a list.</li>\n",
    "<li>Find the second smallest element in a list.</li>\n",
    "<li>Find the average of all elements in a list.</li>\n",
    "<li>Find the median of all elements in a list.</li>\n",
    "<!-- <li>Reverse a list using slicing.</li>\n",
    "<li>Reverse a list using the `reverse()` method.</li> -->\n",
    "<li>Concatenate two lists into a single list.</li>\n",
    "<li>Split a string into a list of words.</li>\n",
    "<li>Join a list of words into a single string.</li>"
   ]
  },
  {
   "cell_type": "code",
   "execution_count": null,
   "id": "7b599c8b",
   "metadata": {},
   "outputs": [],
   "source": []
  },
  {
   "cell_type": "code",
   "execution_count": 1,
   "id": "df29674e",
   "metadata": {},
   "outputs": [
    {
     "name": "stdout",
     "output_type": "stream",
     "text": [
      "Sum of all elements in given list:  25\n"
     ]
    }
   ],
   "source": [
    "#Create a list of integers and find the sum of all elements.\n",
    "list1 = [1,3,6,7,8]\n",
    "# using sum() function\n",
    "total = sum(list1)\n",
    "# printing total value\n",
    "print(\"Sum of all elements in given list: \", total)"
   ]
  },
  {
   "cell_type": "code",
   "execution_count": 4,
   "id": "c204fd2a",
   "metadata": {},
   "outputs": [
    {
     "ename": "SyntaxError",
     "evalue": "invalid syntax (2396523916.py, line 6)",
     "output_type": "error",
     "traceback": [
      "\u001b[1;36m  Cell \u001b[1;32mIn[4], line 6\u001b[1;36m\u001b[0m\n\u001b[1;33m    print len(l[i])\u001b[0m\n\u001b[1;37m          ^\u001b[0m\n\u001b[1;31mSyntaxError\u001b[0m\u001b[1;31m:\u001b[0m invalid syntax\n"
     ]
    }
   ],
   "source": [
    "#Create a list of strings and find the length of each string.\n",
    "l = (\"xxxxxxxxx\", \"yyyy\",\"zz\")\n",
    "# using for loop and length function\n",
    "for i in l:\n",
    "# printing lenth of the each string in the list\n",
    "    print len(l[i])\n"
   ]
  },
  {
   "cell_type": "code",
   "execution_count": 11,
   "id": "6aeac4b0",
   "metadata": {},
   "outputs": [
    {
     "name": "stdout",
     "output_type": "stream",
     "text": [
      "[0, 2, 3, 4, 6, 9]\n"
     ]
    }
   ],
   "source": [
    "#Sort a list of integers in ascending order.\n",
    "list2=[3,6,9,2,4,0]\n",
    "#using sort command\n",
    "list2.sort()\n",
    "# printing the sorted list\n",
    "print(list2)"
   ]
  },
  {
   "cell_type": "code",
   "execution_count": 13,
   "id": "33dff7ca",
   "metadata": {},
   "outputs": [
    {
     "name": "stdout",
     "output_type": "stream",
     "text": [
      "[9, 6, 4, 3, 2, 0]\n"
     ]
    }
   ],
   "source": [
    "#Sort a list of integers in descending order.\n",
    "list3=[3,6,9,2,4,0]\n",
    "#using sort command\n",
    "list3.sort(reverse=True)\n",
    "# printing the sorted list\n",
    "print(list3)\n"
   ]
  },
  {
   "cell_type": "code",
   "execution_count": 15,
   "id": "495b723e",
   "metadata": {},
   "outputs": [
    {
     "name": "stdout",
     "output_type": "stream",
     "text": [
      "The sorted list in alphabetical order is: ['a', 'good', 'is', 'person', 'veni']\n"
     ]
    }
   ],
   "source": [
    "#Sort a list of strings in alphabetical order.\n",
    "list5 = ['veni', 'is', 'a', 'good', 'person']\n",
    "#using sort command\n",
    "list5.sort()\n",
    "# printing the sorted list\n",
    "print('The sorted list in alphabetical order is:',list5)\n"
   ]
  },
  {
   "cell_type": "code",
   "execution_count": 16,
   "id": "c8367fec",
   "metadata": {},
   "outputs": [
    {
     "name": "stdout",
     "output_type": "stream",
     "text": [
      "Largest element is: 99\n"
     ]
    }
   ],
   "source": [
    "# Find the maximum element in a list.\n",
    "\n",
    "# list of numbers\n",
    "list1 = [10, 20, 4, 45, 99]\n",
    " \n",
    " # printing the maximum element\n",
    "print(\"Largest element is:\", max(list1))"
   ]
  },
  {
   "cell_type": "code",
   "execution_count": 17,
   "id": "11f9fc6d",
   "metadata": {},
   "outputs": [
    {
     "name": "stdout",
     "output_type": "stream",
     "text": [
      "smallest element is: 4\n"
     ]
    }
   ],
   "source": [
    "# Find the minimum element in a list.\n",
    "\n",
    "# list of numbers\n",
    "list1 = [10, 20, 4, 45, 99]\n",
    " \n",
    " # printing the minimum element\n",
    "print(\"smallest element is:\", min(list1))"
   ]
  },
  {
   "cell_type": "code",
   "execution_count": 18,
   "id": "11761a26",
   "metadata": {},
   "outputs": [
    {
     "name": "stdout",
     "output_type": "stream",
     "text": [
      "45\n"
     ]
    }
   ],
   "source": [
    "#Find the second largest element in a list.\n",
    "\n",
    "# Python program to find second largest number\n",
    "# in a list\n",
    " \n",
    "# List of numbers\n",
    "list1 = [10, 20, 4, 45, 99]\n",
    " \n",
    "# new_list is a set of list1\n",
    "new_list = set(list1)\n",
    " \n",
    "# Removing the largest element from temp list\n",
    "new_list.remove(max(new_list))\n",
    " \n",
    "# Elements in original list are not changed\n",
    "# print(list1)\n",
    "print(max(new_list))\n"
   ]
  },
  {
   "cell_type": "code",
   "execution_count": 19,
   "id": "f27fdbb3",
   "metadata": {},
   "outputs": [
    {
     "name": "stdout",
     "output_type": "stream",
     "text": [
      "10\n"
     ]
    }
   ],
   "source": [
    "#Find the second smallest element in a list.\n",
    "\n",
    "# Python program to find second smallest number\n",
    "# in a list\n",
    " \n",
    "# List of numbers\n",
    "list1 = [10, 20, 4, 45, 99]\n",
    " \n",
    "# new_list is a set of list1\n",
    "new_list = set(list1)\n",
    " \n",
    "# Removing the smallest element from temp list\n",
    "new_list.remove(min(new_list))\n",
    " \n",
    "# Elements in original list are not changed\n",
    "# print(list1)\n",
    "print(min(new_list))\n"
   ]
  },
  {
   "cell_type": "code",
   "execution_count": 20,
   "id": "042db45f",
   "metadata": {},
   "outputs": [
    {
     "name": "stdout",
     "output_type": "stream",
     "text": [
      "Average of the list = 35.75\n"
     ]
    }
   ],
   "source": [
    "#Find the average of all elements in a list.\n",
    "\n",
    "# Python program to get average of a list\n",
    " \n",
    "# Driver Code\n",
    "lst = [15, 9, 55, 41, 35, 20, 62, 49]\n",
    "lst2= sum(lst) / len(lst)\n",
    " \n",
    "# Printing average of the list\n",
    "print(\"Average of the list =\", lst2)\n"
   ]
  },
  {
   "cell_type": "code",
   "execution_count": 21,
   "id": "6079a789",
   "metadata": {},
   "outputs": [
    {
     "name": "stdout",
     "output_type": "stream",
     "text": [
      "Median of list is :  8.5\n"
     ]
    }
   ],
   "source": [
    "#Find the median of all elements in a list.\n",
    "# Python3 code to demonstrate working of\n",
    "# Median of list\n",
    "# Using loop + \"~\" operator\n",
    " \n",
    "# initializing list\n",
    "test_list = [4, 5, 8, 9, 10, 17]\n",
    " \n",
    "# Median of list\n",
    "# Using loop + \"~\" operator\n",
    "test_list.sort()\n",
    "mid = len(test_list) // 2\n",
    "res = (test_list[mid] + test_list[~mid]) / 2\n",
    " \n",
    "# Printing result\n",
    "print(\"Median of list is : \", str(res))\n"
   ]
  },
  {
   "cell_type": "code",
   "execution_count": 22,
   "id": "8567ffd3",
   "metadata": {},
   "outputs": [
    {
     "name": "stdout",
     "output_type": "stream",
     "text": [
      "list1 before concatenation:\n",
      "[10, 11, 12, 13, 14]\n",
      "Concatenated list i.e ,ist1 after concatenation:\n",
      "[10, 11, 12, 13, 14, 20, 30, 42]\n"
     ]
    }
   ],
   "source": [
    "#Concatenate two lists into a single list.\n",
    "list1 = [10, 11, 12, 13, 14] \n",
    "list2 = [20, 30, 42] \n",
    "print(\"list1 before concatenation:\\n\" + str(list1))\n",
    "#Using extend command\n",
    "list1.extend(list2) \n",
    "print (\"Concatenated list i.e ,ist1 after concatenation:\\n\"+ str(list1)) "
   ]
  },
  {
   "cell_type": "code",
   "execution_count": 23,
   "id": "818698fd",
   "metadata": {},
   "outputs": [
    {
     "name": "stdout",
     "output_type": "stream",
     "text": [
      "The words in the string are ['welcome', 'to', 'the', 'jungle']\n"
     ]
    }
   ],
   "source": [
    "#Split a string into a list of words.\n",
    "txt = \"welcome to the jungle\"\n",
    "#using split function\n",
    "x = txt.split()\n",
    "#Print the words\n",
    "print('The words in the string are',x)"
   ]
  },
  {
   "cell_type": "code",
   "execution_count": 25,
   "id": "1b269f66",
   "metadata": {},
   "outputs": [
    {
     "data": {
      "text/plain": [
       "'veni is a good person'"
      ]
     },
     "execution_count": 25,
     "metadata": {},
     "output_type": "execute_result"
    }
   ],
   "source": [
    "#Join a list of words into a single string.\n",
    "#List is assigned\n",
    "list=['veni','is','a','good','person']\n",
    "#Using joing function\n",
    "' '.join(list)"
   ]
  },
  {
   "cell_type": "markdown",
   "id": "e4ef74e4",
   "metadata": {},
   "source": [
    "# <p style= font-size:30px;padding:15px><span style=color:blue;font-size:35px>Tuple</span><span style=color:green> Exercises.</p>"
   ]
  },
  {
   "cell_type": "code",
   "execution_count": null,
   "id": "24a9a3ba",
   "metadata": {},
   "outputs": [],
   "source": []
  },
  {
   "cell_type": "markdown",
   "id": "0d9fac38",
   "metadata": {},
   "source": [
    "1. Create a tuple of 5 integers and calculate the sum of all the elements.\n",
    "2. Create a tuple of 5 strings and join them into a single string using the join() method.\n",
    "3. Create a tuple of 5 elements and check if the number 7 is in the tuple using the in operator.\n",
    "4. Create a tuple of 10 elements and count how many times the number 5 appears using the count() method.\n",
    "5. Create two tuples of equal length and concatenate them into a single tuple using the + operator.\n",
    "6. Create a tuple of 5 tuples where each tuple contains a name and an age. Sort the list by age in ascending order using the sorted() method with a lambda function as the key.\n",
    "7. Create a tuple of 10 elements and convert it to a list using the list() function.\n",
    "8. Create a tuple of 5 elements and unpack it into 5 separate variables.\n",
    "9. Create a tuple of 10 elements and return the first 3 elements using slicing.\n",
    "10. Create a tuple of 5 elements and swap the first and last elements."
   ]
  },
  {
   "cell_type": "code",
   "execution_count": 1,
   "id": "05be8e90",
   "metadata": {},
   "outputs": [
    {
     "name": "stdout",
     "output_type": "stream",
     "text": [
      "[30, 70, 110]\n"
     ]
    }
   ],
   "source": [
    "#Create a tuple of 5 integers and calculate the sum of all the elements.\n",
    "#  sum the elements of each tuple in a list of tuples\n",
    "\n",
    "list_of_tuples = [(10, 20), (30, 40), (50, 60)]\n",
    "#Using sum funtion for each of the item in the tuple\n",
    "result_2 = [sum(t) for t in list_of_tuples]\n",
    "\n",
    "print(result_2)  # [30, 70, 110]"
   ]
  },
  {
   "cell_type": "code",
   "execution_count": 4,
   "id": "dcd053c4",
   "metadata": {},
   "outputs": [
    {
     "name": "stdout",
     "output_type": "stream",
     "text": [
      "John Peter Vicky Veni Mani\n"
     ]
    }
   ],
   "source": [
    "#Create a tuple of 5 strings and join them into a single string using the join() method.\n",
    "myTuple = (\"John\", \"Peter\", \"Vicky\",\"Veni\",\"Mani\")\n",
    "\n",
    "#Using join function to join the strings in tuple\n",
    "x = \" \".join(myTuple)\n",
    "\n",
    "print(x)\n",
    "\n"
   ]
  },
  {
   "cell_type": "code",
   "execution_count": 6,
   "id": "baa50bac",
   "metadata": {},
   "outputs": [
    {
     "name": "stdout",
     "output_type": "stream",
     "text": [
      "True\n"
     ]
    }
   ],
   "source": [
    "#Create a tuple of 5 elements and check if the number 7 is in the tuple using the in operator.\n",
    "\n",
    "tuple2 = (0,4,7,8,1)\n",
    "#Check and print if the number 7 is in th tuple\n",
    "print(7 in tuple2)    # True\n"
   ]
  },
  {
   "cell_type": "code",
   "execution_count": 8,
   "id": "978cf639",
   "metadata": {},
   "outputs": [
    {
     "name": "stdout",
     "output_type": "stream",
     "text": [
      "3\n"
     ]
    }
   ],
   "source": [
    "#Create a tuple of 10 elements and count how many times the number 5 appears using the count() method.\n",
    "\n",
    "my_tuple = (1,5,2,9,5,8,4,7,5,6)\n",
    "\n",
    "print(my_tuple.count(5))  # prints 2\n",
    "\n"
   ]
  },
  {
   "cell_type": "code",
   "execution_count": 10,
   "id": "d75b8187",
   "metadata": {},
   "outputs": [
    {
     "name": "stdout",
     "output_type": "stream",
     "text": [
      "The original tuple 1 : (1, 3, 5)\n",
      "The original tuple 2 : (4, 6, 7)\n",
      "The tuple after concatenation is : (1, 3, 5, 4, 6, 7)\n"
     ]
    }
   ],
   "source": [
    "#Create two tuples of equal length and concatenate them into a single tuple using the + operator.\n",
    "\n",
    "# Python code to demonstrate working of\n",
    "# Ways to concatenate tuples\n",
    "# using + operator\n",
    " \n",
    "# initialize tuples\n",
    "test_tup1 = (1, 3, 5)\n",
    "test_tup2 = (4, 6, 7)\n",
    " \n",
    "# printing original tuples\n",
    "print(\"The original tuple 1 : \" + str(test_tup1))\n",
    "print(\"The original tuple 2 : \" + str(test_tup2))\n",
    " \n",
    "# Ways to concatenate tuples\n",
    "# using + operator\n",
    "res = test_tup1 + test_tup2\n",
    " \n",
    "# printing result\n",
    "print(\"The tuple after concatenation is : \" + str(res))\n"
   ]
  },
  {
   "cell_type": "code",
   "execution_count": null,
   "id": "9dd928fb",
   "metadata": {},
   "outputs": [],
   "source": [
    "#Create a tuple of 5 tuples where each tuple contains a name and an age. Sort the list by age in ascending order using the sorted() method with a lambda function as the key."
   ]
  },
  {
   "cell_type": "code",
   "execution_count": 14,
   "id": "c6d859ea",
   "metadata": {},
   "outputs": [
    {
     "name": "stdout",
     "output_type": "stream",
     "text": [
      "[1, 2, 3, 4, 5, 6, 0, 4, 1.5, 2.5, 0, 1, 2, 3, 7, 8, 10, 11, 12, 13]\n"
     ]
    }
   ],
   "source": [
    "#Create a tuple of 10 elements and convert it to a list using the list() function.\n",
    "\n",
    " \n",
    "# List of tuple initialization\n",
    "tup = [(1, 2), (3, 4), (5, 6),(0,4),(1.5,2.5),(0,1),(2,3),(7,8),(10,11),(12,13)]\n",
    " \n",
    "# using sum function()\n",
    "out = list(sum(tup, ()))\n",
    " \n",
    "# printing output\n",
    "print(out)"
   ]
  },
  {
   "cell_type": "code",
   "execution_count": 16,
   "id": "5cbda059",
   "metadata": {},
   "outputs": [
    {
     "name": "stdout",
     "output_type": "stream",
     "text": [
      "(4, 8, 3, 2, 9)\n",
      "26\n",
      "4 8 3 2 9\n"
     ]
    }
   ],
   "source": [
    "#Create a tuple of 5 elements and unpack it into 5 separate variables.\n",
    "\n",
    "#create a tuple\n",
    "tuplex = 4,8,3,2,9\n",
    "print(tuplex)\n",
    "n1,n2,n3,n4,n5 = tuplex\n",
    "#unpack a tuple in variables\n",
    "print(n1 + n2 + n3 + n4 + n5) \n",
    "#the number of variables must be equal to the number of items of the tuple\n",
    "n1, n2, n3, n4, n5= tuplex \n",
    "print(n1,n2,n3,n4,n5)"
   ]
  },
  {
   "cell_type": "code",
   "execution_count": 17,
   "id": "cb5d0988",
   "metadata": {},
   "outputs": [
    {
     "name": "stdout",
     "output_type": "stream",
     "text": [
      "('p', 'r', 'o')\n"
     ]
    }
   ],
   "source": [
    "#Create a tuple of 10 elements and return the first 3 elements using slicing.\n",
    "\n",
    "# accessing tuple elements using slicing\n",
    "my_tuple = ('p', 'r', 'o', 'g', 'r', 'a', 'm', 'i', 'z','e')\n",
    "\n",
    "# elements 2nd to 4th index\n",
    "print(my_tuple[:3])  #  prints ('p', 'r', 'o')\n"
   ]
  },
  {
   "cell_type": "code",
   "execution_count": null,
   "id": "061c0912",
   "metadata": {},
   "outputs": [],
   "source": [
    "#Create a tuple of 5 elements and swap the first and last elements.\n"
   ]
  }
 ],
 "metadata": {
  "kernelspec": {
   "display_name": "Python 3 (ipykernel)",
   "language": "python",
   "name": "python3"
  },
  "language_info": {
   "codemirror_mode": {
    "name": "ipython",
    "version": 3
   },
   "file_extension": ".py",
   "mimetype": "text/x-python",
   "name": "python",
   "nbconvert_exporter": "python",
   "pygments_lexer": "ipython3",
   "version": "3.8.16"
  }
 },
 "nbformat": 4,
 "nbformat_minor": 5
}
