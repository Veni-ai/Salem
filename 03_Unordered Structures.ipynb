{
 "cells": [
  {
   "cell_type": "markdown",
   "id": "762f3958",
   "metadata": {},
   "source": [
    "# <p> Python Assignments On Unordered Structures</p>"
   ]
  },
  {
   "cell_type": "markdown",
   "id": "f7c76d45",
   "metadata": {},
   "source": [
    "##### Submission Details"
   ]
  },
  {
   "cell_type": "markdown",
   "id": "b1ecfc47",
   "metadata": {},
   "source": [
    "To submit your work, you must complete each section of the project in a separate Jupyter Notebook. Each notebook must be visually appealing and properly documented. This means that you should include explanatory comments, use clear and readable code formatting, and incorporate any necessary visualizations or markdown to help convey your ideas. By following these guidelines, you can create a polished and professional project that will effectively showcase your skills and knowledge."
   ]
  },
  {
   "cell_type": "markdown",
   "id": "968aa20c",
   "metadata": {
    "heading_collapsed": true
   },
   "source": [
    "# <p style=color:red>Sets</p>"
   ]
  },
  {
   "cell_type": "markdown",
   "id": "7b56e39b",
   "metadata": {
    "hidden": true
   },
   "source": [
    "<ol>\n",
    "    <li>Create an empty set.</li>\n",
    "    <li>Create a set with three integers.</li>\n",
    "    <li>Create a set with three strings.</li>\n",
    "    <li>Create a set with three floating-point numbers.</li>\n",
    "    <li>Create a set with three booleans.</li>\n",
    "    <li>Create a set with a mixture of data types.</li>\n",
    "    <li>Add an element to a set.</li>\n",
    "    <li>Add multiple elements to a set.</li>\n",
    "    <li>Remove an element from a set.</li>\n",
    "    <li>Remove multiple elements from a set.</li>\n",
    "    <li>Remove all elements from a set.</li>\n",
    "    <li>Check if an element is in a set.</li>\n",
    "    <li>Check if multiple elements are in a set.</li>\n",
    "    <li>Find the length of a set.</li>\n",
    "    <li>Create a copy of a set.</li>\n",
    "    <li>Merge two sets.</li>\n",
    "    <li>Remove duplicates from a list using sets.</li>\n",
    "    <li>Find the intersection of two sets.</li>\n",
    "    <li>Find the union of two sets.</li>\n",
    "    <li>Find the difference between two sets.</li>\n",
    "    <li>Check if one set is a subset of another.</li>\n",
    "    <li>Check if one set is a superset of another.</li>\n",
    "    <li>Check if two sets have any common elements.</li>\n",
    "    <li>Find the symmetric difference between two sets.</li>\n",
    "    <li>Convert a list to a set.</li>\n",
    "    <li>Convert a tuple to a set.</li>\n",
    "    <li>Convert a string to a set.</li>\n",
    "    <li>Convert a dictionary's keys to a set.</li>\n",
    "    <li>Convert a dictionary's values to a set.</li>\n",
    "    <li>Find the maximum element in a set.</li>\n",
    "    <li>Find the minimum element in a set.</li>\n",
    "    <li>Find the sum of all elements in a set.</li>\n",
    "    <li>Find the average of all elements in a set.</li>\n",
    "    <li>Find the median of all elements in a set.</li>\n",
    "    <li>Find the mode of all elements in a set.</li>\n",
    "    </ol>"
   ]
  },
  {
   "cell_type": "markdown",
   "id": "a7d3c4b0",
   "metadata": {},
   "source": [
    "# <p style=color:green> Dictionary</p>"
   ]
  },
  {
   "cell_type": "markdown",
   "id": "c964ddf7",
   "metadata": {},
   "source": [
    "<ol>\n",
    "    <li>Create an empty dictionary.</li>\n",
    "    <li>Create a dictionary with some key-value pairs.</li>\n",
    "    <li>Access the value of a specific key in a dictionary.</li>\n",
    "    <li>Use the <code>get()</code> method to retrieve a value from a dictionary.</li>\n",
    "    <li>Use the <code>items()</code> method to retrieve all key-value pairs in a dictionary.</li><li>Use the <code>keys()</code> method to retrieve all keys in a dictionary.</li>\n",
    "    <li>Use the <code>values()</code> method to retrieve all values in a dictionary.</li>\n",
    "    <li>Check if a key exists in a dictionary.</li>\n",
    "    <li>Add a new key-value pair to a dictionary.</li>\n",
    "    <li>Modify the value of a specific key in a dictionary.</li>\n",
    "    <li>Remove a key-value pair from a dictionary.</li>\n",
    "    <li>Remove all key-value pairs from a dictionary.</li>\n",
    "    <li>Merge two dictionaries using the <code>update()</code> method.</li>\n",
    "    <li>Create a shallow copy of a dictionary using the <code>copy()</code> method.</li>\n",
    "    <li>Create a deep copy of a dictionary using the <code>deepcopy()</code> method from the <code>copy</code> module.</li>\n",
    "    <li>Use the <code>len()</code> function to get the number of key-value pairs in a dictionary.</li><li>Use a <code>for</code> loop to iterate over the keys in a dictionary.</li>\n",
    "    <li>Use a <code>for</code> loop to iterate over the values in a dictionary.</li>\n",
    "    <li>Use a <code>for</code> loop to iterate over the key-value pairs in a dictionary.</li>\n",
    "    <li>Use the <code>in</code> keyword to check if a key is present in a dictionary.</li>\n",
    "    <li>Use the <code>not in</code> keyword to check if a key is not present in a dictionary.</li><li>Use the <code>sorted()</code> function to sort the keys in a dictionary.</li>\n",
    "    <li>Use the <code>min()</code> function to get the minimum value in a dictionary.</li>\n",
    "    <li>Use the <code>max()</code> function to get the maximum value in a dictionary.</li>\n",
    "    <li>Use the <code>sum()</code> function to get the sum of values in a dictionary.</li>\n",
    "    <li>Use the <code>any()</code> function to check if any value in a dictionary is True.</li>\n",
    "    <li>Use the <code>dict()</code> constructor to create a dictionary from a list of key-value pairs.</li>\n",
    "    <li>Use the <code>dict.fromkeys()</code> method to create a dictionary with default values for a list of keys.</li>\n",
    "    <li>Use the <code>pop()</code> method to remove a key-value pair from a dictionary and return its value.</li>\n",
    "    <li>Use the <code>popitem()</code> method to remove and return a random key-value pair from a dictionary.</li>\n",
    "    <li>Use the <code>update()</code> method to add multiple key-value pairs to a dictionary at once.</li>\n",
    "    <li>Use the <code>clear()</code> method to remove all key-value pairs from a dictionary.</li><li>Use the <code>items()</code> method to convert a dictionary into a list of key-value pairs.</li><li>Use the <code>keys()</code> method to convert a dictionary into a list of keys.</li>\n",
    "    <li>Use the <code>values()</code> method to convert a dictionary into a list of values.</li><li>Use the <code>copy()</code> method to create a shallow copy of a dictionary.</li>\n",
    "    <li>Use the <code>fromkeys()</code> method to create a new dictionary with default values for a list of keys.</li></ol>"
   ]
  }
 ],
 "metadata": {
  "kernelspec": {
   "display_name": "Python 3 (ipykernel)",
   "language": "python",
   "name": "python3"
  },
  "language_info": {
   "codemirror_mode": {
    "name": "ipython",
    "version": 3
   },
   "file_extension": ".py",
   "mimetype": "text/x-python",
   "name": "python",
   "nbconvert_exporter": "python",
   "pygments_lexer": "ipython3",
   "version": "3.8.16"
  }
 },
 "nbformat": 4,
 "nbformat_minor": 5
}
