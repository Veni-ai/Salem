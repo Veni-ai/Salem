{
 "cells": [
  {
   "cell_type": "markdown",
   "id": "4eb77e09",
   "metadata": {},
   "source": [
    "# Loops"
   ]
  },
  {
   "cell_type": "markdown",
   "id": "ee5ea04e",
   "metadata": {},
   "source": [
    "<ol>\n",
    "    <li>Print numbers 1 to 10 using a for loop.</li>\n",
    "    <li>Print numbers 10 to 1 using a for loop.</li>\n",
    "    <li>Print even numbers from 1 to 10 using a for loop.</li>\n",
    "    <li>Print odd numbers from 1 to 10 using a for loop.</li>\n",
    "    <li>Print the first 5 multiples of 5 using a for loop.</li>\n",
    "    <li>Print the first 10 multiples of 3 using a for loop.</li>\n",
    "    <li>Print the sum of numbers from 1 to 10 using a for loop.</li>\n",
    "    <li>Print the product of numbers from 1 to 5 using a for loop.</li>\n",
    "    <li>Print the factorial of 5 using a for loop.</li>\n",
    "    <li>Print the Fibonacci sequence up to 10 using a for loop.</li>\n",
    "    <li>Print the reverse of a string using a for loop.</li>\n",
    "    <li>Print the length of a string using a for loop.</li>\n",
    "    <li>Print the number of vowels in a string using a for loop.</li>\n",
    "    <li>Print the number of consonants in a string using a for loop.</li>\n",
    "    <li>Print the number of uppercase letters in a string using a for loop.</li>\n",
    "    <li>Print the number of lowercase letters in a string using a for loop.</li>\n",
    "    <li>Print the number of spaces in a string using a for loop.</li>\n",
    "    <li>Print the number of digits in a string using a for loop.</li>\n",
    "    <li>Print the ASCII values of all characters in a string using a for loop.</li>\n",
    "    <li>Print the largest element in an array using a for loop.</li>\n",
    "    <li>Print the smallest element in an array using a for loop.</li>\n",
    "    <li>Print the sum of all elements in an array using a for loop.</li>\n",
    "    <li>Print the product of all elements in an array using a for loop.</li>\n",
    "    <li>Print the average of all elements in an array using a for loop.</li>\n",
    "    <li>Print the number of even elements in an array using a for loop.</li>\n",
    "    <li>Print the number of odd elements in an array using a for loop.</li>\n",
    "    <li>Print the number of positive elements in an array using a for loop.</li>\n",
    "    <li>Print the number of negative elements in an array using a for loop.</li>\n",
    "    <li>Print the number of zeros in an array using a for loop.</li>\n",
    "    <li>Print the index of the first occurrence of a number in an array using a for loop.</li>\n",
    "    <li>Print the elements of an array in reverse order using a for loop.</li>\n",
    "    <li>Print the elements of a two-dimensional array using nested for loops.</li>\n",
    "    <li>Print the transpose of a matrix using nested for loops.</li>\n",
    "    <li>Print the sum of each row of a matrix using nested for loops.</li>\n",
    "    <li>Print the sum of each column of a matrix using nested for loops.</li>\n",
    "    <li>Print the diagonal elements of a matrix using nested for loops.</li>\n",
    "    <li>Print the upper triangular elements of a matrix using nested for loops.</li>\n",
    "    <li>Print the lower triangular elements of a matrix using nested for loops.</li>\n",
    "    <li>Print the product of two matrices using nested for loops.</li>\n",
    " </ol>"
   ]
  },
  {
   "cell_type": "code",
   "execution_count": 3,
   "id": "8c7f910e",
   "metadata": {},
   "outputs": [
    {
     "name": "stdout",
     "output_type": "stream",
     "text": [
      "1 2 3 4 5 6 7 8 9 10 "
     ]
    }
   ],
   "source": [
    "#Print numbers 1 to 10 using a for loop.\n",
    "# Using for loop\n",
    "for i in range(1, 11):\n",
    "    print(i,end=' ')\n"
   ]
  },
  {
   "cell_type": "code",
   "execution_count": 6,
   "id": "9b54a2a1",
   "metadata": {},
   "outputs": [
    {
     "name": "stdout",
     "output_type": "stream",
     "text": [
      "10 9 8 7 6 5 4 3 2 1 "
     ]
    }
   ],
   "source": [
    "#Print numbers 10 to 1 using a for loop.\n",
    "# Using for loop\n",
    "for i in range(10,0,-1):\n",
    "    print(i,end=' ')\n"
   ]
  },
  {
   "cell_type": "code",
   "execution_count": 8,
   "id": "6e6c220f",
   "metadata": {},
   "outputs": [
    {
     "name": "stdout",
     "output_type": "stream",
     "text": [
      "2 4 6 8 10 "
     ]
    }
   ],
   "source": [
    "#Print even numbers from 1 to 10 using a for loop.\n",
    "# Using for loop\n",
    "for i in range(2, 11,2):\n",
    "    print(i,end=' ')"
   ]
  },
  {
   "cell_type": "code",
   "execution_count": 9,
   "id": "48a0de4c",
   "metadata": {},
   "outputs": [
    {
     "name": "stdout",
     "output_type": "stream",
     "text": [
      "1 3 5 7 9 "
     ]
    }
   ],
   "source": [
    "#Print odd numbers from 1 to 10 using a for loop.\n",
    "#Using for loop\n",
    "for i in range(1, 11,2):\n",
    "    print(i,end=' ')"
   ]
  },
  {
   "cell_type": "code",
   "execution_count": 3,
   "id": "b3cdf85d",
   "metadata": {},
   "outputs": [
    {
     "name": "stdout",
     "output_type": "stream",
     "text": [
      "5 10 15 20 25 "
     ]
    }
   ],
   "source": [
    "#Print the first 5 multiples of 5 using a for loop.\n",
    "#Using for loop\n",
    "for i in range(1,6):\n",
    "    print(5*i, end =\" \")\n",
    "    "
   ]
  },
  {
   "cell_type": "code",
   "execution_count": 4,
   "id": "e4e99df4",
   "metadata": {},
   "outputs": [
    {
     "name": "stdout",
     "output_type": "stream",
     "text": [
      "3 6 9 12 15 18 21 24 27 30 "
     ]
    }
   ],
   "source": [
    "#Print the first 10 multiples of 3 using a for loop.\n",
    "#Using for loop\n",
    "\n",
    "for i in range(1,11):\n",
    "    print(3*i, end =\" \")"
   ]
  },
  {
   "cell_type": "code",
   "execution_count": 5,
   "id": "830693a1",
   "metadata": {},
   "outputs": [
    {
     "name": "stdout",
     "output_type": "stream",
     "text": [
      "55\n"
     ]
    }
   ],
   "source": [
    "#Print the sum of numbers from 1 to 10 using a for loop.\n",
    "\n",
    "#Using for loop\n",
    "\n",
    "sum = 0\n",
    "\n",
    "for value in range(1, 10 + 1):\n",
    "    sum = sum + value\n",
    "    \n",
    "print(sum)\n"
   ]
  },
  {
   "cell_type": "code",
   "execution_count": 6,
   "id": "22f6cefc",
   "metadata": {},
   "outputs": [
    {
     "name": "stdout",
     "output_type": "stream",
     "text": [
      "the product of first five natural number is : 120\n"
     ]
    }
   ],
   "source": [
    "#Print the product of numbers from 1 to 5 using a for loop.\n",
    "\n",
    "prod=1\n",
    "\n",
    "for i in range(1,6):\n",
    "\n",
    "   prod=prod*i\n",
    "\n",
    "print(\"the product of first five natural number is :\",prod)"
   ]
  },
  {
   "cell_type": "code",
   "execution_count": 15,
   "id": "0ded2cc7",
   "metadata": {},
   "outputs": [
    {
     "name": "stdout",
     "output_type": "stream",
     "text": [
      "The factorial of 5 is 120\n"
     ]
    }
   ],
   "source": [
    "#Print the factorial of 5 using a for loop.\n",
    "\n",
    "factorial = 1\n",
    "\n",
    "for i in range(1,5 + 1):\n",
    "       factorial = factorial*i\n",
    "                \n",
    "print(\"The factorial of\",5,\"is\",factorial)"
   ]
  },
  {
   "cell_type": "code",
   "execution_count": 21,
   "id": "55f48887",
   "metadata": {},
   "outputs": [
    {
     "name": "stdout",
     "output_type": "stream",
     "text": [
      "0\n",
      "1\n",
      "1\n",
      "2\n",
      "3\n",
      "5\n",
      "8\n",
      "13\n",
      "21\n",
      "34\n"
     ]
    }
   ],
   "source": [
    "#Print the Fibonacci sequence up to 10 using a for loop.\n",
    "\n",
    "#python program for fibonacci series without recursion\n",
    "first = 0\n",
    "second = 1\n",
    "print(first)\n",
    "print(second)\n",
    "for x in range(1,9):\n",
    "    third = first + second\n",
    "    print(third)\n",
    "    first,second=second,third"
   ]
  },
  {
   "cell_type": "code",
   "execution_count": 24,
   "id": "29fda9ca",
   "metadata": {},
   "outputs": [
    {
     "name": "stdout",
     "output_type": "stream",
     "text": [
      "The original string  is :  Pythontest\n",
      "The reversed string using a while loop is :  tsetnohtyP\n"
     ]
    }
   ],
   "source": [
    "#Print the reverse of a string using a for loop.\n",
    "# Reverse string  \n",
    "# Using a while loop  \n",
    "  \n",
    "str = \"Pythontest\" #  string variable  \n",
    "print (\"The original string  is : \",str)   \n",
    "reverse_String = \"\"  # Empty String  \n",
    "count = len(str) # Find length of a string and save in count variable  \n",
    "while count > 0:   \n",
    "    reverse_String += str[ count - 1 ] # save the value of str[count-1] in reverseString  \n",
    "    count = count - 1 # decrement index  \n",
    "print (\"The reversed string using a while loop is : \",reverse_String)# reversed string  \n"
   ]
  },
  {
   "cell_type": "code",
   "execution_count": 28,
   "id": "39162cf4",
   "metadata": {},
   "outputs": [
    {
     "name": "stdout",
     "output_type": "stream",
     "text": [
      "6\n"
     ]
    }
   ],
   "source": [
    "#Print the length of a string using a for loop.\n",
    "str = \"python\"\n",
    "counter = 0   \n",
    "for i in str:\n",
    "    counter += 1\n",
    "print(counter)"
   ]
  },
  {
   "cell_type": "code",
   "execution_count": 31,
   "id": "0895cc47",
   "metadata": {},
   "outputs": [
    {
     "ename": "TypeError",
     "evalue": "'int' object is not callable",
     "output_type": "error",
     "traceback": [
      "\u001b[1;31m---------------------------------------------------------------------------\u001b[0m",
      "\u001b[1;31mTypeError\u001b[0m                                 Traceback (most recent call last)",
      "Cell \u001b[1;32mIn[31], line 9\u001b[0m\n\u001b[0;32m      5\u001b[0m ip_str \u001b[38;5;241m=\u001b[39m ip_str\u001b[38;5;241m.\u001b[39mcasefold() \n\u001b[0;32m      7\u001b[0m \u001b[38;5;66;03m# count the vowels\u001b[39;00m\n\u001b[1;32m----> 9\u001b[0m count \u001b[38;5;241m=\u001b[39m {x:\u001b[38;5;28msum\u001b[39m([\u001b[38;5;241m1\u001b[39m \u001b[38;5;28;01mfor\u001b[39;00m char \u001b[38;5;129;01min\u001b[39;00m ip_str \u001b[38;5;28;01mif\u001b[39;00m char \u001b[38;5;241m==\u001b[39m x]) \u001b[38;5;28;01mfor\u001b[39;00m x \u001b[38;5;129;01min\u001b[39;00m \u001b[38;5;124m'\u001b[39m\u001b[38;5;124maeiou\u001b[39m\u001b[38;5;124m'\u001b[39m}\n\u001b[0;32m     11\u001b[0m \u001b[38;5;28mprint\u001b[39m(count)\n",
      "Cell \u001b[1;32mIn[31], line 9\u001b[0m, in \u001b[0;36m<dictcomp>\u001b[1;34m(.0)\u001b[0m\n\u001b[0;32m      5\u001b[0m ip_str \u001b[38;5;241m=\u001b[39m ip_str\u001b[38;5;241m.\u001b[39mcasefold() \n\u001b[0;32m      7\u001b[0m \u001b[38;5;66;03m# count the vowels\u001b[39;00m\n\u001b[1;32m----> 9\u001b[0m count \u001b[38;5;241m=\u001b[39m {x:\u001b[38;5;28;43msum\u001b[39;49m\u001b[43m(\u001b[49m\u001b[43m[\u001b[49m\u001b[38;5;241;43m1\u001b[39;49m\u001b[43m \u001b[49m\u001b[38;5;28;43;01mfor\u001b[39;49;00m\u001b[43m \u001b[49m\u001b[43mchar\u001b[49m\u001b[43m \u001b[49m\u001b[38;5;129;43;01min\u001b[39;49;00m\u001b[43m \u001b[49m\u001b[43mip_str\u001b[49m\u001b[43m \u001b[49m\u001b[38;5;28;43;01mif\u001b[39;49;00m\u001b[43m \u001b[49m\u001b[43mchar\u001b[49m\u001b[43m \u001b[49m\u001b[38;5;241;43m==\u001b[39;49m\u001b[43m \u001b[49m\u001b[43mx\u001b[49m\u001b[43m]\u001b[49m\u001b[43m)\u001b[49m \u001b[38;5;28;01mfor\u001b[39;00m x \u001b[38;5;129;01min\u001b[39;00m \u001b[38;5;124m'\u001b[39m\u001b[38;5;124maeiou\u001b[39m\u001b[38;5;124m'\u001b[39m}\n\u001b[0;32m     11\u001b[0m \u001b[38;5;28mprint\u001b[39m(count)\n",
      "\u001b[1;31mTypeError\u001b[0m: 'int' object is not callable"
     ]
    }
   ],
   "source": [
    "ip_str = 'Hi, I love eating ice cream and junk food?'\n",
    "\n",
    "# make it suitable for caseless comparisions\n",
    "\n",
    "ip_str = ip_str.casefold() \n",
    "\n",
    "# count the vowels\n",
    "\n",
    "count = {x:sum([1 for char in ip_str if char == x]) for x in 'aeiou'}\n",
    "\n",
    "print(count)\n",
    "\n"
   ]
  },
  {
   "cell_type": "code",
   "execution_count": null,
   "id": "d7e786ef",
   "metadata": {},
   "outputs": [],
   "source": []
  }
 ],
 "metadata": {
  "kernelspec": {
   "display_name": "Python 3 (ipykernel)",
   "language": "python",
   "name": "python3"
  },
  "language_info": {
   "codemirror_mode": {
    "name": "ipython",
    "version": 3
   },
   "file_extension": ".py",
   "mimetype": "text/x-python",
   "name": "python",
   "nbconvert_exporter": "python",
   "pygments_lexer": "ipython3",
   "version": "3.8.16"
  }
 },
 "nbformat": 4,
 "nbformat_minor": 5
}
