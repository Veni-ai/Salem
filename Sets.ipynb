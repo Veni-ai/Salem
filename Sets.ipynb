{
 "cells": [
  {
   "cell_type": "markdown",
   "id": "5d8ed18c",
   "metadata": {},
   "source": [
    "#Sets"
   ]
  },
  {
   "cell_type": "code",
   "execution_count": 3,
   "id": "7b0516e3",
   "metadata": {},
   "outputs": [
    {
     "name": "stdout",
     "output_type": "stream",
     "text": [
      "The set1 value is set()\n"
     ]
    }
   ],
   "source": [
    "#Create an empty set.\n",
    "set1 = set() # Use set command\n",
    "print('The set1 value is',set1)"
   ]
  },
  {
   "cell_type": "code",
   "execution_count": 9,
   "id": "3ef640f3",
   "metadata": {},
   "outputs": [
    {
     "name": "stdout",
     "output_type": "stream",
     "text": [
      "The set1 value is {1, 2, 3}\n"
     ]
    }
   ],
   "source": [
    "#Create a set with three integers.\n",
    "set1 = {1,2,3}\n",
    "print('The set1 value is',set1)"
   ]
  },
  {
   "cell_type": "code",
   "execution_count": 10,
   "id": "6ec682e7",
   "metadata": {},
   "outputs": [
    {
     "name": "stdout",
     "output_type": "stream",
     "text": [
      "The set2 value is {'abc', 'ghi', 'def'}\n"
     ]
    }
   ],
   "source": [
    "#Create a set with three strings.\n",
    "set2 = {'abc','def','ghi'}\n",
    "print('The set2 value is',set2)"
   ]
  },
  {
   "cell_type": "code",
   "execution_count": 11,
   "id": "8b4f504b",
   "metadata": {},
   "outputs": [
    {
     "name": "stdout",
     "output_type": "stream",
     "text": [
      "The set3 value is {1.2, 3.4, 5.6}\n"
     ]
    }
   ],
   "source": [
    "#Create a set with three floating-point numbers.\n",
    "set3 = {1.2,3.4,5.6}\n",
    "print('The set3 value is',set3)"
   ]
  },
  {
   "cell_type": "code",
   "execution_count": 12,
   "id": "f1229187",
   "metadata": {},
   "outputs": [
    {
     "name": "stdout",
     "output_type": "stream",
     "text": [
      "The set5 value is {False, True}\n"
     ]
    }
   ],
   "source": [
    "#Create a set with three booleans.\n",
    "set5 = {True,False,True}\n",
    "print('The set5 value is',set5)"
   ]
  },
  {
   "cell_type": "code",
   "execution_count": 13,
   "id": "5554197f",
   "metadata": {},
   "outputs": [
    {
     "name": "stdout",
     "output_type": "stream",
     "text": [
      "The set6 value is {3.5, 1, 'abc'}\n"
     ]
    }
   ],
   "source": [
    "#Create a set with a mixture of data types.\n",
    "set6 = {1,'abc',3.5,True}\n",
    "print('The set6 value is',set6)"
   ]
  },
  {
   "cell_type": "code",
   "execution_count": 14,
   "id": "869e50c0",
   "metadata": {},
   "outputs": [
    {
     "name": "stdout",
     "output_type": "stream",
     "text": [
      "The value of set6 is: {3.5, 1, 'abc', 'def'}\n"
     ]
    }
   ],
   "source": [
    "#Add an element to a set.\n",
    "# adding 'def'\n",
    "set6.add('def')\n",
    "print(\"The value of set6 is:\", set6)"
   ]
  },
  {
   "cell_type": "code",
   "execution_count": null,
   "id": "9f8ddbbc",
   "metadata": {},
   "outputs": [],
   "source": []
  }
 ],
 "metadata": {
  "kernelspec": {
   "display_name": "Python 3 (ipykernel)",
   "language": "python",
   "name": "python3"
  },
  "language_info": {
   "codemirror_mode": {
    "name": "ipython",
    "version": 3
   },
   "file_extension": ".py",
   "mimetype": "text/x-python",
   "name": "python",
   "nbconvert_exporter": "python",
   "pygments_lexer": "ipython3",
   "version": "3.8.16"
  }
 },
 "nbformat": 4,
 "nbformat_minor": 5
}
