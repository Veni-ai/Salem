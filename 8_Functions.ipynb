{
 "cells": [
  {
   "cell_type": "markdown",
   "id": "b327e26a",
   "metadata": {
    "heading_collapsed": true
   },
   "source": [
    "# <p style=\"color:#a4c639;font-size:35px;text-align:center;background-color:#5d8aa8\t;padding:15px;border-radius:7px;text-decoration:underline overline\">Functions.<p>"
   ]
  },
  {
   "cell_type": "markdown",
   "id": "c6b5fee3",
   "metadata": {
    "hidden": true
   },
   "source": [
    "<h2 style=\"color:purple\">Agenda Python Functions</h2>\n",
    "<ol>\n",
    "  <li>\n",
    "    <h3>Introduction</h3>\n",
    "    <ul>\n",
    "      <li>What are functions?</li>\n",
    "      <li>Why are they important?</li>\n",
    "      <li>Basic syntax for defining and calling functions</li>\n",
    "    </ul>\n",
    "  </li>\n",
    "  <li>\n",
    "    <h3>Defining Functions</h3>\n",
    "    <ul>\n",
    "      <li>Anatomy of a function definition</li>\n",
    "      <li>Parameters and arguments</li>\n",
    "      <li>Default parameters</li>\n",
    "      <li>Returning values from functions</li>\n",
    "    </ul>\n",
    "  </li>\n",
    "  <li>\n",
    "    <h3>Lambda Functions</h3>\n",
    "    <ul>\n",
    "      <li>Introduction to lambda functions</li>\n",
    "      <li>Syntax and structure of lambda functions</li>\n",
    "      <li>Differences between lambda functions and regular functions</li>\n",
    "    </ul>\n",
    "  </li>\n",
    "  <li>\n",
    "    <h3>Recursion</h3>\n",
    "    <ul>\n",
    "      <li>What is recursion?</li>\n",
    "      <li>Basic structure of recursive functions</li>\n",
    "      <li>Recursive vs. iterative functions</li>\n",
    "      <li>When to use recursion</li>\n",
    "    </ul>\n",
    "  </li>\n",
    "    <li><h3>Best practices for writing functions</h3></li>\n",
    "</ol>"
   ]
  },
  {
   "cell_type": "markdown",
   "id": "501e0e53",
   "metadata": {
    "heading_collapsed": true
   },
   "source": [
    "# <p style=\"color:purple\">Introduction\n"
   ]
  },
  {
   "cell_type": "markdown",
   "id": "659e3645",
   "metadata": {
    "heading_collapsed": true,
    "hidden": true
   },
   "source": [
    "## What are functions?"
   ]
  },
  {
   "cell_type": "markdown",
   "id": "e3736b78",
   "metadata": {
    "hidden": true
   },
   "source": [
    "Functions are a fundamental concept computer science. At its most basic level, a function is a set of instructions that takes an input, performs a computation on it, and produces an output.\n",
    "\n",
    "In other words, you can think of a function as a machine that takes something in, processes it, and spits something out. The input is also known as the \"argument\" of the function, and the output is the \"return value.\"\n",
    "\n",
    "Functions are used in a wide variety of applications. In computer science, functions are used to break up complex programs into smaller, more manageable pieces of code.\n",
    "\n",
    "Functions can be defined using various programming languages such as Python, Java, C++, etc. and are a key tool in developing software applications."
   ]
  },
  {
   "cell_type": "markdown",
   "id": "e8b60237",
   "metadata": {
    "heading_collapsed": true,
    "hidden": true
   },
   "source": [
    "## Why are they important?"
   ]
  },
  {
   "cell_type": "markdown",
   "id": "5a3a09eb",
   "metadata": {
    "hidden": true
   },
   "source": [
    "<ol>\n",
    "    <li><b>Modularity</b>: Functions allow you to break up complex programs into smaller, more manageable pieces of code. By encapsulating a set of instructions into a function, you can reuse that code throughout your program without having to rewrite it each time.</li>\n",
    "    <li><b>Abstraction</b>: Functions can abstract away the details of a particular operation, making it easier to understand and use. For example, you don't need to know the specific steps involved in calculating the square root of a number – you can simply call the sqrt() function in most programming languages.</li>\n",
    "    <li><b>Debugging</b>: When a program contains a bug, it can be difficult to identify the exact source of the problem. By using functions, you can isolate specific sections of code and test them individually, making it easier to identify and fix bugs.</li>\n",
    "    <li><b>Efficiency</b>: Functions can help make your code more efficient by reducing duplication and improving organization. By breaking up your code into smaller functions, you can focus on optimizing each one individually, leading to faster and more efficient code overall.</li>\n",
    "    <li><b>Scalability</b>: Functions allow you to build large, complex programs by breaking them down into smaller, more manageable pieces. This makes it easier to add new features, modify existing ones, and scale your program to handle larger and more complex tasks.</li>\n",
    "</ol>\n"
   ]
  },
  {
   "cell_type": "markdown",
   "id": "f163a99d",
   "metadata": {
    "heading_collapsed": true
   },
   "source": [
    "# <p style=\"color:purple\">Defining Functions"
   ]
  },
  {
   "cell_type": "markdown",
   "id": "7438569d",
   "metadata": {
    "heading_collapsed": true,
    "hidden": true
   },
   "source": [
    "## Anatomy of a function definition"
   ]
  },
  {
   "cell_type": "markdown",
   "id": "9bb7942a",
   "metadata": {
    "hidden": true
   },
   "source": [
    "\n",
    "- **`def`** - Marks the start of the function header.\n",
    "- **`function name`** - used to uniquely identify the function. Function naming follows the same check list which we followed for variables.\n",
    "- **`Params/Args`** - used to pass values to a function. Params are optional.\n",
    "- **`Colon (:)`**- marks the end of the function header.\n",
    "- **`Doc String`** - A short description about the function.This is optional.\n",
    "- **`Business logic/Statements`** - One ore more valid Python statements to perform the required task.\n",
    "- **`return`** - This is optional. But this statement will help you to return a value from the function.\n",
    "- **`print`** - To dispaly the value from the function. This is optional.\n",
    "Either print or return need to be included at the end of the function.\n",
    "Make sure proper indentation is given inside the function body."
   ]
  },
  {
   "cell_type": "code",
   "execution_count": 32,
   "id": "975ccc89",
   "metadata": {
    "hidden": true
   },
   "outputs": [
    {
     "data": {
      "text/plain": [
       "range(0, 6)"
      ]
     },
     "execution_count": 32,
     "metadata": {},
     "output_type": "execute_result"
    }
   ],
   "source": [
    "range(len('String'))"
   ]
  },
  {
   "cell_type": "code",
   "execution_count": 10,
   "id": "abb7c72f",
   "metadata": {
    "hidden": true
   },
   "outputs": [],
   "source": [
    "# Function that prints hello world\n",
    "def greeting():\n",
    "    print('Hello World')"
   ]
  },
  {
   "cell_type": "code",
   "execution_count": 34,
   "id": "74e3bd36",
   "metadata": {
    "hidden": true
   },
   "outputs": [
    {
     "name": "stdout",
     "output_type": "stream",
     "text": [
      "Hi\n"
     ]
    }
   ],
   "source": [
    "x=print('Hi')"
   ]
  },
  {
   "cell_type": "code",
   "execution_count": 36,
   "id": "abf3927f",
   "metadata": {
    "hidden": true
   },
   "outputs": [
    {
     "name": "stdout",
     "output_type": "stream",
     "text": [
      "None\n"
     ]
    }
   ],
   "source": [
    "print(x)"
   ]
  },
  {
   "cell_type": "code",
   "execution_count": 11,
   "id": "6e43d613",
   "metadata": {
    "hidden": true
   },
   "outputs": [
    {
     "name": "stdout",
     "output_type": "stream",
     "text": [
      "Hello World\n"
     ]
    }
   ],
   "source": [
    "greeting()"
   ]
  },
  {
   "cell_type": "code",
   "execution_count": 13,
   "id": "15186efc",
   "metadata": {
    "hidden": true
   },
   "outputs": [],
   "source": [
    "# Comment the function is for printing lines\n",
    "def println(n=''):\n",
    "    \"\"\"Function to print line\n",
    "    n:user input\n",
    "    \"\"\"\n",
    "    print(n)"
   ]
  },
  {
   "cell_type": "code",
   "execution_count": 15,
   "id": "2dbaf86d",
   "metadata": {
    "hidden": true
   },
   "outputs": [
    {
     "name": "stdout",
     "output_type": "stream",
     "text": [
      "Hello\n"
     ]
    }
   ],
   "source": [
    "println('Hello')"
   ]
  },
  {
   "cell_type": "code",
   "execution_count": 37,
   "id": "ee921094",
   "metadata": {
    "hidden": true
   },
   "outputs": [],
   "source": [
    "def add(n1,n2=10):\n",
    "    \"\"\"\n",
    "    Parameter:\n",
    "    n1:int\n",
    "    n2:int\n",
    "    \"\"\"\n",
    "    print(n1+n2)"
   ]
  },
  {
   "cell_type": "code",
   "execution_count": 38,
   "id": "bea9f3c7",
   "metadata": {
    "hidden": true
   },
   "outputs": [
    {
     "name": "stdout",
     "output_type": "stream",
     "text": [
      "3\n"
     ]
    }
   ],
   "source": [
    "x=add(1,2)"
   ]
  },
  {
   "cell_type": "code",
   "execution_count": 46,
   "id": "60689910",
   "metadata": {
    "hidden": true
   },
   "outputs": [
    {
     "name": "stdout",
     "output_type": "stream",
     "text": [
      "None\n"
     ]
    }
   ],
   "source": [
    "print(x)"
   ]
  },
  {
   "cell_type": "code",
   "execution_count": 39,
   "id": "cf598511",
   "metadata": {
    "hidden": true
   },
   "outputs": [
    {
     "ename": "TypeError",
     "evalue": "unsupported operand type(s) for +: 'NoneType' and 'int'",
     "output_type": "error",
     "traceback": [
      "\u001b[1;31m---------------------------------------------------------------------------\u001b[0m",
      "\u001b[1;31mTypeError\u001b[0m                                 Traceback (most recent call last)",
      "Cell \u001b[1;32mIn[39], line 1\u001b[0m\n\u001b[1;32m----> 1\u001b[0m \u001b[43mx\u001b[49m\u001b[38;5;241;43m+\u001b[39;49m\u001b[38;5;241;43m2\u001b[39;49m\n",
      "\u001b[1;31mTypeError\u001b[0m: unsupported operand type(s) for +: 'NoneType' and 'int'"
     ]
    }
   ],
   "source": [
    "x+2"
   ]
  },
  {
   "cell_type": "code",
   "execution_count": 9,
   "id": "f1d95ab3",
   "metadata": {
    "collapsed": true,
    "hidden": true
   },
   "outputs": [
    {
     "name": "stdout",
     "output_type": "stream",
     "text": [
      "Help on function println in module __main__:\n",
      "\n",
      "println(n)\n",
      "    Function to print line\n",
      "    n:user input\n",
      "\n"
     ]
    }
   ],
   "source": [
    "help(println)"
   ]
  },
  {
   "cell_type": "code",
   "execution_count": 3,
   "id": "73eaf8e3",
   "metadata": {
    "hidden": true
   },
   "outputs": [
    {
     "name": "stdout",
     "output_type": "stream",
     "text": [
      "Hello\n"
     ]
    }
   ],
   "source": [
    "println('Hello')"
   ]
  },
  {
   "cell_type": "code",
   "execution_count": null,
   "id": "7fd1fe8f",
   "metadata": {
    "hidden": true
   },
   "outputs": [],
   "source": [
    "print()"
   ]
  },
  {
   "cell_type": "markdown",
   "id": "8924df8a",
   "metadata": {
    "heading_collapsed": true,
    "hidden": true
   },
   "source": [
    "## Basic syntax for defining and calling functions"
   ]
  },
  {
   "cell_type": "markdown",
   "id": "1f420c94",
   "metadata": {
    "hidden": true
   },
   "source": [
    "In Python, you define a function using the def keyword, followed by the name of the function and any parameters it takes in parentheses. The code block that makes up the function is then indented below the def statement. Here's an example of a simple function that takes two numbers and returns their sum:\n",
    "\n",
    "```python\n",
    "\n",
    "def add_numbers(a, b):\n",
    "    return a + b\n",
    "```\n",
    "\n",
    "In this example, the function is named `add_numbers` and takes two parameters `a` and `b`. The code block below the `def` statement simply adds the two parameters together using the + operator and returns the result.\n",
    "\n",
    "Once you've defined a function, you can call it by simply typing its name and passing in any required arguments in parentheses. Here's an example of how you would call the add_numbers function:\n",
    "\n",
    "```python\n",
    "result = add_numbers(3, 5)\n",
    "print(result) # Output: 8\n",
    "```\n",
    "\n",
    "In this example, we're calling the `add_numbers` function with the arguments 3 and 5. The function returns 8, which is then assigned to the variable result. Finally, we use the print function to output the value of result."
   ]
  },
  {
   "cell_type": "markdown",
   "id": "88ac3f31",
   "metadata": {
    "heading_collapsed": true,
    "hidden": true
   },
   "source": [
    "## Parameters and arguments"
   ]
  },
  {
   "cell_type": "markdown",
   "id": "9a5d62f6",
   "metadata": {
    "heading_collapsed": true,
    "hidden": true
   },
   "source": [
    "### \n",
    "<li style=\"color:blue;font-size:15px\">Parameters are the variables that are listed in the definition of a function or method. They represent the inputs that the function expects to receive when it is called."
   ]
  },
  {
   "cell_type": "code",
   "execution_count": null,
   "id": "9903f0bf",
   "metadata": {
    "hidden": true
   },
   "outputs": [],
   "source": []
  },
  {
   "cell_type": "markdown",
   "id": "2a988c5b",
   "metadata": {
    "heading_collapsed": true,
    "hidden": true
   },
   "source": [
    "### Default parameters"
   ]
  },
  {
   "cell_type": "code",
   "execution_count": null,
   "id": "1e9ed641",
   "metadata": {
    "hidden": true
   },
   "outputs": [],
   "source": []
  },
  {
   "cell_type": "code",
   "execution_count": null,
   "id": "38cc8e29",
   "metadata": {
    "hidden": true
   },
   "outputs": [],
   "source": []
  },
  {
   "cell_type": "markdown",
   "id": "1de9e9c9",
   "metadata": {
    "heading_collapsed": true,
    "hidden": true
   },
   "source": [
    "### \n",
    "<li style=\"color:blue;font-size:15px\">Arguments are the actual values that are passed to a function when it is called. These values are assigned to the corresponding parameters of the function."
   ]
  },
  {
   "cell_type": "markdown",
   "id": "e2a860b1",
   "metadata": {
    "hidden": true
   },
   "source": [
    "## Returning values from functions\n"
   ]
  },
  {
   "cell_type": "code",
   "execution_count": null,
   "id": "dc43e23c",
   "metadata": {
    "hidden": true
   },
   "outputs": [],
   "source": []
  },
  {
   "cell_type": "code",
   "execution_count": null,
   "id": "2b15d7af",
   "metadata": {
    "hidden": true
   },
   "outputs": [],
   "source": []
  },
  {
   "cell_type": "markdown",
   "id": "173bc8e5",
   "metadata": {
    "hidden": true
   },
   "source": [
    "### Note 1:"
   ]
  },
  {
   "cell_type": "markdown",
   "id": "1c35a29a",
   "metadata": {
    "hidden": true
   },
   "source": [
    "\n",
    "Technically, every function in Python returns a value whether you use return or not. If a function does not return a value, by default, it returns a special value `None`. For this reason, a function that does not return a value is also called a None function. The None value can be assigned to a variable to indicate that the variable does not reference any object. For example, if you run the following program, you will see the output is None, because the sum function does not have a return statement. By default, it returns None."
   ]
  },
  {
   "cell_type": "markdown",
   "id": "d2582704",
   "metadata": {
    "hidden": true
   },
   "source": [
    "### Note 2:"
   ]
  },
  {
   "cell_type": "markdown",
   "id": "cdfac1db",
   "metadata": {
    "hidden": true
   },
   "source": [
    "\n",
    "A return statement is not needed for a None function, but it can be used for terminating the function and returning control to the function’s caller. The syntax is simply\n",
    "\n",
    "**return** (or)\n",
    "\n",
    "**return None**\n",
    "\n",
    "This is rarely used, but it is sometimes useful for circumventing the normal flow of control in a function that does not return any value. For example, the following code has a return statement to terminate the function when the score is invalid."
   ]
  },
  {
   "cell_type": "markdown",
   "id": "cdcd721c",
   "metadata": {
    "heading_collapsed": true,
    "hidden": true
   },
   "source": [
    "## <p style=color:#5d8aa8;background-color:#f2f3f4;padding:5px;border-radius:5px><span style=color:red>Example 1</span>: A function to calculate and return the area of a circle given its radius and area."
   ]
  },
  {
   "cell_type": "code",
   "execution_count": 40,
   "id": "a33b6d46",
   "metadata": {
    "hidden": true
   },
   "outputs": [],
   "source": [
    "def circle(radius):\n",
    "    return (2*(22/7))*radius"
   ]
  },
  {
   "cell_type": "code",
   "execution_count": 42,
   "id": "ae8e7809",
   "metadata": {
    "hidden": true
   },
   "outputs": [],
   "source": [
    "area_1=circle(10)\n",
    "area_2=circle(15)"
   ]
  },
  {
   "cell_type": "code",
   "execution_count": 45,
   "id": "ae17bfbe",
   "metadata": {
    "hidden": true
   },
   "outputs": [
    {
     "data": {
      "text/plain": [
       "157.14285714285714"
      ]
     },
     "execution_count": 45,
     "metadata": {},
     "output_type": "execute_result"
    }
   ],
   "source": [
    "total_area=area_1+area_2\n",
    "total_area"
   ]
  },
  {
   "cell_type": "markdown",
   "id": "527d23ab",
   "metadata": {
    "heading_collapsed": true,
    "hidden": true
   },
   "source": [
    "## <p style=color:#5d8aa8;background-color:#f2f3f4;padding:5px;border-radius:5px><span style=color:red>Example 2</span>:A function to calculate and return the factorial of a number"
   ]
  },
  {
   "cell_type": "code",
   "execution_count": null,
   "id": "a2b45a00",
   "metadata": {
    "hidden": true
   },
   "outputs": [],
   "source": []
  },
  {
   "cell_type": "markdown",
   "id": "b3c29e60",
   "metadata": {
    "heading_collapsed": true,
    "hidden": true
   },
   "source": [
    "## <p style=color:#5d8aa8;background-color:#f2f3f4;padding:5px;border-radius:5px><span style=color:red>Example 3</span>:A function to count and return the number of vowels in a string"
   ]
  },
  {
   "cell_type": "code",
   "execution_count": null,
   "id": "6c185d61",
   "metadata": {
    "hidden": true
   },
   "outputs": [],
   "source": []
  },
  {
   "cell_type": "markdown",
   "id": "27e0450d",
   "metadata": {
    "heading_collapsed": true,
    "hidden": true
   },
   "source": [
    "## <p style=color:#5d8aa8;background-color:#f2f3f4;padding:5px;border-radius:5px><span style=color:red>Example 4</span>: Rock Paper Scissors game"
   ]
  },
  {
   "cell_type": "code",
   "execution_count": 9,
   "id": "1494a654",
   "metadata": {
    "hidden": true
   },
   "outputs": [
    {
     "name": "stdout",
     "output_type": "stream",
     "text": [
      "Enter a choice (rock, paper, scissors): rock\n",
      "\n",
      "You chose rock, computer chose scissors.\n",
      "\n",
      "Rock smashes scissors! You win!\n"
     ]
    }
   ],
   "source": [
    "import random\n",
    "\n",
    "user_action = input(\"Enter a choice (rock, paper, scissors): \")\n",
    "possible_actions = [\"rock\", \"paper\", \"scissors\"]\n",
    "computer_action = random.choice(possible_actions)\n",
    "print(f\"\\nYou chose {user_action}, computer chose {computer_action}.\\n\")\n",
    "\n",
    "if user_action == computer_action:\n",
    "    print(f\"Both players selected {user_action}. It's a tie!\")\n",
    "elif user_action == \"rock\":\n",
    "    if computer_action == \"scissors\":\n",
    "        print(\"Rock smashes scissors! You win!\")\n",
    "    else:\n",
    "        print(\"Paper covers rock! You lose.\")\n",
    "elif user_action == \"paper\":\n",
    "    if computer_action == \"rock\":\n",
    "        print(\"Paper covers rock! You win!\")\n",
    "    else:\n",
    "        print(\"Scissors cuts paper! You lose.\")\n",
    "elif user_action == \"scissors\":\n",
    "    if computer_action == \"paper\":\n",
    "        print(\"Scissors cuts paper! You win!\")\n",
    "    else:\n",
    "        print(\"Rock smashes scissors! You lose.\")"
   ]
  },
  {
   "cell_type": "code",
   "execution_count": 1,
   "id": "1644ad6c",
   "metadata": {
    "hidden": true
   },
   "outputs": [
    {
     "name": "stdout",
     "output_type": "stream",
     "text": [
      "Writing gamefile.py\n"
     ]
    }
   ],
   "source": [
    "%%writefile gamefile.py\n",
    "import random\n",
    "import random\n",
    "import math\n",
    "\n",
    "def rps(user_action):\n",
    "\n",
    "    possible_actions = [\"rock\", \"paper\", \"scissors\"]\n",
    "    computer_action = random.choice(possible_actions)\n",
    "    print(f\"\\nYou chose {user_action}, computer chose {computer_action}.\\n\")\n",
    "\n",
    "    if user_action == computer_action:\n",
    "        print(f\"Both players selected {user_action}. It's a tie!\")\n",
    "    elif user_action == \"rock\":\n",
    "        if computer_action == \"scissors\":\n",
    "            print(\"Rock smashes scissors! You win!\")\n",
    "        else:\n",
    "            print(\"Paper covers rock! You lose.\")\n",
    "    elif user_action == \"paper\":\n",
    "        if computer_action == \"rock\":\n",
    "            print(\"Paper covers rock! You win!\")\n",
    "        else:\n",
    "            print(\"Scissors cuts paper! You lose.\")\n",
    "    elif user_action == \"scissors\":\n",
    "        if computer_action == \"paper\":\n",
    "            print(\"Scissors cuts paper! You win!\")\n",
    "        else:\n",
    "            print(\"Rock smashes scissors! You lose.\")\n",
    "\n",
    "def guess_game(lower,upper):\n",
    "\n",
    "# generating random number between\n",
    "# the lower and upper\n",
    "     x = random.randint(lower, upper)\n",
    "     print(\"\\n\\tYou've only \",\n",
    "          round(math.log(upper - lower + 1, 2)),\n",
    "          \" chances to guess the integer!\\n\")\n",
    " \n",
    " # Initializing the number of guesses.\n",
    "       count = 0\n",
    " \n",
    "  # for calculation of minimum number of\n",
    "  # guesses depends upon range\n",
    "    while count < math.log(upper - lower + 1, 2):\n",
    "        count += 1\n",
    " \n",
    "      # taking guessing number as input\n",
    "        guess = int(input(\"Guess a number:- \"))\n",
    " \n",
    "    # Condition testing\n",
    "        if x == guess:\n",
    "            print(\"Congratulations you did it in \",\n",
    "                  count, \" try\")\n",
    "    # Once guessed, loop will break\n",
    "           break\n",
    "        elif x > guess:\n",
    "            print(\"You guessed too small!\")\n",
    "        elif x < guess:\n",
    "            print(\"You Guessed too high!\")\n",
    " \n",
    "  # If Guessing is more than required guesses,\n",
    "# shows this output.\n",
    "    if count >= math.log(upper - lower + 1, 2):\n",
    "        print(\"\\nThe number is %d\" % x)\n",
    "        print(\"\\tBetter Luck Next time!\")\n",
    " \n",
    " # Better to use This source Code on pycharm!\n"
   ]
  },
  {
   "cell_type": "code",
   "execution_count": 2,
   "id": "237221cb",
   "metadata": {},
   "outputs": [
    {
     "ename": "IndentationError",
     "evalue": "unexpected indent (gamefile.py, line 39)",
     "output_type": "error",
     "traceback": [
      "Traceback \u001b[1;36m(most recent call last)\u001b[0m:\n",
      "\u001b[0m  File \u001b[0;32m~\\anaconda3\\lib\\site-packages\\IPython\\core\\interactiveshell.py:3460\u001b[0m in \u001b[0;35mrun_code\u001b[0m\n    exec(code_obj, self.user_global_ns, self.user_ns)\u001b[0m\n",
      "\u001b[1;36m  Cell \u001b[1;32mIn[2], line 1\u001b[1;36m\n\u001b[1;33m    from gamefile import *\u001b[1;36m\n",
      "\u001b[1;36m  File \u001b[1;32m~\\Desktop\\Veni\\Salem\\Homework\\gamefile.py:39\u001b[1;36m\u001b[0m\n\u001b[1;33m    count = 0\u001b[0m\n\u001b[1;37m    ^\u001b[0m\n\u001b[1;31mIndentationError\u001b[0m\u001b[1;31m:\u001b[0m unexpected indent\n"
     ]
    }
   ],
   "source": [
    "from gamefile import * \n",
    "user_action = input(\"Enter a choice (rock, paper, scissors): \")\n",
    "rps(user_action)\n",
    "\n",
    "# Taking Inputs\n",
    "lower = int(input(\"Enter Lower bound:- \"))\n",
    "\n",
    "# Taking Inputs\n",
    "upper = int(input(\"Enter Upper bound:- \"))\n",
    "\n",
    "guess_game(lower,upper)"
   ]
  },
  {
   "cell_type": "markdown",
   "id": "ddce9f6b",
   "metadata": {
    "heading_collapsed": true,
    "hidden": true
   },
   "source": [
    "## <p style=color:#5d8aa8;background-color:#f2f3f4;padding:5px;border-radius:5px><span style=color:red>Example 5</span>:Guessing game"
   ]
  },
  {
   "cell_type": "code",
   "execution_count": 8,
   "id": "b6e0cd18",
   "metadata": {
    "hidden": true
   },
   "outputs": [
    {
     "name": "stdout",
     "output_type": "stream",
     "text": [
      "Enter Lower bound:- 1\n",
      "Enter Upper bound:- 3\n",
      "\n",
      "\tYou've only  2  chances to guess the integer!\n",
      "\n",
      "Guess a number:- 10\n",
      "You Guessed too high!\n",
      "Guess a number:- 5\n",
      "You Guessed too high!\n",
      "\n",
      "The number is 3\n",
      "\tBetter Luck Next time!\n"
     ]
    }
   ],
   "source": [
    "import random\n",
    "import math\n",
    "# Taking Inputs\n",
    "lower = int(input(\"Enter Lower bound:- \"))\n",
    " \n",
    "# Taking Inputs\n",
    "upper = int(input(\"Enter Upper bound:- \"))\n",
    " \n",
    "# generating random number between\n",
    "# the lower and upper\n",
    "x = random.randint(lower, upper)\n",
    "print(\"\\n\\tYou've only \",\n",
    "       round(math.log(upper - lower + 1, 2)),\n",
    "      \" chances to guess the integer!\\n\")\n",
    " \n",
    "# Initializing the number of guesses.\n",
    "count = 0\n",
    " \n",
    "# for calculation of minimum number of\n",
    "# guesses depends upon range\n",
    "while count < math.log(upper - lower + 1, 2):\n",
    "    count += 1\n",
    " \n",
    "    # taking guessing number as input\n",
    "    guess = int(input(\"Guess a number:- \"))\n",
    " \n",
    "    # Condition testing\n",
    "    if x == guess:\n",
    "        print(\"Congratulations you did it in \",\n",
    "              count, \" try\")\n",
    "        # Once guessed, loop will break\n",
    "        break\n",
    "    elif x > guess:\n",
    "        print(\"You guessed too small!\")\n",
    "    elif x < guess:\n",
    "        print(\"You Guessed too high!\")\n",
    " \n",
    "# If Guessing is more than required guesses,\n",
    "# shows this output.\n",
    "if count >= math.log(upper - lower + 1, 2):\n",
    "    print(\"\\nThe number is %d\" % x)\n",
    "    print(\"\\tBetter Luck Next time!\")\n",
    " \n",
    "# Better to use This source Code on pycharm!"
   ]
  },
  {
   "cell_type": "markdown",
   "id": "fef90f9f",
   "metadata": {
    "heading_collapsed": true,
    "hidden": true
   },
   "source": [
    "## <p style=color:#5d8aa8;background-color:#f2f3f4;padding:5px;border-radius:5px><span style=color:red>Example 6</span>: Hangman game"
   ]
  },
  {
   "cell_type": "code",
   "execution_count": 7,
   "id": "b883720a",
   "metadata": {
    "code_folding": [],
    "hidden": true
   },
   "outputs": [
    {
     "name": "stdout",
     "output_type": "stream",
     "text": [
      "What is your name? Veni\n",
      "Hello, Veni Time to play hangman!\n",
      "Start guessing...\n",
      "______guess a character:s\n",
      "s_____guess a character:e\n",
      "se__e_guess a character:secret\n",
      "secretYou won\n"
     ]
    }
   ],
   "source": [
    "#importing the time module\n",
    "import time\n",
    "\n",
    "#welcoming the user\n",
    "name = input(\"What is your name? \")\n",
    "\n",
    "print (\"Hello, \" + name, \"Time to play hangman!\")\n",
    "\n",
    "#wait for 1 second\n",
    "time.sleep(1)\n",
    "\n",
    "print (\"Start guessing...\")\n",
    "time.sleep(0.5)\n",
    "\n",
    "#here we set the secret. You can select any word to play with. \n",
    "word = (\"secret\")\n",
    "\n",
    "#creates an variable with an empty value\n",
    "guesses = ''\n",
    "\n",
    "#determine the number of turns\n",
    "turns = 10\n",
    "\n",
    "# Create a while loop\n",
    "\n",
    "#check if the turns are more than zero\n",
    "while turns > 0:         \n",
    "\n",
    "    # make a counter that starts with zero\n",
    "    failed = 0             \n",
    "\n",
    "    # for every character in secret_word    \n",
    "    for char in word:      \n",
    "\n",
    "    # see if the character is in the players guess\n",
    "        if char in guesses:    \n",
    "    \n",
    "        # print then out the character\n",
    "            print (char,end=\"\"),    \n",
    "\n",
    "        else:\n",
    "    \n",
    "        # if not found, print a dash\n",
    "            print (\"_\",end=\"\"),     \n",
    "       \n",
    "        # and increase the failed counter with one\n",
    "            failed += 1    \n",
    "\n",
    "    # if failed is equal to zero\n",
    "\n",
    "    # print You Won\n",
    "    if failed == 0:        \n",
    "        print (\"You won\")\n",
    "    # exit the script\n",
    "        break            \n",
    "    # ask the user go guess a character\n",
    "    guess = input(\"guess a character:\") \n",
    "\n",
    "    # set the players guess to guesses\n",
    "    guesses += guess                    \n",
    "\n",
    "    # if the guess is not found in the secret word\n",
    "    if guess not in word:  \n",
    " \n",
    "     # turns counter decreases with 1 (now 9)\n",
    "        turns -= 1        \n",
    " \n",
    "    # print wrong\n",
    "        print (\"Wrong\")  \n",
    " \n",
    "    # how many turns are left\n",
    "        print (\"You have\", + turns, 'more guesses' )\n",
    " \n",
    "    # if the turns are equal to zero\n",
    "        if turns == 0:           \n",
    "    \n",
    "        # print \"You Lose\"\n",
    "            print (\"You Lose\")\n",
    "  \n"
   ]
  },
  {
   "cell_type": "code",
   "execution_count": null,
   "id": "22903b46",
   "metadata": {
    "hidden": true
   },
   "outputs": [],
   "source": []
  },
  {
   "cell_type": "markdown",
   "id": "0a5a0bf6",
   "metadata": {
    "heading_collapsed": true,
    "hidden": true
   },
   "source": [
    "## Modularizing Code\n",
    "\n",
    "Functions can be used to reduce redundant code and enable code reuse. Functions can also be used to modularize code and improve a program’s quality. In Python, you can place the function definition into a file called module with the file-name extension .py. The module can be later imported into a program for reuse. The module file should be placed in the same directory with your other programs. A module can contain more than one function. Each function in a module must have a different name."
   ]
  },
  {
   "cell_type": "code",
   "execution_count": 47,
   "id": "a77ac43d",
   "metadata": {
    "hidden": true
   },
   "outputs": [],
   "source": [
    "def add(*args):\n",
    "    structure=args\n",
    "    print(structure)"
   ]
  },
  {
   "cell_type": "code",
   "execution_count": 49,
   "id": "29ae832c",
   "metadata": {
    "collapsed": true,
    "hidden": true
   },
   "outputs": [
    {
     "name": "stdout",
     "output_type": "stream",
     "text": [
      "(1, 2, 3, 0)\n",
      "(1, 2, 3, 1)\n",
      "(1, 2, 3, 2)\n",
      "(1, 2, 3, 3)\n",
      "(1, 2, 3, 4)\n",
      "(1, 2, 3, 5)\n",
      "(1, 2, 3, 6)\n",
      "(1, 2, 3, 7)\n",
      "(1, 2, 3, 8)\n",
      "(1, 2, 3, 9)\n",
      "(1, 2, 3, 10)\n",
      "(1, 2, 3, 11)\n",
      "(1, 2, 3, 12)\n",
      "(1, 2, 3, 13)\n",
      "(1, 2, 3, 14)\n",
      "(1, 2, 3, 15)\n",
      "(1, 2, 3, 16)\n",
      "(1, 2, 3, 17)\n",
      "(1, 2, 3, 18)\n",
      "(1, 2, 3, 19)\n",
      "(1, 2, 3, 20)\n",
      "(1, 2, 3, 21)\n",
      "(1, 2, 3, 22)\n",
      "(1, 2, 3, 23)\n",
      "(1, 2, 3, 24)\n",
      "(1, 2, 3, 25)\n",
      "(1, 2, 3, 26)\n",
      "(1, 2, 3, 27)\n",
      "(1, 2, 3, 28)\n",
      "(1, 2, 3, 29)\n",
      "(1, 2, 3, 30)\n",
      "(1, 2, 3, 31)\n",
      "(1, 2, 3, 32)\n",
      "(1, 2, 3, 33)\n",
      "(1, 2, 3, 34)\n",
      "(1, 2, 3, 35)\n",
      "(1, 2, 3, 36)\n",
      "(1, 2, 3, 37)\n",
      "(1, 2, 3, 38)\n",
      "(1, 2, 3, 39)\n",
      "(1, 2, 3, 40)\n",
      "(1, 2, 3, 41)\n",
      "(1, 2, 3, 42)\n",
      "(1, 2, 3, 43)\n",
      "(1, 2, 3, 44)\n",
      "(1, 2, 3, 45)\n",
      "(1, 2, 3, 46)\n",
      "(1, 2, 3, 47)\n",
      "(1, 2, 3, 48)\n",
      "(1, 2, 3, 49)\n",
      "(1, 2, 3, 50)\n",
      "(1, 2, 3, 51)\n",
      "(1, 2, 3, 52)\n",
      "(1, 2, 3, 53)\n",
      "(1, 2, 3, 54)\n",
      "(1, 2, 3, 55)\n",
      "(1, 2, 3, 56)\n",
      "(1, 2, 3, 57)\n",
      "(1, 2, 3, 58)\n",
      "(1, 2, 3, 59)\n",
      "(1, 2, 3, 60)\n",
      "(1, 2, 3, 61)\n",
      "(1, 2, 3, 62)\n",
      "(1, 2, 3, 63)\n",
      "(1, 2, 3, 64)\n",
      "(1, 2, 3, 65)\n",
      "(1, 2, 3, 66)\n",
      "(1, 2, 3, 67)\n",
      "(1, 2, 3, 68)\n",
      "(1, 2, 3, 69)\n",
      "(1, 2, 3, 70)\n",
      "(1, 2, 3, 71)\n",
      "(1, 2, 3, 72)\n",
      "(1, 2, 3, 73)\n",
      "(1, 2, 3, 74)\n",
      "(1, 2, 3, 75)\n",
      "(1, 2, 3, 76)\n",
      "(1, 2, 3, 77)\n",
      "(1, 2, 3, 78)\n",
      "(1, 2, 3, 79)\n",
      "(1, 2, 3, 80)\n",
      "(1, 2, 3, 81)\n",
      "(1, 2, 3, 82)\n",
      "(1, 2, 3, 83)\n",
      "(1, 2, 3, 84)\n",
      "(1, 2, 3, 85)\n",
      "(1, 2, 3, 86)\n",
      "(1, 2, 3, 87)\n",
      "(1, 2, 3, 88)\n",
      "(1, 2, 3, 89)\n",
      "(1, 2, 3, 90)\n",
      "(1, 2, 3, 91)\n",
      "(1, 2, 3, 92)\n",
      "(1, 2, 3, 93)\n",
      "(1, 2, 3, 94)\n",
      "(1, 2, 3, 95)\n",
      "(1, 2, 3, 96)\n",
      "(1, 2, 3, 97)\n",
      "(1, 2, 3, 98)\n",
      "(1, 2, 3, 99)\n"
     ]
    }
   ],
   "source": [
    "for i in range(100):\n",
    "    add(1,2,3,i)"
   ]
  },
  {
   "cell_type": "code",
   "execution_count": 59,
   "id": "3bfae5f8",
   "metadata": {
    "hidden": true
   },
   "outputs": [
    {
     "name": "stdout",
     "output_type": "stream",
     "text": [
      "Writing calc.py\n"
     ]
    }
   ],
   "source": [
    "%%writefile calc.py #create file\n",
    "\n",
    "def add(*args):\n",
    "    structure=args\n",
    "    return sum(structure)\n",
    "\n",
    "def sub(*args):\n",
    "    structure=args\n",
    "    count=0\n",
    "    for i in structure:\n",
    "        count-=i\n",
    "    return count\n",
    "\n",
    "# def \n",
    "\n",
    "# def division"
   ]
  },
  {
   "cell_type": "code",
   "execution_count": 4,
   "id": "92595958",
   "metadata": {
    "hidden": true
   },
   "outputs": [],
   "source": [
    "import calc as c"
   ]
  },
  {
   "cell_type": "code",
   "execution_count": 2,
   "id": "fdaafacd",
   "metadata": {
    "hidden": true
   },
   "outputs": [],
   "source": [
    "from calc import add"
   ]
  },
  {
   "cell_type": "code",
   "execution_count": 4,
   "id": "01467e8f",
   "metadata": {
    "hidden": true
   },
   "outputs": [
    {
     "data": {
      "text/plain": [
       "3"
      ]
     },
     "execution_count": 4,
     "metadata": {},
     "output_type": "execute_result"
    }
   ],
   "source": [
    "add(1,2)"
   ]
  },
  {
   "cell_type": "code",
   "execution_count": null,
   "id": "1f79bba6",
   "metadata": {
    "hidden": true
   },
   "outputs": [],
   "source": [
    "calc.add()"
   ]
  },
  {
   "cell_type": "code",
   "execution_count": null,
   "id": "bb6bcf85",
   "metadata": {
    "hidden": true
   },
   "outputs": [],
   "source": [
    "c.add\n",
    "c.sub"
   ]
  },
  {
   "cell_type": "code",
   "execution_count": 10,
   "id": "2ca83dbe",
   "metadata": {
    "hidden": true
   },
   "outputs": [
    {
     "data": {
      "text/plain": [
       "15"
      ]
     },
     "execution_count": 10,
     "metadata": {},
     "output_type": "execute_result"
    }
   ],
   "source": [
    "from calc import *\n",
    "\n",
    "add(1,2,3,4,5)"
   ]
  },
  {
   "cell_type": "code",
   "execution_count": 11,
   "id": "d080f0aa",
   "metadata": {
    "hidden": true
   },
   "outputs": [
    {
     "data": {
      "text/plain": [
       "-15"
      ]
     },
     "execution_count": 11,
     "metadata": {},
     "output_type": "execute_result"
    }
   ],
   "source": [
    "sub(1,2,3,4,5)"
   ]
  },
  {
   "cell_type": "code",
   "execution_count": 8,
   "id": "3e83ff19",
   "metadata": {
    "hidden": true
   },
   "outputs": [],
   "source": [
    "import random as r"
   ]
  },
  {
   "cell_type": "code",
   "execution_count": 9,
   "id": "a17756e7",
   "metadata": {
    "hidden": true
   },
   "outputs": [
    {
     "data": {
      "text/plain": [
       "0.9603846320945219"
      ]
     },
     "execution_count": 9,
     "metadata": {},
     "output_type": "execute_result"
    }
   ],
   "source": [
    "r.random()"
   ]
  },
  {
   "cell_type": "code",
   "execution_count": 7,
   "id": "e5f7a134",
   "metadata": {
    "hidden": true
   },
   "outputs": [
    {
     "data": {
      "text/plain": [
       "2"
      ]
     },
     "execution_count": 7,
     "metadata": {},
     "output_type": "execute_result"
    }
   ],
   "source": [
    "random.randint(1,2)"
   ]
  },
  {
   "cell_type": "code",
   "execution_count": 1,
   "id": "09090813",
   "metadata": {
    "hidden": true
   },
   "outputs": [],
   "source": [
    "import calc"
   ]
  },
  {
   "cell_type": "code",
   "execution_count": 2,
   "id": "d549d957",
   "metadata": {
    "hidden": true
   },
   "outputs": [
    {
     "data": {
      "text/plain": [
       "15"
      ]
     },
     "execution_count": 2,
     "metadata": {},
     "output_type": "execute_result"
    }
   ],
   "source": [
    "calc.add(1,2,3,4,5)"
   ]
  },
  {
   "cell_type": "code",
   "execution_count": 3,
   "id": "e4b975ec",
   "metadata": {
    "hidden": true
   },
   "outputs": [
    {
     "data": {
      "text/plain": [
       "-15"
      ]
     },
     "execution_count": 3,
     "metadata": {},
     "output_type": "execute_result"
    }
   ],
   "source": [
    "calc.sub(1,2,3,4,5)"
   ]
  },
  {
   "cell_type": "code",
   "execution_count": 58,
   "id": "c4ba1c38",
   "metadata": {
    "hidden": true
   },
   "outputs": [
    {
     "data": {
      "text/plain": [
       "-28"
      ]
     },
     "execution_count": 58,
     "metadata": {},
     "output_type": "execute_result"
    }
   ],
   "source": [
    "sub(1,2,3,4,5,6,7)"
   ]
  },
  {
   "cell_type": "code",
   "execution_count": 51,
   "id": "42faceed",
   "metadata": {
    "hidden": true
   },
   "outputs": [
    {
     "data": {
      "text/plain": [
       "7"
      ]
     },
     "execution_count": 51,
     "metadata": {},
     "output_type": "execute_result"
    }
   ],
   "source": [
    "add(1,4,2)"
   ]
  },
  {
   "cell_type": "code",
   "execution_count": 55,
   "id": "78bcd453",
   "metadata": {
    "code_folding": [
     2
    ],
    "hidden": true
   },
   "outputs": [
    {
     "name": "stdout",
     "output_type": "stream",
     "text": [
      "Enter a number or 0 to stop1\n",
      "Enter a number or 0 to stop\n"
     ]
    },
    {
     "ename": "ValueError",
     "evalue": "invalid literal for int() with base 10: ''",
     "output_type": "error",
     "traceback": [
      "\u001b[1;31m---------------------------------------------------------------------------\u001b[0m",
      "\u001b[1;31mValueError\u001b[0m                                Traceback (most recent call last)",
      "Cell \u001b[1;32mIn[55], line 4\u001b[0m\n\u001b[0;32m      1\u001b[0m values\u001b[38;5;241m=\u001b[39m[]\n\u001b[0;32m      3\u001b[0m \u001b[38;5;28;01mwhile\u001b[39;00m \u001b[38;5;28;01mTrue\u001b[39;00m:\n\u001b[1;32m----> 4\u001b[0m     n1\u001b[38;5;241m=\u001b[39m\u001b[38;5;28;43mint\u001b[39;49m\u001b[43m(\u001b[49m\u001b[38;5;28;43minput\u001b[39;49m\u001b[43m(\u001b[49m\u001b[38;5;124;43m'\u001b[39;49m\u001b[38;5;124;43mEnter a number or 0 to stop\u001b[39;49m\u001b[38;5;124;43m'\u001b[39;49m\u001b[43m)\u001b[49m\u001b[43m)\u001b[49m\n\u001b[0;32m      5\u001b[0m     \u001b[38;5;28;01mif\u001b[39;00m n1\u001b[38;5;241m==\u001b[39m\u001b[38;5;241m0\u001b[39m:\u001b[38;5;28;01mbreak\u001b[39;00m\n\u001b[0;32m      6\u001b[0m     \u001b[38;5;28;01melse\u001b[39;00m:\n",
      "\u001b[1;31mValueError\u001b[0m: invalid literal for int() with base 10: ''"
     ]
    }
   ],
   "source": [
    "values=[]\n",
    "\n",
    "while True:\n",
    "    n1=int(input('Enter a number or 0 to stop'))\n",
    "    if n1==0:break\n",
    "    else:\n",
    "        add(n1)\n"
   ]
  },
  {
   "cell_type": "code",
   "execution_count": 54,
   "id": "636d6fc8",
   "metadata": {
    "hidden": true
   },
   "outputs": [],
   "source": [
    "# add(values)"
   ]
  },
  {
   "cell_type": "markdown",
   "id": "9e9c594c",
   "metadata": {
    "heading_collapsed": true
   },
   "source": [
    "# <p style=\"color:purple\">Lambda Functions"
   ]
  },
  {
   "cell_type": "markdown",
   "id": "faa14112",
   "metadata": {
    "hidden": true
   },
   "source": [
    "<p style=\"color:blue;\">A lambda function in Python is a special type of function without a name👻 that can take any number of arguments but evaluates and returns only one expression. A lambda function in Python has the following syntax:</p>\n",
    "\n",
    "<pre style=\"color:green;\">lambda arguments: expression</pre>\n",
    "\n",
    "\n",
    "<p style=\"color:red;\">Imagine you are a chef👩‍🍳 who needs to make different dishes for different customers. You have a recipe book that contains many named functions, such as <code>make_pizza</code>, <code>make_salad</code>, <code>make_soup</code>, etc. Each function takes some ingredients as arguments and returns a dish as an expression.</p>\n",
    "\n",
    "<p style=\"color:red;\">However, sometimes you need to make a dish that is not in your recipe book, such as <code>make_sandwich</code>. You don't want to write a new function for it because it is too simple and you only need it once. So you use a lambda function instead:</p>\n",
    "\n",
    "<pre style=\"color:green;\">lambda bread, cheese, ham: bread + cheese + ham + bread</pre>\n",
    "\n",
    "<p style=\"color:red;\">This lambda function takes three ingredients as arguments and returns a sandwich🥪 as an expression. You don't need to give it a name because you only use it once. You can call it like this:</p>\n",
    "\n",
    "<pre style=\"color:green;\">sandwich = (lambda bread, cheese, ham: bread + cheese + ham + bread)('white', 'cheddar', 'turkey')</pre>\n",
    "\n",
    "<p style=\"color:red;\">This will assign the value <code>'white'</code> to <code>bread</code>, <code>'cheddar'</code> to <code>cheese</code>, and <code>'turkey'</code> to <code>ham</code>, and then return <code>'whitecheddarturkeywhite'</code> as the sandwich.</p>\n",
    "\n",
    "<p style=\"color:blue;\">Using lambda functions can save you time and space when you need to create simple functions that are only used once.</p>"
   ]
  },
  {
   "cell_type": "markdown",
   "id": "8db70550",
   "metadata": {
    "hidden": true
   },
   "source": [
    "<h4 style=\"color:blue;\">Rules for writing lambda functions in Python:</h4>\n",
    "\n",
    "<ul style=\"color:red;\">\n",
    "<li>A lambda function can only contain expressions and can’t include statements in its body<sup>[1]</sup>. For example, you can't use <code>if</code>, <code>for</code>, or <code>print</code> statements inside a lambda function.😮</li>\n",
    "<li>A lambda function is written as a single line of execution<sup>[1]</sup>. For example, you can't use multiple lines or indentation inside a lambda function.😐</li>\n",
    "<li>A lambda function does not support type annotations<sup>[1]</sup>. For example, you can't specify the types of the arguments or the return value of a lambda function.😕</li>\n",
    "<li>A lambda function can be immediately invoked (IIFE)<sup>[1]</sup>. For example, you can call a lambda function right after defining it without assigning it to a variable.😎</li>\n",
    "<li>A lambda function has the following syntax: <code>lambda arguments: expression</code><sup>[4]</sup>. For example, you can define a lambda function that takes two arguments and returns their sum as <code>lambda x, y: x + y</code>.👍</li>\n",
    "<li>A lambda function can be named by assigning it to a variable, such as <code>add_two = lambda x: x + 2</code><sup>[3]</sup>. For example, you can use the variable name to call the lambda function later as <code>add_two(5)</code>.👏</li>\n",
    "</ul>"
   ]
  },
  {
   "cell_type": "markdown",
   "id": "1532b46f",
   "metadata": {
    "hidden": true
   },
   "source": [
    "## <p style=color:#5d8aa8;background-color:#f2f3f4;padding:5px;border-radius:5px><span style=color:red>Example 1</span>: A lambda expression that adds 10 to its argument and returns the result."
   ]
  },
  {
   "cell_type": "code",
   "execution_count": null,
   "id": "2e0e1bb0",
   "metadata": {
    "hidden": true
   },
   "outputs": [],
   "source": []
  },
  {
   "cell_type": "code",
   "execution_count": null,
   "id": "3262288f",
   "metadata": {
    "hidden": true
   },
   "outputs": [],
   "source": []
  },
  {
   "cell_type": "code",
   "execution_count": null,
   "id": "16b8fdde",
   "metadata": {
    "hidden": true
   },
   "outputs": [],
   "source": []
  },
  {
   "cell_type": "markdown",
   "id": "e2ae3e19",
   "metadata": {
    "hidden": true
   },
   "source": [
    "## <p style=color:#5d8aa8;background-color:#f2f3f4;padding:5px;border-radius:5px><span style=color:red>Example 2</span>: A lambda expression that multiplies two arguments and returns the result."
   ]
  },
  {
   "cell_type": "code",
   "execution_count": null,
   "id": "582ed03a",
   "metadata": {
    "hidden": true
   },
   "outputs": [],
   "source": []
  },
  {
   "cell_type": "markdown",
   "id": "6a039cbc",
   "metadata": {
    "hidden": true
   },
   "source": [
    "## <p style=color:#5d8aa8;background-color:#f2f3f4;padding:5px;border-radius:5px><span style=color:red>Example 3</span>: A lambda expression that checks if an argument is even or odd and returns a boolean value."
   ]
  },
  {
   "cell_type": "code",
   "execution_count": null,
   "id": "650ed4c5",
   "metadata": {
    "hidden": true
   },
   "outputs": [],
   "source": []
  },
  {
   "cell_type": "markdown",
   "id": "ed1b9e5e",
   "metadata": {
    "heading_collapsed": true,
    "hidden": true
   },
   "source": [
    "## <p style=color:#5d8aa8;background-color:#f2f3f4;padding:5px;border-radius:5px><span style=color:red>Example 4</span>: A lambda expression that converts an argument from Celsius to Kelvin and returns the result."
   ]
  },
  {
   "cell_type": "code",
   "execution_count": null,
   "id": "df5daa1b",
   "metadata": {
    "hidden": true
   },
   "outputs": [],
   "source": []
  },
  {
   "cell_type": "markdown",
   "id": "e012da5e",
   "metadata": {
    "hidden": true
   },
   "source": [
    "## <p style=color:#5d8aa8;background-color:#f2f3f4;padding:5px;border-radius:5px><span style=color:red>Example 5</span >: A lambda expression that reverses a string and returns the result.\n"
   ]
  },
  {
   "cell_type": "code",
   "execution_count": null,
   "id": "4c8d06c5",
   "metadata": {
    "hidden": true
   },
   "outputs": [],
   "source": []
  },
  {
   "cell_type": "markdown",
   "id": "060763f4",
   "metadata": {
    "hidden": true
   },
   "source": [
    "## <p style=color:green>Filter Function</p>"
   ]
  },
  {
   "cell_type": "markdown",
   "id": "00b8a46e",
   "metadata": {
    "hidden": true
   },
   "source": [
    "<p style=\"color:blue;\">The <code>filter()</code> function in Python helps us to remove elements from an iterable (e.g. list, tuple, dictionary) that do not satisfy a certain condition.</p>\n",
    "<p style=\"color:green;\">It takes two arguments: a function that checks if an element is <code>True</code> or <code>False</code>, and an iterable that we want to filter.</p>\n",
    "<p style=\"color:red;\">The <code>filter()</code> function gives us an iterator with only the elements from the iterable that passed the function's test.<span>&#128522;</span></p>"
   ]
  },
  {
   "cell_type": "markdown",
   "id": "f2ff1321",
   "metadata": {
    "hidden": true
   },
   "source": [
    "<p style=\"color:blue; font-family: Arial; font-size: 18x;\">For example, if you have a list of numbers and you want to filter out only the even numbers, you can use the <code>filter()</code> function with a lambda expression that checks if a number is divisible by 2:</p>\n",
    "<pre style=\"color:green; font-family: Courier New; font-size: 16px;\">\n",
    "numbers = [1, 2, 3, 4, 5, 6]\n",
    "even_numbers = filter(lambda x: x % 2 == 0, numbers)\n",
    "print(list(even_numbers)) # [2, 4, 6]\n",
    "</pre>\n",
    "<p style=\"color:red; font-family: Arial; font-size: 18x;\">In this example, the lambda expression <code>lambda x: x % 2 == 0</code> takes one argument <code>x</code> and returns <code>True</code> if <code>x</code> is divisible by 2 and <code>False</code> otherwise. The <code>filter()</code> function applies this expression to each element of the list <code>numbers</code> and returns an iterator with only those elements that are <code>True</code>. The print statement converts the iterator to a list and prints it out.<span>&#128522;</span></p>"
   ]
  },
  {
   "cell_type": "code",
   "execution_count": null,
   "id": "0737888c",
   "metadata": {
    "hidden": true
   },
   "outputs": [],
   "source": []
  },
  {
   "cell_type": "code",
   "execution_count": null,
   "id": "1ad636bf",
   "metadata": {
    "code_folding": [],
    "hidden": true
   },
   "outputs": [],
   "source": []
  },
  {
   "cell_type": "markdown",
   "id": "a70b68ac",
   "metadata": {
    "heading_collapsed": true,
    "hidden": true
   },
   "source": [
    "### <p style=color:#5d8aa8;background-color:#f2f3f4;padding:5px;border-radius:5px><span style=color:red>Example 1</span >:Write a program to filter out all the even numbers from a list of integers."
   ]
  },
  {
   "cell_type": "code",
   "execution_count": null,
   "id": "57771eb5",
   "metadata": {
    "hidden": true
   },
   "outputs": [],
   "source": []
  },
  {
   "cell_type": "code",
   "execution_count": null,
   "id": "ca775f65",
   "metadata": {
    "hidden": true
   },
   "outputs": [],
   "source": []
  },
  {
   "cell_type": "markdown",
   "id": "baa10d74",
   "metadata": {
    "heading_collapsed": true,
    "hidden": true
   },
   "source": [
    "### <p style=color:#5d8aa8;background-color:#f2f3f4;padding:5px;border-radius:5px><span style=color:red>Example 2</span >:Write a program to filter out all the odd numbers from a list of integers."
   ]
  },
  {
   "cell_type": "code",
   "execution_count": null,
   "id": "bfbd125e",
   "metadata": {
    "hidden": true
   },
   "outputs": [],
   "source": []
  },
  {
   "cell_type": "markdown",
   "id": "a5e18ee6",
   "metadata": {
    "heading_collapsed": true,
    "hidden": true
   },
   "source": [
    "### <p style=color:#5d8aa8;background-color:#f2f3f4;padding:5px;border-radius:5px><span style=color:red>Example 3</span >:Write a program to filter out all the words that have length less than 7 from a list of strings."
   ]
  },
  {
   "cell_type": "code",
   "execution_count": null,
   "id": "cc866ff1",
   "metadata": {
    "hidden": true
   },
   "outputs": [],
   "source": []
  },
  {
   "cell_type": "markdown",
   "id": "902a89f3",
   "metadata": {
    "heading_collapsed": true,
    "hidden": true
   },
   "source": [
    "### <p style=color:#5d8aa8;background-color:#f2f3f4;padding:5px;border-radius:5px><span style=color:red>Example 4</span >:Write a program to filter out all the words that start with a vowel from a list of strings."
   ]
  },
  {
   "cell_type": "code",
   "execution_count": null,
   "id": "d47f379f",
   "metadata": {
    "hidden": true
   },
   "outputs": [],
   "source": []
  },
  {
   "cell_type": "markdown",
   "id": "ea864cf4",
   "metadata": {
    "heading_collapsed": true,
    "hidden": true
   },
   "source": [
    "### <p style=color:#5d8aa8;background-color:#f2f3f4;padding:5px;border-radius:5px><span style=color:red>Example 5</span >:Write a program to filter out all the elements from a list of integers that are divisible by 3."
   ]
  },
  {
   "cell_type": "code",
   "execution_count": null,
   "id": "defccf06",
   "metadata": {
    "hidden": true
   },
   "outputs": [],
   "source": []
  },
  {
   "cell_type": "markdown",
   "id": "4ec28acb",
   "metadata": {
    "heading_collapsed": true,
    "hidden": true
   },
   "source": [
    "### <p style=color:#5d8aa8;background-color:#f2f3f4;padding:5px;border-radius:5px><span style=color:red>Example 6</span >:Write a program to filter out all the elements from a list of strings that contain the letter 'a'. "
   ]
  },
  {
   "cell_type": "code",
   "execution_count": null,
   "id": "e4298eba",
   "metadata": {
    "hidden": true
   },
   "outputs": [],
   "source": []
  },
  {
   "cell_type": "markdown",
   "id": "6e84c14d",
   "metadata": {
    "heading_collapsed": true,
    "hidden": true
   },
   "source": [
    "### <p style=color:#5d8aa8;background-color:#f2f3f4;padding:5px;border-radius:5px><span style=color:red>Example 7</span >:Write a program to filter out all the elements from a list of dictionaries that have a particular value for a specific key."
   ]
  },
  {
   "cell_type": "code",
   "execution_count": null,
   "id": "169354cc",
   "metadata": {
    "hidden": true
   },
   "outputs": [],
   "source": []
  },
  {
   "cell_type": "markdown",
   "id": "65d5b72c",
   "metadata": {
    "heading_collapsed": true,
    "hidden": true
   },
   "source": [
    "### <p style=color:#5d8aa8;background-color:#f2f3f4;padding:5px;border-radius:5px><span style=color:red>Example 8</span >:Write a program to filter out all the elements from a list of lists that have a length less than a specified number."
   ]
  },
  {
   "cell_type": "code",
   "execution_count": null,
   "id": "12fd063d",
   "metadata": {
    "hidden": true
   },
   "outputs": [],
   "source": []
  },
  {
   "cell_type": "code",
   "execution_count": null,
   "id": "3a2133c7",
   "metadata": {
    "hidden": true
   },
   "outputs": [],
   "source": []
  },
  {
   "cell_type": "markdown",
   "id": "43a9e31f",
   "metadata": {
    "heading_collapsed": true,
    "hidden": true
   },
   "source": [
    "## <p style=color:green>Map"
   ]
  },
  {
   "cell_type": "markdown",
   "id": "46815037",
   "metadata": {
    "code_folding": [],
    "hidden": true
   },
   "source": [
    "<p style=\"color:blue; font-family: Arial; font-size: 18p;\">The <code>map()</code> function in Python is a built-in function that allows you to apply a function to each item in an iterable (like a list or a dictionary) and returns a new iterable (a map object) that you can use in other parts of your code.</p>\n",
    "<pre style=\"color:green; font-family: Courier New; font-size: 16x;\">\n",
    "map(function, iterable[, iterable1[, iterable2[, ...]]])\n",
    "</pre>\n",
    "<p style=\"color:red; font-family: Arial; font-size: 18p;\">For example, if you have a list of numbers and you want to square each number, you can use the <code>map()</code> function with a lambda expression that takes one argument and returns its square:</p>\n",
    "<pre style=\"color:green; font-family: Courier New; font-size: 16p;\">\n",
    "numbers = [1, 2 ,3 ,4 ,5]\n",
    "squared_numbers = map(lambda x : x**2 , numbers)\n",
    "print(list(squared_numbers)) # [1 ,4 ,9 ,16 ,25]\n",
    "</pre>\n",
    "<p style=\"color:red; font-family: Arial; font-size: 18x;\">In this example,the lambda expression <code>lambda x : x**2</code> takes one argument <code>x</code>and returns its square.The <code>map()</code>function applies this expression to each element of the list <code>numbers</code>and returns amap object.The print statement converts themap objectto alistand prints it out.<span>&#128522;</span></p>"
   ]
  },
  {
   "cell_type": "code",
   "execution_count": null,
   "id": "2b7dd1f4",
   "metadata": {
    "hidden": true
   },
   "outputs": [],
   "source": []
  },
  {
   "cell_type": "markdown",
   "id": "3e431d86",
   "metadata": {
    "heading_collapsed": true,
    "hidden": true
   },
   "source": [
    "### <p style=color:#5d8aa8;background-color:#f2f3f4;padding:5px;border-radius:5px><span style=color:red>Example 1</span >:Squaring a list of numbers:\n",
    "\n"
   ]
  },
  {
   "cell_type": "code",
   "execution_count": null,
   "id": "287867f1",
   "metadata": {
    "hidden": true
   },
   "outputs": [],
   "source": []
  },
  {
   "cell_type": "markdown",
   "id": "b75e7ec7",
   "metadata": {
    "hidden": true
   },
   "source": [
    "### <p style=color:#5d8aa8;background-color:#f2f3f4;padding:5px;border-radius:5px><span style=color:red>Example 2</span >:Converting a list of strings to uppercase:\n",
    "\n"
   ]
  },
  {
   "cell_type": "code",
   "execution_count": null,
   "id": "7d6d3c6c",
   "metadata": {
    "hidden": true
   },
   "outputs": [],
   "source": []
  },
  {
   "cell_type": "code",
   "execution_count": null,
   "id": "d97436e9",
   "metadata": {
    "hidden": true
   },
   "outputs": [],
   "source": []
  },
  {
   "cell_type": "markdown",
   "id": "c7dd2cb9",
   "metadata": {
    "hidden": true
   },
   "source": [
    "### <p style=color:#5d8aa8;background-color:#f2f3f4;padding:5px;border-radius:5px><span style=color:red>Example 3</span >:Calculating the length of each word in a list of strings:"
   ]
  },
  {
   "cell_type": "code",
   "execution_count": null,
   "id": "ad984835",
   "metadata": {
    "hidden": true
   },
   "outputs": [],
   "source": []
  },
  {
   "cell_type": "markdown",
   "id": "86301a46",
   "metadata": {
    "hidden": true
   },
   "source": [
    "### <p style=color:#5d8aa8;background-color:#f2f3f4;padding:5px;border-radius:5px><span style=color:red>Example 4</span >:Multiplying elements of two lists together:\n",
    "\n"
   ]
  },
  {
   "cell_type": "code",
   "execution_count": null,
   "id": "6ca1607a",
   "metadata": {
    "hidden": true
   },
   "outputs": [],
   "source": []
  },
  {
   "cell_type": "markdown",
   "id": "df43654e",
   "metadata": {
    "hidden": true
   },
   "source": [
    "### <p style=color:#5d8aa8;background-color:#f2f3f4;padding:5px;border-radius:5px><span style=color:red>Example 5</span >:Creating a list of tuples by combining two lists:\n"
   ]
  },
  {
   "cell_type": "code",
   "execution_count": null,
   "id": "05707ce7",
   "metadata": {
    "hidden": true
   },
   "outputs": [],
   "source": []
  },
  {
   "cell_type": "markdown",
   "id": "f4929e45",
   "metadata": {
    "hidden": true
   },
   "source": [
    "### <p style=color:#5d8aa8;background-color:#f2f3f4;padding:5px;border-radius:5px><span style=color:red>Example 6</span >:Calculating the square root of each number in a list:\n",
    "\n"
   ]
  },
  {
   "cell_type": "code",
   "execution_count": null,
   "id": "0c548713",
   "metadata": {
    "hidden": true
   },
   "outputs": [],
   "source": []
  },
  {
   "cell_type": "markdown",
   "id": "2f29d35c",
   "metadata": {
    "hidden": true
   },
   "source": [
    "### <p style=color:#5d8aa8;background-color:#f2f3f4;padding:5px;border-radius:5px><span style=color:red>Example 7</span >:Reversing a list of strings:\n",
    "\n"
   ]
  },
  {
   "cell_type": "code",
   "execution_count": null,
   "id": "bde8e15e",
   "metadata": {
    "hidden": true
   },
   "outputs": [],
   "source": []
  },
  {
   "cell_type": "markdown",
   "id": "d4fa1531",
   "metadata": {
    "hidden": true
   },
   "source": [
    "### <p style=color:#5d8aa8;background-color:#f2f3f4;padding:5px;border-radius:5px><span style=color:red>Example 8</span >:Converting a list of integers to binary:"
   ]
  },
  {
   "cell_type": "code",
   "execution_count": null,
   "id": "fb78caad",
   "metadata": {
    "hidden": true
   },
   "outputs": [],
   "source": []
  },
  {
   "cell_type": "markdown",
   "id": "e4286536",
   "metadata": {
    "heading_collapsed": true
   },
   "source": [
    "# <p style=\"color:purple\">Recursion"
   ]
  },
  {
   "cell_type": "markdown",
   "id": "9c267667",
   "metadata": {
    "hidden": true
   },
   "source": [
    "Once upon a time, there was a curious little girl named Alice 👧. Alice loved solving 🧩puzzles and riddles🎲, but one day she encountered a particularly tricky problem that left her stumped. It was a puzzle that required her to count the number of 🍃leaves on a large tree🌳 in the forest🌳🌲🌳🌲🌳🌲🌳🌲\n",
    "\n",
    "Alice had never encountered a tree this big before, and she soon realized that counting every single leaf would take her days, if not weeks. As she pondered what to do, she noticed that the tree had a pattern: 🔍📏🔢each branch split into smaller branches, which split into even smaller branches, and so on, until there were no more branches left.\n",
    "\n",
    "Suddenly, Alice had an idea💡. She started at the top of the tree and began counting the leaves on the first branch. When she finished, she counted the leaves on the next branch, and the next, until she reached the end of the first level of branches.\n",
    "\n",
    "But instead of continuing down each branch, Alice went back to the beginning and started again. This time, when she reached the first branch, she counted the leaves on each of the smaller branches that stemmed from it. She repeated this process again and again, each time going deeper and deeper into the tree until she reached the very end.\n",
    "\n",
    "As Alice made her way back out of the forest, triumphant at having counted all the leaves on the tree, she realized that what she had done was an example of recursion🔁. She had solved the puzzle by breaking it down into smaller and smaller pieces, and then solving each piece in the same way until she had a complete solution✅🆗.\n",
    "\n",
    "From that day forward, Alice loved recursion and used it to solve many more puzzles and problems. And whenever she saw a big tree, she would smile to herself, knowing that even the biggest and most complex problems could be solved with a little bit of recursion😊."
   ]
  },
  {
   "cell_type": "markdown",
   "id": "633a3780",
   "metadata": {
    "hidden": true
   },
   "source": [
    "<h2 style=\"color:purple\">Recursion Syntax in Python</h2>\n",
    "Recursion is a powerful programming technique that involves a function calling itself. To write a recursive function in Python, you need to follow these steps:\n",
    "\n",
    "<ol>\n",
    "  <li style=\"color:blue\">Define a base case for the function.</li>\n",
    "  <li style=\"color:green\">Write code to handle the base case.</li>\n",
    "  <li style=\"color:red\">Define a recursive case for the function.</li>\n",
    "  <li style=\"color:#8a2be2\">Call the function again with a modified input.</li>\n",
    "</ol>"
   ]
  },
  {
   "cell_type": "markdown",
   "id": "56b1699a",
   "metadata": {
    "hidden": true
   },
   "source": [
    "## <span style=color:red>Example 1:</span> Recursive function in Python that calculates the factorial of a number:"
   ]
  },
  {
   "cell_type": "code",
   "execution_count": null,
   "id": "5eaa0993",
   "metadata": {
    "hidden": true
   },
   "outputs": [],
   "source": []
  },
  {
   "cell_type": "markdown",
   "id": "57e046fe",
   "metadata": {
    "hidden": true
   },
   "source": [
    "## <span style=color:red>Example 2:</span> Recursive function to calculate the nth Fibonacci number. "
   ]
  },
  {
   "cell_type": "code",
   "execution_count": null,
   "id": "069f5c2c",
   "metadata": {
    "hidden": true
   },
   "outputs": [],
   "source": []
  },
  {
   "cell_type": "code",
   "execution_count": null,
   "id": "cdb515d0",
   "metadata": {
    "hidden": true
   },
   "outputs": [],
   "source": []
  },
  {
   "cell_type": "markdown",
   "id": "92288e3e",
   "metadata": {
    "hidden": true
   },
   "source": [
    "## <span style=color:red>Example 3:</span> Recursive function to reverse a string."
   ]
  },
  {
   "cell_type": "code",
   "execution_count": 22,
   "id": "d5528a35",
   "metadata": {
    "hidden": true
   },
   "outputs": [],
   "source": [
    "def reverse_string(s):\n",
    "    # base case: if the string is empty, return it\n",
    "    if not s:\n",
    "        return s\n",
    "    # recursive case: return the last character followed by the reversed rest of the string\n",
    "    else:\n",
    "        return s[-1] + reverse_string(s[:-1])"
   ]
  },
  {
   "cell_type": "code",
   "execution_count": null,
   "id": "eba35d15",
   "metadata": {
    "hidden": true
   },
   "outputs": [],
   "source": []
  },
  {
   "cell_type": "code",
   "execution_count": null,
   "id": "e33d5162",
   "metadata": {
    "hidden": true
   },
   "outputs": [],
   "source": []
  },
  {
   "cell_type": "code",
   "execution_count": null,
   "id": "f6e015a1",
   "metadata": {
    "hidden": true
   },
   "outputs": [],
   "source": []
  },
  {
   "cell_type": "code",
   "execution_count": null,
   "id": "e33dea96",
   "metadata": {
    "hidden": true
   },
   "outputs": [],
   "source": []
  },
  {
   "cell_type": "code",
   "execution_count": null,
   "id": "a65f26dc",
   "metadata": {
    "hidden": true
   },
   "outputs": [],
   "source": []
  },
  {
   "cell_type": "code",
   "execution_count": null,
   "id": "228a4742",
   "metadata": {
    "hidden": true
   },
   "outputs": [],
   "source": []
  },
  {
   "cell_type": "code",
   "execution_count": null,
   "id": "122b9fb0",
   "metadata": {
    "hidden": true
   },
   "outputs": [],
   "source": []
  }
 ],
 "metadata": {
  "kernelspec": {
   "display_name": "Python 3 (ipykernel)",
   "language": "python",
   "name": "python3"
  },
  "language_info": {
   "codemirror_mode": {
    "name": "ipython",
    "version": 3
   },
   "file_extension": ".py",
   "mimetype": "text/x-python",
   "name": "python",
   "nbconvert_exporter": "python",
   "pygments_lexer": "ipython3",
   "version": "3.8.16"
  },
  "vp": {
   "vp_config_version": "1.0.0",
   "vp_menu_width": 273,
   "vp_note_display": false,
   "vp_note_width": 0,
   "vp_position": {
    "width": 278
   },
   "vp_section_display": false,
   "vp_signature": "VisualPython"
  }
 },
 "nbformat": 4,
 "nbformat_minor": 5
}
