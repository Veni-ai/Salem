{
 "cells": [
  {
   "cell_type": "markdown",
   "id": "e649c34f",
   "metadata": {},
   "source": [
    "<ol><li><p><strong>Topic: Variables</strong><br>\n",
    "Case Study: \"Temperature Converter\"\n",
    "Description: Develop a Python program that converts temperature from Celsius to Fahrenheit and vice versa. The program should ask the user for the temperature and the unit of measurement, and then convert it to the other unit.</p></li><br>\n",
    "    \n",
    "<li><p><strong>Topic: Collections</strong><br>\n",
    "Case Study: \"Grocery List Organizer\"\n",
    "Description: Develop a Python program that organizes a grocery list based on categories like produce, dairy, and meat. The program should ask the user for the grocery items and their categories, and then group them together in a formatted output.</p></li><br>\n",
    "    \n",
    "<li><p><strong>Topic: Control Flow</strong><br>\n",
    "Case Study: \"Grade Calculator\"\n",
    "Description: Develop a Python program that calculates a student's final grade based on their scores on various assignments and exams. The program should ask the user for the weights and scores of each item, and then calculate and output the final grade.</p></li><br>\n",
    "    \n",
    "<li><p><strong>Topic: Functions</strong><br>\n",
    "Case Study: \"Word Counter\"\n",
    "Description: Develop a Python program that counts the number of words in a sentence or paragraph. The program should ask the user for the input text and then output the number of words.</p></li>"
   ]
  },
  {
   "cell_type": "code",
   "execution_count": 8,
   "id": "eb51ef33",
   "metadata": {},
   "outputs": [],
   "source": [
    "def change_temp(temp):\n",
    "    degree = int(temp[:-1])\n",
    "    i_convention = temp[-1]\n",
    "\n",
    "    if i_convention.upper() == \"C\":\n",
    "        result = int(round((9 * degree) / 5 + 32))\n",
    "        o_convention = \"Fahrenheit\"\n",
    "    elif i_convention.upper() == \"F\":\n",
    "        result = int(round((degree - 32) * 5 / 9))\n",
    "        o_convention = \"Celsius\"\n",
    "    else:\n",
    "        print(\"Input proper convention.\")\n",
    "        quit()\n",
    "    print(\"The temperature in\", o_convention, \"is\", result, \"degrees.\")\n"
   ]
  },
  {
   "cell_type": "code",
   "execution_count": 9,
   "id": "288f4eec",
   "metadata": {},
   "outputs": [
    {
     "name": "stdout",
     "output_type": "stream",
     "text": [
      "Input the  temperature you like to convert? (e.g., 45F, 102C etc.) : 46F\n",
      "The temperature in Celsius is 8 degrees.\n"
     ]
    }
   ],
   "source": [
    "temp = input(\"Input the  temperature you like to convert? (e.g., 45F, 102C etc.) : \")\n",
    "change_temp(temp)"
   ]
  },
  {
   "cell_type": "code",
   "execution_count": 1,
   "id": "ee745eef",
   "metadata": {},
   "outputs": [],
   "source": [
    "def grocerylist(item,category):\n",
    "    grocery_list = {}\n",
    "\n",
    "    while True:\n",
    "        if not item:\n",
    "            break\n",
    "        if category not in grocery_list:\n",
    "            grocery_list[category] = []\n",
    "        grocery_list[category].append(item)\n",
    "\n",
    "    print(\"\\n--- Grocery List ---\")\n",
    "    for category, items in grocery_list.items():\n",
    "        print(f\"\\n{category.upper()}\")\n",
    "        for item in items:\n",
    "            print(f\"- {item}\")"
   ]
  },
  {
   "cell_type": "code",
   "execution_count": null,
   "id": "ff034345",
   "metadata": {},
   "outputs": [
    {
     "name": "stdout",
     "output_type": "stream",
     "text": [
      "Enter grocery item (press enter to quit): milk\n",
      "Enter category: diary\n"
     ]
    }
   ],
   "source": [
    "item = input(\"Enter grocery item (press enter to quit): \")\n",
    "category = input(\"Enter category: \")\n",
    "grocerylist(item,category)"
   ]
  },
  {
   "cell_type": "code",
   "execution_count": null,
   "id": "3ff61d3e",
   "metadata": {},
   "outputs": [],
   "source": [
    "print(\"Enter Marks Obtained in 5 Subjects: \")\n",
    "markOne = int(input())\n",
    "markTwo = int(input())\n",
    "markThree = int(input())\n",
    "markFour = int(input())\n",
    "markFive = int(input())\n",
    "\n",
    "tot = markOne+markTwo+markThree+markFour+markFive\n",
    "avg = tot/5\n",
    "\n",
    "if avg>=91 and avg<=100:\n",
    "    print(\"Your Grade is A1\")\n",
    "elif avg>=81 and avg<91:\n",
    "    print(\"Your Grade is A2\")\n",
    "elif avg>=71 and avg<81:\n",
    "    print(\"Your Grade is B1\")\n",
    "elif avg>=61 and avg<71:\n",
    "    print(\"Your Grade is B2\")\n",
    "elif avg>=51 and avg<61:\n",
    "    print(\"Your Grade is C1\")\n",
    "elif avg>=41 and avg<51:\n",
    "    print(\"Your Grade is C2\")\n",
    "elif avg>=33 and avg<41:\n",
    "    print(\"Your Grade is D\")\n",
    "elif avg>=21 and avg<33:\n",
    "    print(\"Your Grade is E1\")\n",
    "elif avg>=0 and avg<21:\n",
    "    print(\"Your Grade is E2\")\n",
    "else:\n",
    "    print(\"Invalid Input!\")"
   ]
  },
  {
   "cell_type": "code",
   "execution_count": null,
   "id": "b04e5d50",
   "metadata": {},
   "outputs": [],
   "source": [
    "text = input(\"Enter a sentence or paragraph: \")\n",
    "\n",
    "words = text.split()\n",
    "num_words = len(words)\n",
    "\n",
    "print(f\"The number of words is: {num_words}\")"
   ]
  },
  {
   "cell_type": "code",
   "execution_count": null,
   "id": "e326afa6",
   "metadata": {},
   "outputs": [],
   "source": []
  }
 ],
 "metadata": {
  "kernelspec": {
   "display_name": "Python 3 (ipykernel)",
   "language": "python",
   "name": "python3"
  },
  "language_info": {
   "codemirror_mode": {
    "name": "ipython",
    "version": 3
   },
   "file_extension": ".py",
   "mimetype": "text/x-python",
   "name": "python",
   "nbconvert_exporter": "python",
   "pygments_lexer": "ipython3",
   "version": "3.8.16"
  }
 },
 "nbformat": 4,
 "nbformat_minor": 5
}
