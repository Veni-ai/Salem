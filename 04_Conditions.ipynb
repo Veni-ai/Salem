{
 "cells": [
  {
   "cell_type": "markdown",
   "id": "9c8b509b",
   "metadata": {},
   "source": [
    "# Easy Level"
   ]
  },
  {
   "cell_type": "markdown",
   "id": "d54872fb",
   "metadata": {},
   "source": [
    "<ol><li>Check if a number is positive or negative.</li><li>Check if a number is even or odd.</li><li>Check if a number is divisible by another number.</li><li>Check if a string is empty or not.</li><li>Check if a string contains a specific substring.</li><li>Check if a list contains a specific element.</li><li>Check if a list is empty or not.</li><li>Check if two numbers are equal.</li><li>Check if two strings are equal.</li><li>Check if two lists are equal.</li></ol>"
   ]
  },
  {
   "cell_type": "code",
   "execution_count": 8,
   "id": "7d19baba",
   "metadata": {},
   "outputs": [
    {
     "name": "stdout",
     "output_type": "stream",
     "text": [
      "Enter a number: -5\n",
      "The number is negative.\n"
     ]
    }
   ],
   "source": [
    "#Check if a number is positive or negative.\n",
    "\n",
    "num = int(input(\"Enter a number: \"))\n",
    "\n",
    "if num > 0:\n",
    "    print(\"The number is positive.\")\n",
    "elif num == 0:\n",
    "    print(\"The number is zero.\")\n",
    "else:\n",
    "    print(\"The number is negative.\")\n",
    "  "
   ]
  },
  {
   "cell_type": "code",
   "execution_count": 11,
   "id": "cc8cbcab",
   "metadata": {},
   "outputs": [
    {
     "name": "stdout",
     "output_type": "stream",
     "text": [
      "Enter a number: 21\n",
      "The number is odd.\n"
     ]
    }
   ],
   "source": [
    "# Check if a number is even or odd.\n",
    "\n",
    "num = int(input(\"Enter a number: \"))\n",
    "\n",
    "if num % 2 == 0:\n",
    "    print(\"The number is even.\")\n",
    "else:\n",
    "    print(\"The number is odd.\")"
   ]
  },
  {
   "cell_type": "code",
   "execution_count": 18,
   "id": "ebd8ead8",
   "metadata": {},
   "outputs": [
    {
     "name": "stdout",
     "output_type": "stream",
     "text": [
      "Enter the number whose divisibility needs to be checked:5\n",
      "Enter the number with which divisibility needs to be checked:2\n",
      "The number is not divisible.\n"
     ]
    }
   ],
   "source": [
    "num = int(input(\"Enter the number whose divisibility needs to be checked:\"))\n",
    "div = int(input(\"Enter the number with which divisibility needs to be checked:\"))\n",
    "\n",
    "if num%div == 0:\n",
    "      print (\"The number is divisible.\")\n",
    "else:\n",
    "     print (\"The number is not divisible.\")\n"
   ]
  },
  {
   "cell_type": "code",
   "execution_count": 21,
   "id": "d310a978",
   "metadata": {},
   "outputs": [
    {
     "name": "stdout",
     "output_type": "stream",
     "text": [
      "Enter a string: pickle\n",
      "The string is not empty\n"
     ]
    }
   ],
   "source": [
    "#Check if a string is empty or not.\n",
    "\n",
    "# to check if string is empty\n",
    "# using len()\n",
    " \n",
    "# initializing string\n",
    "test_str1 = input(\"Enter a string: \")\n",
    " \n",
    "# checking if string is empty\n",
    "\n",
    "if(len(test_str1) == 0):\n",
    "    print(\"The string is empty\")\n",
    "else:\n",
    "    print(\"The string is not empty\")\n"
   ]
  },
  {
   "cell_type": "code",
   "execution_count": 25,
   "id": "90ddb803",
   "metadata": {},
   "outputs": [
    {
     "name": "stdout",
     "output_type": "stream",
     "text": [
      "Enter the string:Hello world\n",
      "Enter the sub_string:is\n",
      "The sub_string is not present in the string.\n"
     ]
    }
   ],
   "source": [
    "#Check if a string contains a specific substring.\n",
    "\n",
    "str1 = input(\"Enter the string:\")\n",
    "str2 = input(\"Enter the sub_string:\")\n",
    "\n",
    "if str2 in str1:\n",
    "      print (\"The sub_string is present in String.\")\n",
    "else:\n",
    "     print (\"The sub_string is not present in the string.\")\n"
   ]
  },
  {
   "cell_type": "code",
   "execution_count": 2,
   "id": "51943bc5",
   "metadata": {},
   "outputs": [
    {
     "name": "stdout",
     "output_type": "stream",
     "text": [
      "The number is not present in the list.\n"
     ]
    }
   ],
   "source": [
    "#Check if a list contains a specific element.\n",
    "\n",
    "list1 = [1,3,5,7,9]\n",
    "sd = 0\n",
    "\n",
    "if sd in list1:\n",
    "      print (\"The number is present in the list.\")\n",
    "else:\n",
    "     print (\"The number is not present in the list.\")\n"
   ]
  },
  {
   "cell_type": "code",
   "execution_count": 4,
   "id": "b500983e",
   "metadata": {},
   "outputs": [
    {
     "name": "stdout",
     "output_type": "stream",
     "text": [
      "The list is empty.\n"
     ]
    }
   ],
   "source": [
    "#Check if a list is empty or not.\n",
    "\n",
    "list1 = []\n",
    "\n",
    "\n",
    "if len(list1) == 0:\n",
    "      print (\"The list is empty.\")\n",
    "else:\n",
    "     print (\"The list is not empty.\")\n"
   ]
  },
  {
   "cell_type": "code",
   "execution_count": 6,
   "id": "342f4882",
   "metadata": {},
   "outputs": [
    {
     "name": "stdout",
     "output_type": "stream",
     "text": [
      "Both numbers are equal\n"
     ]
    }
   ],
   "source": [
    "#Check if two numbers are equal.\n",
    "n1 =20\n",
    "n2 =20\n",
    "if n1 == n2:\n",
    "    print('Both numbers are equal')\n",
    "else:\n",
    "    print('Both numbers are not equal')"
   ]
  },
  {
   "cell_type": "code",
   "execution_count": 8,
   "id": "f9785a72",
   "metadata": {},
   "outputs": [
    {
     "name": "stdout",
     "output_type": "stream",
     "text": [
      "Both strings are equal\n"
     ]
    }
   ],
   "source": [
    "#Check if two strings are equal.\n",
    "str1 ='abc'\n",
    "str2 ='abc'\n",
    "if str1 == str2:\n",
    "    print('Both strings are equal')\n",
    "else:\n",
    "    print('Both strings are not equal')"
   ]
  },
  {
   "cell_type": "code",
   "execution_count": 10,
   "id": "1d2e7ed8",
   "metadata": {},
   "outputs": [
    {
     "name": "stdout",
     "output_type": "stream",
     "text": [
      "Both lists are equal\n"
     ]
    }
   ],
   "source": [
    "#Check if two lists are equal.\n",
    "list1 = [1,3,5,7]\n",
    "list2 = [1,3,5,7]\n",
    "\n",
    "if list1 == list2:\n",
    "    print('Both lists are equal')\n",
    "else:\n",
    "    print('Both lists are not equal')"
   ]
  },
  {
   "cell_type": "markdown",
   "id": "281569a7",
   "metadata": {},
   "source": [
    "# Medium Level"
   ]
  },
  {
   "cell_type": "markdown",
   "id": "9c268a6e",
   "metadata": {},
   "source": [
    "11.Check if a number is between a range of numbers.\n",
    "12.Check if a number is prime or not.\n",
    "13.Check if a string is a palindrome or not.\n",
    "14.Check if a list is sorted or not.\n",
    "15.Check if a list is a sublist of another list.\n",
    "16.Check if a dictionary contains a specific key.\n",
    "17.Check if a dictionary contains a specific value.\n",
    "18.Check if a dictionary is empty or not.\n",
    "19.Check if two dictionaries are equal.\n",
    "20.Check if a given year is a leap year or not."
   ]
  },
  {
   "cell_type": "code",
   "execution_count": 19,
   "id": "ffee3c2a",
   "metadata": {},
   "outputs": [
    {
     "name": "stdout",
     "output_type": "stream",
     "text": [
      "True\n"
     ]
    }
   ],
   "source": [
    "#Check if a number is between a range of numbers.\n",
    "print(25 in range(15, 36)) "
   ]
  },
  {
   "cell_type": "code",
   "execution_count": 20,
   "id": "a027a61d",
   "metadata": {},
   "outputs": [
    {
     "name": "stdout",
     "output_type": "stream",
     "text": [
      "11 is a prime number\n"
     ]
    }
   ],
   "source": [
    "#Check if a number is prime or not. \n",
    "num = 11\n",
    "# If given number is greater than 1\n",
    "if num > 1:\n",
    "    # Iterate from 2 to n / 2\n",
    "    for i in range(2, int(num/2)+1):\n",
    "        # If num is divisible by any number between\n",
    "        # 2 and n / 2, it is not prime\n",
    "        if (num % i) == 0:\n",
    "            print(num, \"is not a prime number\")\n",
    "            break\n",
    "    else:\n",
    "        print(num, \"is a prime number\")\n",
    "else:\n",
    "    print(num, \"is not a prime number\")"
   ]
  },
  {
   "cell_type": "code",
   "execution_count": 21,
   "id": "573b8ae3",
   "metadata": {},
   "outputs": [
    {
     "name": "stdout",
     "output_type": "stream",
     "text": [
      "Yes\n"
     ]
    }
   ],
   "source": [
    "#Check if a string is a palindrome or not.\n",
    "# function which return reverse of a string\n",
    "  \n",
    "def isPalindrome(s):\n",
    "    return s == s[::-1]\n",
    "  \n",
    "  \n",
    "# Driver code\n",
    "s = \"malayalam\"\n",
    "ans = isPalindrome(s)\n",
    "  \n",
    "if ans:\n",
    "    print(\"Yes\")\n",
    "else:\n",
    "    print(\"No\")"
   ]
  },
  {
   "cell_type": "code",
   "execution_count": 26,
   "id": "7bf8d7a1",
   "metadata": {},
   "outputs": [
    {
     "name": "stdout",
     "output_type": "stream",
     "text": [
      "List is not sorted\n"
     ]
    }
   ],
   "source": [
    "#Check if a list is sorted or not.\n",
    "list1 = [1,3,59,7,8]\n",
    "list2 = sorted(list1)\n",
    "if list1 == list2:\n",
    "    print('List is sorted')\n",
    "else:\n",
    "    print ('List is not sorted')"
   ]
  },
  {
   "cell_type": "code",
   "execution_count": 30,
   "id": "33dda6cc",
   "metadata": {},
   "outputs": [
    {
     "name": "stdout",
     "output_type": "stream",
     "text": [
      "List2 is not a sublist in List1\n"
     ]
    }
   ],
   "source": [
    "#Check if a list is a sublist of another list.\n",
    "#Check if a list is sorted or not.\n",
    "list1 = [1,3,5,9,7,8]\n",
    "list2 = [1,3,5]\n",
    "if list2 in list1: \n",
    "    print('List2 is sublist in List1 ')\n",
    "else:\n",
    "    print ('List2 is not a sublist in List1')"
   ]
  },
  {
   "cell_type": "code",
   "execution_count": 33,
   "id": "11096c53",
   "metadata": {},
   "outputs": [
    {
     "name": "stdout",
     "output_type": "stream",
     "text": [
      "Given list  ['Mon', 'Tue', 5, 'Sat', 9]\n",
      "Given sublist ['Tue', 5, 9]\n",
      "Sublist is part of bigger list\n"
     ]
    }
   ],
   "source": [
    "#Check if a list is a sublist of another list. \n",
    "Alist = ['Mon','Tue', 5, 'Sat', 9]\n",
    "Asub_list = ['Tue',5,9]\n",
    "\n",
    "# Given list and sublist\n",
    "print(\"Given list \",Alist)\n",
    "print(\"Given sublist\",Asub_list)\n",
    "\n",
    "# With all\n",
    "if(set(Asub_list).issubset(set(Alist))):\n",
    "   print(\"Sublist is part of bigger list\")\n",
    "else:\n",
    "   print(\"Sublist is not part of bigger list\")"
   ]
  },
  {
   "cell_type": "code",
   "execution_count": 36,
   "id": "f61fe3c9",
   "metadata": {},
   "outputs": [
    {
     "name": "stdout",
     "output_type": "stream",
     "text": [
      "Key exists\n"
     ]
    }
   ],
   "source": [
    "#Check if a dictionary contains a specific key.\n",
    "dict_1 = {\"a\": 1, \"b\":2, \"c\":3}\n",
    "if \"a\" in dict_1:\n",
    "    print(\"Key exists\")\n",
    "else:\n",
    "    print(\"Key does not exist\")\n"
   ]
  },
  {
   "cell_type": "code",
   "execution_count": 4,
   "id": "06664eed",
   "metadata": {},
   "outputs": [
    {
     "name": "stdout",
     "output_type": "stream",
     "text": [
      "Value exists\n"
     ]
    }
   ],
   "source": [
    "#.Check if a dictionary contains a specific value.\n",
    "dict_2 = {\"a\": 1, \"b\":2, \"c\":3}\n",
    "dict_values = dict_2.values()\n",
    "if 1 in dict_values:\n",
    "    print(\"Value exists\")\n",
    "else:\n",
    "    print(\"Value does not exist\")"
   ]
  },
  {
   "cell_type": "code",
   "execution_count": 5,
   "id": "2b051420",
   "metadata": {},
   "outputs": [
    {
     "name": "stdout",
     "output_type": "stream",
     "text": [
      "Dictionary is empty\n"
     ]
    }
   ],
   "source": [
    "#Check if a dictionary is empty or not.\n",
    "dict_2 = {}\n",
    "\n",
    "if dict_2:\n",
    "    print(\"Dictionary is not empty\")\n",
    "else:\n",
    "    print(\"Dictionary is empty\")"
   ]
  },
  {
   "cell_type": "code",
   "execution_count": 6,
   "id": "2c248ea1",
   "metadata": {},
   "outputs": [
    {
     "name": "stdout",
     "output_type": "stream",
     "text": [
      "Dictionaries are equal\n"
     ]
    }
   ],
   "source": [
    "#Check if two dictionaries are equal.\n",
    "dict_1 = {\"a\": 1, \"b\":2, \"c\":3}\n",
    "dict_2 = {\"a\": 1, \"b\":2, \"c\":3}\n",
    "\n",
    "if dict_1 == dict_2:\n",
    "    print(\"Dictionaries are equal\")\n",
    "else:\n",
    "    print(\"Dictionaries are not equal\")"
   ]
  },
  {
   "cell_type": "code",
   "execution_count": 11,
   "id": "d680dff4",
   "metadata": {},
   "outputs": [
    {
     "name": "stdout",
     "output_type": "stream",
     "text": [
      "Enter any year that is to be checked for leap year: 2001\n",
      "It is not a leap year\n"
     ]
    }
   ],
   "source": [
    "#Check if a given year is a leap year or not.\n",
    "year = int (input (\"Enter any year that is to be checked for leap year: \"))\n",
    "\n",
    "if (year % 4) == 0:                       \n",
    "     print (\"The given year is a leap year\")\n",
    "else:     \n",
    "     print (\"It is not a leap year\")"
   ]
  },
  {
   "cell_type": "markdown",
   "id": "09b9ca52",
   "metadata": {},
   "source": [
    "# Difficult Level"
   ]
  },
  {
   "cell_type": "markdown",
   "id": "146a47ff",
   "metadata": {},
   "source": [
    "<ol start=\"21\"><li>Check if a string is a valid email address.</li><li>Check if a string is a valid URL.</li><li>Check if a string is a valid IPv4 address.</li><li>Check if a string is a valid IPv6 address.</li><li>Check if a list of numbers is sorted in descending order.</li><li>Check if a list of strings is sorted in alphabetical order.</li><li>Check if a list of dates is sorted in chronological order.</li><li>Check if a string contains only alphanumeric characters.</li><li>Check if a string contains only lowercase or uppercase letters.</li><li>Check if a given matrix is symmetric.</li></ol>"
   ]
  },
  {
   "cell_type": "code",
   "execution_count": null,
   "id": "e33d2deb",
   "metadata": {},
   "outputs": [],
   "source": []
  }
 ],
 "metadata": {
  "kernelspec": {
   "display_name": "Python 3 (ipykernel)",
   "language": "python",
   "name": "python3"
  },
  "language_info": {
   "codemirror_mode": {
    "name": "ipython",
    "version": 3
   },
   "file_extension": ".py",
   "mimetype": "text/x-python",
   "name": "python",
   "nbconvert_exporter": "python",
   "pygments_lexer": "ipython3",
   "version": "3.8.16"
  }
 },
 "nbformat": 4,
 "nbformat_minor": 5
}
